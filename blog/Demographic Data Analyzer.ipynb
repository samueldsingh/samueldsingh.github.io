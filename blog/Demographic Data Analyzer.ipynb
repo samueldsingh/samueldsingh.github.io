{
 "cells": [
  {
   "cell_type": "markdown",
   "id": "0c3e5e81",
   "metadata": {},
   "source": [
    "# Demographic Data Analyzer"
   ]
  },
  {
   "cell_type": "markdown",
   "id": "93d703dd",
   "metadata": {},
   "source": [
    "We will analyze demographic data using Pandas. You have a dataset of demographic data that was extracted from the 1994 Census database. We will use Pandas to answer some of the question like:\n",
    "- How many people of each race are represented in this dataset? This should be a Pandas series with race names as the index labels. (race column)\n",
    "- What is the average age of men?\n",
    "- What is the percentage of people who have a Bachelor's degree?\n",
    "- What percentage of people with advanced education (Bachelors, Masters, or Doctorate) make more than 50K?\n",
    "- What percentage of people without advanced education make more than 50K?\n",
    "- What is the minimum number of hours a person works per week?\n",
    "- What percentage of the people who work the minimum number of hours per week have a salary of more than 50K?\n",
    "- What country has the highest percentage of people that earn >50K and what is that percentage?\n",
    "- Identify the most popular occupation for those who earn >50K in India."
   ]
  },
  {
   "cell_type": "markdown",
   "id": "4038fbd4",
   "metadata": {},
   "source": [
    "First import the pandas library"
   ]
  },
  {
   "cell_type": "code",
   "execution_count": 1,
   "id": "dd6ee18a",
   "metadata": {},
   "outputs": [],
   "source": [
    "import pandas as pd"
   ]
  },
  {
   "cell_type": "code",
   "execution_count": 2,
   "id": "79cd695c",
   "metadata": {},
   "outputs": [],
   "source": [
    "df = pd.read_csv(r\"C:\\Users\\*****\\Downloads\\adult.data.csv\")"
   ]
  },
  {
   "cell_type": "markdown",
   "id": "22741362",
   "metadata": {},
   "source": [
    "How many of each race are represented in this dataset? This should be a Pandas series with race names as the index labels."
   ]
  },
  {
   "cell_type": "markdown",
   "id": "4cdae550",
   "metadata": {},
   "source": [
    "What is the average age of men?"
   ]
  },
  {
   "cell_type": "code",
   "execution_count": 3,
   "id": "21bacff7",
   "metadata": {},
   "outputs": [
    {
     "name": "stdout",
     "output_type": "stream",
     "text": [
      "Average age of men: 39.4\n"
     ]
    }
   ],
   "source": [
    "average_age_men = df[df[\"sex\"] == \"Male\"][\"age\"].mean().round(1)\n",
    "print('Average age of men:', average_age_men)"
   ]
  },
  {
   "cell_type": "markdown",
   "id": "7d6ca9d5",
   "metadata": {},
   "source": [
    "What is the percentage of people who have a Bachelor's degree?"
   ]
  },
  {
   "cell_type": "code",
   "execution_count": 4,
   "id": "edd8ffb7",
   "metadata": {},
   "outputs": [
    {
     "name": "stdout",
     "output_type": "stream",
     "text": [
      "Percent of people with bachelors degree: 16.4\n"
     ]
    }
   ],
   "source": [
    "bachelor = df['education'] == 'Bachelors'    #select the education column where the value is 'Bachelors'\n",
    "bachelor_total = df.loc[bachelor].value_counts().sum()   #.loc retrieves the data based on 'labels'\n",
    "educated = df['education'].value_counts().sum()\n",
    "percentage_bachelors = round(bachelor_total * 100 / educated, 1)\n",
    "print('Percent of people with bachelors degree:',percentage_bachelors)"
   ]
  },
  {
   "cell_type": "code",
   "execution_count": 5,
   "id": "70ad6a5e",
   "metadata": {},
   "outputs": [
    {
     "data": {
      "text/html": [
       "<div>\n",
       "<style scoped>\n",
       "    .dataframe tbody tr th:only-of-type {\n",
       "        vertical-align: middle;\n",
       "    }\n",
       "\n",
       "    .dataframe tbody tr th {\n",
       "        vertical-align: top;\n",
       "    }\n",
       "\n",
       "    .dataframe thead th {\n",
       "        text-align: right;\n",
       "    }\n",
       "</style>\n",
       "<table border=\"1\" class=\"dataframe\">\n",
       "  <thead>\n",
       "    <tr style=\"text-align: right;\">\n",
       "      <th></th>\n",
       "      <th>age</th>\n",
       "      <th>workclass</th>\n",
       "      <th>fnlwgt</th>\n",
       "      <th>education</th>\n",
       "      <th>education-num</th>\n",
       "      <th>marital-status</th>\n",
       "      <th>occupation</th>\n",
       "      <th>relationship</th>\n",
       "      <th>race</th>\n",
       "      <th>sex</th>\n",
       "      <th>capital-gain</th>\n",
       "      <th>capital-loss</th>\n",
       "      <th>hours-per-week</th>\n",
       "      <th>native-country</th>\n",
       "      <th>salary</th>\n",
       "    </tr>\n",
       "  </thead>\n",
       "  <tbody>\n",
       "    <tr>\n",
       "      <th>0</th>\n",
       "      <td>39</td>\n",
       "      <td>State-gov</td>\n",
       "      <td>77516</td>\n",
       "      <td>Bachelors</td>\n",
       "      <td>13</td>\n",
       "      <td>Never-married</td>\n",
       "      <td>Adm-clerical</td>\n",
       "      <td>Not-in-family</td>\n",
       "      <td>White</td>\n",
       "      <td>Male</td>\n",
       "      <td>2174</td>\n",
       "      <td>0</td>\n",
       "      <td>40</td>\n",
       "      <td>United-States</td>\n",
       "      <td>&lt;=50K</td>\n",
       "    </tr>\n",
       "    <tr>\n",
       "      <th>1</th>\n",
       "      <td>50</td>\n",
       "      <td>Self-emp-not-inc</td>\n",
       "      <td>83311</td>\n",
       "      <td>Bachelors</td>\n",
       "      <td>13</td>\n",
       "      <td>Married-civ-spouse</td>\n",
       "      <td>Exec-managerial</td>\n",
       "      <td>Husband</td>\n",
       "      <td>White</td>\n",
       "      <td>Male</td>\n",
       "      <td>0</td>\n",
       "      <td>0</td>\n",
       "      <td>13</td>\n",
       "      <td>United-States</td>\n",
       "      <td>&lt;=50K</td>\n",
       "    </tr>\n",
       "    <tr>\n",
       "      <th>2</th>\n",
       "      <td>38</td>\n",
       "      <td>Private</td>\n",
       "      <td>215646</td>\n",
       "      <td>HS-grad</td>\n",
       "      <td>9</td>\n",
       "      <td>Divorced</td>\n",
       "      <td>Handlers-cleaners</td>\n",
       "      <td>Not-in-family</td>\n",
       "      <td>White</td>\n",
       "      <td>Male</td>\n",
       "      <td>0</td>\n",
       "      <td>0</td>\n",
       "      <td>40</td>\n",
       "      <td>United-States</td>\n",
       "      <td>&lt;=50K</td>\n",
       "    </tr>\n",
       "    <tr>\n",
       "      <th>3</th>\n",
       "      <td>53</td>\n",
       "      <td>Private</td>\n",
       "      <td>234721</td>\n",
       "      <td>11th</td>\n",
       "      <td>7</td>\n",
       "      <td>Married-civ-spouse</td>\n",
       "      <td>Handlers-cleaners</td>\n",
       "      <td>Husband</td>\n",
       "      <td>Black</td>\n",
       "      <td>Male</td>\n",
       "      <td>0</td>\n",
       "      <td>0</td>\n",
       "      <td>40</td>\n",
       "      <td>United-States</td>\n",
       "      <td>&lt;=50K</td>\n",
       "    </tr>\n",
       "    <tr>\n",
       "      <th>4</th>\n",
       "      <td>28</td>\n",
       "      <td>Private</td>\n",
       "      <td>338409</td>\n",
       "      <td>Bachelors</td>\n",
       "      <td>13</td>\n",
       "      <td>Married-civ-spouse</td>\n",
       "      <td>Prof-specialty</td>\n",
       "      <td>Wife</td>\n",
       "      <td>Black</td>\n",
       "      <td>Female</td>\n",
       "      <td>0</td>\n",
       "      <td>0</td>\n",
       "      <td>40</td>\n",
       "      <td>Cuba</td>\n",
       "      <td>&lt;=50K</td>\n",
       "    </tr>\n",
       "  </tbody>\n",
       "</table>\n",
       "</div>"
      ],
      "text/plain": [
       "   age         workclass  fnlwgt  education  education-num  \\\n",
       "0   39         State-gov   77516  Bachelors             13   \n",
       "1   50  Self-emp-not-inc   83311  Bachelors             13   \n",
       "2   38           Private  215646    HS-grad              9   \n",
       "3   53           Private  234721       11th              7   \n",
       "4   28           Private  338409  Bachelors             13   \n",
       "\n",
       "       marital-status         occupation   relationship   race     sex  \\\n",
       "0       Never-married       Adm-clerical  Not-in-family  White    Male   \n",
       "1  Married-civ-spouse    Exec-managerial        Husband  White    Male   \n",
       "2            Divorced  Handlers-cleaners  Not-in-family  White    Male   \n",
       "3  Married-civ-spouse  Handlers-cleaners        Husband  Black    Male   \n",
       "4  Married-civ-spouse     Prof-specialty           Wife  Black  Female   \n",
       "\n",
       "   capital-gain  capital-loss  hours-per-week native-country salary  \n",
       "0          2174             0              40  United-States  <=50K  \n",
       "1             0             0              13  United-States  <=50K  \n",
       "2             0             0              40  United-States  <=50K  \n",
       "3             0             0              40  United-States  <=50K  \n",
       "4             0             0              40           Cuba  <=50K  "
      ]
     },
     "execution_count": 5,
     "metadata": {},
     "output_type": "execute_result"
    }
   ],
   "source": [
    "df.head()"
   ]
  },
  {
   "cell_type": "markdown",
   "id": "638668a4",
   "metadata": {},
   "source": [
    "What percentage of people with advanced education (`Bachelors`, `Masters`, or `Doctorate`) make more than 50K?\n",
    "What percentage of people without advanced education make more than 50K?"
   ]
  },
  {
   "cell_type": "code",
   "execution_count": 6,
   "id": "42380506",
   "metadata": {},
   "outputs": [
    {
     "name": "stdout",
     "output_type": "stream",
     "text": [
      "Higher education rich: 46.5\n",
      "Lower education rich: 17.4\n"
     ]
    }
   ],
   "source": [
    "master = df['education'] == 'Masters'\n",
    "doctor = df['education'] == 'Doctorate'\n",
    "higher_education = bachelor | master | doctor  # | represents the bitwise \"or\" operator\n",
    "\n",
    "\n",
    "lower_education = (df['education'] != 'Bachelors') & (df['education'] != 'Masters') & (df['education'] != 'Doctorate')\n",
    "\n",
    "# percentage with salary >50K\n",
    "hi_ed_rich = df.loc[higher_education & (df['salary'] == '>50K')].value_counts().sum()\n",
    "hi_ed_total = df.loc[bachelor | master | doctor].value_counts().sum()\n",
    "#print('HI ED RICH', hi_ed_rich)\n",
    "higher_education_rich = round(hi_ed_rich * 100 / hi_ed_total, 1)\n",
    "\n",
    "lo_ed_rich = df.loc[lower_education & (df['salary'] == '>50K')].value_counts().sum()\n",
    "lo_ed_total = df.loc[lower_education].value_counts().sum()\n",
    "#print('LO ED RICH', lo_ed_rich)\n",
    "lower_education_rich = round(lo_ed_rich * 100 / lo_ed_total, 1)\n",
    "\n",
    "print('Higher education rich:', higher_education_rich)\n",
    "print('Lower education rich:', lower_education_rich)"
   ]
  },
  {
   "cell_type": "markdown",
   "id": "4b6d7d0d",
   "metadata": {},
   "source": [
    "What is the minimum number of hours a person works per week?\n",
    "What percentage of the people who work the minimum number of hours per week have a salary of more than 50K?"
   ]
  },
  {
   "cell_type": "code",
   "execution_count": 7,
   "id": "7131cf36",
   "metadata": {},
   "outputs": [
    {
     "name": "stdout",
     "output_type": "stream",
     "text": [
      "MIN WORK HOURS: 1\n",
      "MIN WORKERS RICH: 2\n",
      "RICH PERCENT: 10.0\n"
     ]
    }
   ],
   "source": [
    "# What is the minimum number of hours a person works per week (hours-per-week feature)?\n",
    "min_work_hours = df['hours-per-week'].value_counts().min()\n",
    "print('MIN WORK HOURS:', min_work_hours)\n",
    "\n",
    "# What percentage of the people who work the minimum number of hours per week have a salary of >50K?\n",
    "num_min_workers = df.loc[df['hours-per-week'] == 1 & (df['salary'] == '>50K')].value_counts().sum()\n",
    "print('MIN WORKERS RICH:', num_min_workers)\n",
    "\n",
    "rich_percentage = round(num_min_workers * 100 / df.loc[df['hours-per-week'] == 1].value_counts().sum(), 1)\n",
    "print('RICH PERCENT:',rich_percentage)"
   ]
  },
  {
   "cell_type": "markdown",
   "id": "74801e69",
   "metadata": {},
   "source": [
    "What country has the highest percentage of people that earn >50K and what is that percentage?"
   ]
  },
  {
   "cell_type": "code",
   "execution_count": 8,
   "id": "a7a0b63c",
   "metadata": {},
   "outputs": [
    {
     "name": "stdout",
     "output_type": "stream",
     "text": [
      "Highest earning country where people earn >50k: 41.9\n"
     ]
    }
   ],
   "source": [
    " # What country has the highest percentage of people that earn >50K?\n",
    "rich_pop_by_country = df.loc[df['salary'] == '>50K', 'native-country'].value_counts()\n",
    "country_population = df['native-country'].value_counts()\n",
    "#print('POPULATION BY COUNTRY', country_population)\n",
    "#print('RICH BY COUNTRY', rich_pop_by_country)\n",
    "\n",
    "rich_percent_by_country = round(rich_pop_by_country * 100 / country_population, 2)\n",
    "#print('% RICH BY COUNTRY', rich_percent_by_country)\n",
    "highest_earning_country = rich_percent_by_country.idxmax()\n",
    "#print('RICHEST COUNTRY', highest_earning_country)\n",
    "highest_earning_country_percentage = round(rich_percent_by_country.max(), 1)\n",
    "#print('HIGHETS %RICH', highest_earning_country_percentage)\n",
    "print('Highest earning country where people earn >50k:', highest_earning_country_percentage)"
   ]
  },
  {
   "cell_type": "markdown",
   "id": "54af8085",
   "metadata": {},
   "source": [
    "Identify the most popular occupation for those who earn >50K in India"
   ]
  },
  {
   "cell_type": "code",
   "execution_count": 9,
   "id": "94beb394",
   "metadata": {},
   "outputs": [
    {
     "name": "stdout",
     "output_type": "stream",
     "text": [
      "Top occupation in India: Prof-specialty\n"
     ]
    }
   ],
   "source": [
    "# Identify the most popular occupation for those who earn >50K in India.\n",
    "india = df['native-country'] == 'India'\n",
    "india_rich = df.loc[india & (df['salary'] == '>50K'), 'occupation'].value_counts()\n",
    "#print('INDIA RICH', india_rich)\n",
    "top_IN_occupation = india_rich.idxmax()\n",
    "#print('TOP OCCUPATION', top_IN_occupation)\n",
    "print('Top occupation in India:', top_IN_occupation)"
   ]
  }
 ],
 "metadata": {
  "kernelspec": {
   "display_name": "Python 3 (ipykernel)",
   "language": "python",
   "name": "python3"
  },
  "language_info": {
   "codemirror_mode": {
    "name": "ipython",
    "version": 3
   },
   "file_extension": ".py",
   "mimetype": "text/x-python",
   "name": "python",
   "nbconvert_exporter": "python",
   "pygments_lexer": "ipython3",
   "version": "3.9.15"
  }
 },
 "nbformat": 4,
 "nbformat_minor": 5
}
