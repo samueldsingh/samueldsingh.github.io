{
 "cells": [
  {
   "cell_type": "markdown",
   "id": "218876c7",
   "metadata": {
    "papermill": {
     "duration": 0.016731,
     "end_time": "2022-12-20T10:45:34.452031",
     "exception": false,
     "start_time": "2022-12-20T10:45:34.435300",
     "status": "completed"
    },
    "tags": []
   },
   "source": [
    "# Weather Prediction"
   ]
  },
  {
   "cell_type": "markdown",
   "id": "196558c5",
   "metadata": {
    "papermill": {
     "duration": 0.015702,
     "end_time": "2022-12-20T10:45:34.482053",
     "exception": false,
     "start_time": "2022-12-20T10:45:34.466351",
     "status": "completed"
    },
    "tags": []
   },
   "source": [
    "We have a sample weather dataset of JFK airport available since 1970. Some objectives include:\n",
    "- Cleaning the data\n",
    "- Train a machine learning model to make historical and future predictions."
   ]
  },
  {
   "cell_type": "markdown",
   "id": "ce5eaea9",
   "metadata": {
    "papermill": {
     "duration": 0.015074,
     "end_time": "2022-12-20T10:45:34.511071",
     "exception": false,
     "start_time": "2022-12-20T10:45:34.495997",
     "status": "completed"
    },
    "tags": []
   },
   "source": [
    "Import the data with the ```DATE``` column as index. ```DATE``` column \n",
    "gives each row a unique identifier so each row is is going to be referred to by date."
   ]
  },
  {
   "cell_type": "code",
   "execution_count": 1,
   "id": "0481c960",
   "metadata": {
    "execution": {
     "iopub.execute_input": "2022-12-20T10:45:34.549746Z",
     "iopub.status.busy": "2022-12-20T10:45:34.549041Z",
     "iopub.status.idle": "2022-12-20T10:45:34.793453Z",
     "shell.execute_reply": "2022-12-20T10:45:34.791937Z"
    },
    "papermill": {
     "duration": 0.271127,
     "end_time": "2022-12-20T10:45:34.798421",
     "exception": false,
     "start_time": "2022-12-20T10:45:34.527294",
     "status": "completed"
    },
    "tags": []
   },
   "outputs": [
    {
     "data": {
      "text/html": [
       "<div>\n",
       "<style scoped>\n",
       "    .dataframe tbody tr th:only-of-type {\n",
       "        vertical-align: middle;\n",
       "    }\n",
       "\n",
       "    .dataframe tbody tr th {\n",
       "        vertical-align: top;\n",
       "    }\n",
       "\n",
       "    .dataframe thead th {\n",
       "        text-align: right;\n",
       "    }\n",
       "</style>\n",
       "<table border=\"1\" class=\"dataframe\">\n",
       "  <thead>\n",
       "    <tr style=\"text-align: right;\">\n",
       "      <th></th>\n",
       "      <th>STATION</th>\n",
       "      <th>NAME</th>\n",
       "      <th>ACMH</th>\n",
       "      <th>ACSH</th>\n",
       "      <th>AWND</th>\n",
       "      <th>FMTM</th>\n",
       "      <th>PGTM</th>\n",
       "      <th>PRCP</th>\n",
       "      <th>SNOW</th>\n",
       "      <th>SNWD</th>\n",
       "      <th>...</th>\n",
       "      <th>WT11</th>\n",
       "      <th>WT13</th>\n",
       "      <th>WT14</th>\n",
       "      <th>WT15</th>\n",
       "      <th>WT16</th>\n",
       "      <th>WT17</th>\n",
       "      <th>WT18</th>\n",
       "      <th>WT21</th>\n",
       "      <th>WT22</th>\n",
       "      <th>WV01</th>\n",
       "    </tr>\n",
       "    <tr>\n",
       "      <th>DATE</th>\n",
       "      <th></th>\n",
       "      <th></th>\n",
       "      <th></th>\n",
       "      <th></th>\n",
       "      <th></th>\n",
       "      <th></th>\n",
       "      <th></th>\n",
       "      <th></th>\n",
       "      <th></th>\n",
       "      <th></th>\n",
       "      <th></th>\n",
       "      <th></th>\n",
       "      <th></th>\n",
       "      <th></th>\n",
       "      <th></th>\n",
       "      <th></th>\n",
       "      <th></th>\n",
       "      <th></th>\n",
       "      <th></th>\n",
       "      <th></th>\n",
       "      <th></th>\n",
       "    </tr>\n",
       "  </thead>\n",
       "  <tbody>\n",
       "    <tr>\n",
       "      <th>01-01-1970</th>\n",
       "      <td>USW00094789</td>\n",
       "      <td>JFK INTERNATIONAL AIRPORT, NY US</td>\n",
       "      <td>80.0</td>\n",
       "      <td>90.0</td>\n",
       "      <td>NaN</td>\n",
       "      <td>NaN</td>\n",
       "      <td>NaN</td>\n",
       "      <td>0.00</td>\n",
       "      <td>0.0</td>\n",
       "      <td>0.0</td>\n",
       "      <td>...</td>\n",
       "      <td>NaN</td>\n",
       "      <td>NaN</td>\n",
       "      <td>NaN</td>\n",
       "      <td>NaN</td>\n",
       "      <td>NaN</td>\n",
       "      <td>NaN</td>\n",
       "      <td>NaN</td>\n",
       "      <td>NaN</td>\n",
       "      <td>NaN</td>\n",
       "      <td>NaN</td>\n",
       "    </tr>\n",
       "    <tr>\n",
       "      <th>02-01-1970</th>\n",
       "      <td>USW00094789</td>\n",
       "      <td>JFK INTERNATIONAL AIRPORT, NY US</td>\n",
       "      <td>30.0</td>\n",
       "      <td>20.0</td>\n",
       "      <td>NaN</td>\n",
       "      <td>NaN</td>\n",
       "      <td>NaN</td>\n",
       "      <td>0.00</td>\n",
       "      <td>0.0</td>\n",
       "      <td>0.0</td>\n",
       "      <td>...</td>\n",
       "      <td>NaN</td>\n",
       "      <td>NaN</td>\n",
       "      <td>NaN</td>\n",
       "      <td>NaN</td>\n",
       "      <td>NaN</td>\n",
       "      <td>NaN</td>\n",
       "      <td>NaN</td>\n",
       "      <td>NaN</td>\n",
       "      <td>NaN</td>\n",
       "      <td>NaN</td>\n",
       "    </tr>\n",
       "    <tr>\n",
       "      <th>03-01-1970</th>\n",
       "      <td>USW00094789</td>\n",
       "      <td>JFK INTERNATIONAL AIRPORT, NY US</td>\n",
       "      <td>80.0</td>\n",
       "      <td>100.0</td>\n",
       "      <td>NaN</td>\n",
       "      <td>NaN</td>\n",
       "      <td>NaN</td>\n",
       "      <td>0.02</td>\n",
       "      <td>0.0</td>\n",
       "      <td>0.0</td>\n",
       "      <td>...</td>\n",
       "      <td>NaN</td>\n",
       "      <td>NaN</td>\n",
       "      <td>NaN</td>\n",
       "      <td>NaN</td>\n",
       "      <td>1.0</td>\n",
       "      <td>NaN</td>\n",
       "      <td>1.0</td>\n",
       "      <td>NaN</td>\n",
       "      <td>NaN</td>\n",
       "      <td>NaN</td>\n",
       "    </tr>\n",
       "    <tr>\n",
       "      <th>04-01-1970</th>\n",
       "      <td>USW00094789</td>\n",
       "      <td>JFK INTERNATIONAL AIRPORT, NY US</td>\n",
       "      <td>10.0</td>\n",
       "      <td>20.0</td>\n",
       "      <td>NaN</td>\n",
       "      <td>NaN</td>\n",
       "      <td>NaN</td>\n",
       "      <td>0.00</td>\n",
       "      <td>0.0</td>\n",
       "      <td>0.0</td>\n",
       "      <td>...</td>\n",
       "      <td>NaN</td>\n",
       "      <td>NaN</td>\n",
       "      <td>NaN</td>\n",
       "      <td>NaN</td>\n",
       "      <td>NaN</td>\n",
       "      <td>NaN</td>\n",
       "      <td>1.0</td>\n",
       "      <td>NaN</td>\n",
       "      <td>NaN</td>\n",
       "      <td>NaN</td>\n",
       "    </tr>\n",
       "    <tr>\n",
       "      <th>05-01-1970</th>\n",
       "      <td>USW00094789</td>\n",
       "      <td>JFK INTERNATIONAL AIRPORT, NY US</td>\n",
       "      <td>30.0</td>\n",
       "      <td>10.0</td>\n",
       "      <td>NaN</td>\n",
       "      <td>NaN</td>\n",
       "      <td>NaN</td>\n",
       "      <td>0.00</td>\n",
       "      <td>0.0</td>\n",
       "      <td>0.0</td>\n",
       "      <td>...</td>\n",
       "      <td>NaN</td>\n",
       "      <td>NaN</td>\n",
       "      <td>NaN</td>\n",
       "      <td>NaN</td>\n",
       "      <td>NaN</td>\n",
       "      <td>NaN</td>\n",
       "      <td>NaN</td>\n",
       "      <td>NaN</td>\n",
       "      <td>NaN</td>\n",
       "      <td>NaN</td>\n",
       "    </tr>\n",
       "  </tbody>\n",
       "</table>\n",
       "<p>5 rows × 44 columns</p>\n",
       "</div>"
      ],
      "text/plain": [
       "                STATION                              NAME  ACMH   ACSH  AWND  \\\n",
       "DATE                                                                           \n",
       "01-01-1970  USW00094789  JFK INTERNATIONAL AIRPORT, NY US  80.0   90.0   NaN   \n",
       "02-01-1970  USW00094789  JFK INTERNATIONAL AIRPORT, NY US  30.0   20.0   NaN   \n",
       "03-01-1970  USW00094789  JFK INTERNATIONAL AIRPORT, NY US  80.0  100.0   NaN   \n",
       "04-01-1970  USW00094789  JFK INTERNATIONAL AIRPORT, NY US  10.0   20.0   NaN   \n",
       "05-01-1970  USW00094789  JFK INTERNATIONAL AIRPORT, NY US  30.0   10.0   NaN   \n",
       "\n",
       "            FMTM  PGTM  PRCP  SNOW  SNWD  ...  WT11  WT13  WT14  WT15  WT16  \\\n",
       "DATE                                      ...                                 \n",
       "01-01-1970   NaN   NaN  0.00   0.0   0.0  ...   NaN   NaN   NaN   NaN   NaN   \n",
       "02-01-1970   NaN   NaN  0.00   0.0   0.0  ...   NaN   NaN   NaN   NaN   NaN   \n",
       "03-01-1970   NaN   NaN  0.02   0.0   0.0  ...   NaN   NaN   NaN   NaN   1.0   \n",
       "04-01-1970   NaN   NaN  0.00   0.0   0.0  ...   NaN   NaN   NaN   NaN   NaN   \n",
       "05-01-1970   NaN   NaN  0.00   0.0   0.0  ...   NaN   NaN   NaN   NaN   NaN   \n",
       "\n",
       "            WT17  WT18  WT21  WT22  WV01  \n",
       "DATE                                      \n",
       "01-01-1970   NaN   NaN   NaN   NaN   NaN  \n",
       "02-01-1970   NaN   NaN   NaN   NaN   NaN  \n",
       "03-01-1970   NaN   1.0   NaN   NaN   NaN  \n",
       "04-01-1970   NaN   1.0   NaN   NaN   NaN  \n",
       "05-01-1970   NaN   NaN   NaN   NaN   NaN  \n",
       "\n",
       "[5 rows x 44 columns]"
      ]
     },
     "execution_count": 1,
     "metadata": {},
     "output_type": "execute_result"
    }
   ],
   "source": [
    "import pandas as pd\n",
    "\n",
    "weather = pd.read_csv(\"/kaggle/input/jfk-weather/jfk_weather.csv\", index_col=\"DATE\")\n",
    "\n",
    "weather.head()"
   ]
  },
  {
   "cell_type": "markdown",
   "id": "7f4267aa",
   "metadata": {
    "papermill": {
     "duration": 0.016996,
     "end_time": "2022-12-20T10:45:34.837823",
     "exception": false,
     "start_time": "2022-12-20T10:45:34.820827",
     "status": "completed"
    },
    "tags": []
   },
   "source": [
    "You might see a lot of ```Nan``` values. Machine learning models will not work with missing values. So the first data cleaning needs to be done. We can get rid of our columns that have missing values. We can calculate the null percentage in the data which basically applies a function ```pd.isnull```\n",
    "the weather data frame."
   ]
  },
  {
   "cell_type": "code",
   "execution_count": 2,
   "id": "a15e3bbe",
   "metadata": {
    "execution": {
     "iopub.execute_input": "2022-12-20T10:45:34.871357Z",
     "iopub.status.busy": "2022-12-20T10:45:34.870914Z",
     "iopub.status.idle": "2022-12-20T10:45:34.894529Z",
     "shell.execute_reply": "2022-12-20T10:45:34.892977Z"
    },
    "papermill": {
     "duration": 0.042336,
     "end_time": "2022-12-20T10:45:34.897025",
     "exception": false,
     "start_time": "2022-12-20T10:45:34.854689",
     "status": "completed"
    },
    "tags": []
   },
   "outputs": [
    {
     "data": {
      "text/plain": [
       "STATION    0.000000\n",
       "NAME       0.000000\n",
       "ACMH       0.502715\n",
       "ACSH       0.502664\n",
       "AWND       0.264650\n",
       "FMTM       0.476390\n",
       "PGTM       0.365451\n",
       "PRCP       0.000000\n",
       "SNOW       0.000000\n",
       "SNWD       0.000052\n",
       "TAVG       0.678769\n",
       "TMAX       0.000000\n",
       "TMIN       0.000000\n",
       "TSUN       0.998397\n",
       "WDF1       0.502922\n",
       "WDF2       0.497492\n",
       "WDF5       0.501784\n",
       "WDFG       0.735144\n",
       "WDFM       0.999948\n",
       "WESD       0.686010\n",
       "WSF1       0.502767\n",
       "WSF2       0.497492\n",
       "WSF5       0.501836\n",
       "WSFG       0.614016\n",
       "WSFM       0.999948\n",
       "WT01       0.630308\n",
       "WT02       0.935040\n",
       "WT03       0.933437\n",
       "WT04       0.982622\n",
       "WT05       0.981174\n",
       "WT06       0.990639\n",
       "WT07       0.994414\n",
       "WT08       0.797259\n",
       "WT09       0.992759\n",
       "WT11       0.999276\n",
       "WT13       0.886993\n",
       "WT14       0.954125\n",
       "WT15       0.997828\n",
       "WT16       0.659840\n",
       "WT17       0.996897\n",
       "WT18       0.939643\n",
       "WT21       0.999741\n",
       "WT22       0.997466\n",
       "WV01       0.999948\n",
       "dtype: float64"
      ]
     },
     "execution_count": 2,
     "metadata": {},
     "output_type": "execute_result"
    }
   ],
   "source": [
    "null_pct = weather.apply(pd.isnull).sum()/weather.shape[0]  #sum of missing values in the column by divided by the number of rows\n",
    "null_pct"
   ]
  },
  {
   "cell_type": "markdown",
   "id": "05c8e8dd",
   "metadata": {
    "papermill": {
     "duration": 0.014279,
     "end_time": "2022-12-20T10:45:34.926539",
     "exception": false,
     "start_time": "2022-12-20T10:45:34.912260",
     "status": "completed"
    },
    "tags": []
   },
   "source": [
    "Some of the reasons for missing data can be due to malfunctioning errors and human errors while noting down the data. We can clean up the data by removing columns that have a null percentage less than 5% and we'll index those columns in a new column called ```valid_columns```."
   ]
  },
  {
   "cell_type": "code",
   "execution_count": 3,
   "id": "db9f1e29",
   "metadata": {
    "execution": {
     "iopub.execute_input": "2022-12-20T10:45:34.960653Z",
     "iopub.status.busy": "2022-12-20T10:45:34.957847Z",
     "iopub.status.idle": "2022-12-20T10:45:34.970736Z",
     "shell.execute_reply": "2022-12-20T10:45:34.969393Z"
    },
    "papermill": {
     "duration": 0.03311,
     "end_time": "2022-12-20T10:45:34.974176",
     "exception": false,
     "start_time": "2022-12-20T10:45:34.941066",
     "status": "completed"
    },
    "tags": []
   },
   "outputs": [
    {
     "data": {
      "text/plain": [
       "Index(['STATION', 'NAME', 'PRCP', 'SNOW', 'SNWD', 'TMAX', 'TMIN'], dtype='object')"
      ]
     },
     "execution_count": 3,
     "metadata": {},
     "output_type": "execute_result"
    }
   ],
   "source": [
    "valid_columns = weather.columns[null_pct < .05]\n",
    "valid_columns"
   ]
  },
  {
   "cell_type": "markdown",
   "id": "d349be18",
   "metadata": {
    "papermill": {
     "duration": 0.018219,
     "end_time": "2022-12-20T10:45:35.010401",
     "exception": false,
     "start_time": "2022-12-20T10:45:34.992182",
     "status": "completed"
    },
    "tags": []
   },
   "source": [
    "In order to avoid getting an error later, we can assign the data frame a slice of the data frame back itself by using the ```.copy()``` method."
   ]
  },
  {
   "cell_type": "code",
   "execution_count": 4,
   "id": "b02a017d",
   "metadata": {
    "execution": {
     "iopub.execute_input": "2022-12-20T10:45:35.041851Z",
     "iopub.status.busy": "2022-12-20T10:45:35.041349Z",
     "iopub.status.idle": "2022-12-20T10:45:35.067773Z",
     "shell.execute_reply": "2022-12-20T10:45:35.066484Z"
    },
    "papermill": {
     "duration": 0.04477,
     "end_time": "2022-12-20T10:45:35.069953",
     "exception": false,
     "start_time": "2022-12-20T10:45:35.025183",
     "status": "completed"
    },
    "tags": []
   },
   "outputs": [
    {
     "data": {
      "text/html": [
       "<div>\n",
       "<style scoped>\n",
       "    .dataframe tbody tr th:only-of-type {\n",
       "        vertical-align: middle;\n",
       "    }\n",
       "\n",
       "    .dataframe tbody tr th {\n",
       "        vertical-align: top;\n",
       "    }\n",
       "\n",
       "    .dataframe thead th {\n",
       "        text-align: right;\n",
       "    }\n",
       "</style>\n",
       "<table border=\"1\" class=\"dataframe\">\n",
       "  <thead>\n",
       "    <tr style=\"text-align: right;\">\n",
       "      <th></th>\n",
       "      <th>station</th>\n",
       "      <th>name</th>\n",
       "      <th>prcp</th>\n",
       "      <th>snow</th>\n",
       "      <th>snwd</th>\n",
       "      <th>tmax</th>\n",
       "      <th>tmin</th>\n",
       "    </tr>\n",
       "    <tr>\n",
       "      <th>DATE</th>\n",
       "      <th></th>\n",
       "      <th></th>\n",
       "      <th></th>\n",
       "      <th></th>\n",
       "      <th></th>\n",
       "      <th></th>\n",
       "      <th></th>\n",
       "    </tr>\n",
       "  </thead>\n",
       "  <tbody>\n",
       "    <tr>\n",
       "      <th>01-01-1970</th>\n",
       "      <td>USW00094789</td>\n",
       "      <td>JFK INTERNATIONAL AIRPORT, NY US</td>\n",
       "      <td>0.00</td>\n",
       "      <td>0.0</td>\n",
       "      <td>0.0</td>\n",
       "      <td>28</td>\n",
       "      <td>22</td>\n",
       "    </tr>\n",
       "    <tr>\n",
       "      <th>02-01-1970</th>\n",
       "      <td>USW00094789</td>\n",
       "      <td>JFK INTERNATIONAL AIRPORT, NY US</td>\n",
       "      <td>0.00</td>\n",
       "      <td>0.0</td>\n",
       "      <td>0.0</td>\n",
       "      <td>31</td>\n",
       "      <td>22</td>\n",
       "    </tr>\n",
       "    <tr>\n",
       "      <th>03-01-1970</th>\n",
       "      <td>USW00094789</td>\n",
       "      <td>JFK INTERNATIONAL AIRPORT, NY US</td>\n",
       "      <td>0.02</td>\n",
       "      <td>0.0</td>\n",
       "      <td>0.0</td>\n",
       "      <td>38</td>\n",
       "      <td>25</td>\n",
       "    </tr>\n",
       "    <tr>\n",
       "      <th>04-01-1970</th>\n",
       "      <td>USW00094789</td>\n",
       "      <td>JFK INTERNATIONAL AIRPORT, NY US</td>\n",
       "      <td>0.00</td>\n",
       "      <td>0.0</td>\n",
       "      <td>0.0</td>\n",
       "      <td>31</td>\n",
       "      <td>23</td>\n",
       "    </tr>\n",
       "    <tr>\n",
       "      <th>05-01-1970</th>\n",
       "      <td>USW00094789</td>\n",
       "      <td>JFK INTERNATIONAL AIRPORT, NY US</td>\n",
       "      <td>0.00</td>\n",
       "      <td>0.0</td>\n",
       "      <td>0.0</td>\n",
       "      <td>35</td>\n",
       "      <td>21</td>\n",
       "    </tr>\n",
       "    <tr>\n",
       "      <th>...</th>\n",
       "      <td>...</td>\n",
       "      <td>...</td>\n",
       "      <td>...</td>\n",
       "      <td>...</td>\n",
       "      <td>...</td>\n",
       "      <td>...</td>\n",
       "      <td>...</td>\n",
       "    </tr>\n",
       "    <tr>\n",
       "      <th>04-12-2022</th>\n",
       "      <td>USW00094789</td>\n",
       "      <td>JFK INTERNATIONAL AIRPORT, NY US</td>\n",
       "      <td>0.00</td>\n",
       "      <td>0.0</td>\n",
       "      <td>0.0</td>\n",
       "      <td>47</td>\n",
       "      <td>37</td>\n",
       "    </tr>\n",
       "    <tr>\n",
       "      <th>05-12-2022</th>\n",
       "      <td>USW00094789</td>\n",
       "      <td>JFK INTERNATIONAL AIRPORT, NY US</td>\n",
       "      <td>0.00</td>\n",
       "      <td>0.0</td>\n",
       "      <td>0.0</td>\n",
       "      <td>47</td>\n",
       "      <td>30</td>\n",
       "    </tr>\n",
       "    <tr>\n",
       "      <th>06-12-2022</th>\n",
       "      <td>USW00094789</td>\n",
       "      <td>JFK INTERNATIONAL AIRPORT, NY US</td>\n",
       "      <td>0.43</td>\n",
       "      <td>0.0</td>\n",
       "      <td>0.0</td>\n",
       "      <td>57</td>\n",
       "      <td>36</td>\n",
       "    </tr>\n",
       "    <tr>\n",
       "      <th>07-12-2022</th>\n",
       "      <td>USW00094789</td>\n",
       "      <td>JFK INTERNATIONAL AIRPORT, NY US</td>\n",
       "      <td>0.31</td>\n",
       "      <td>0.0</td>\n",
       "      <td>0.0</td>\n",
       "      <td>57</td>\n",
       "      <td>54</td>\n",
       "    </tr>\n",
       "    <tr>\n",
       "      <th>08-12-2022</th>\n",
       "      <td>USW00094789</td>\n",
       "      <td>JFK INTERNATIONAL AIRPORT, NY US</td>\n",
       "      <td>0.00</td>\n",
       "      <td>0.0</td>\n",
       "      <td>0.0</td>\n",
       "      <td>55</td>\n",
       "      <td>42</td>\n",
       "    </tr>\n",
       "  </tbody>\n",
       "</table>\n",
       "<p>19335 rows × 7 columns</p>\n",
       "</div>"
      ],
      "text/plain": [
       "                station                              name  prcp  snow  snwd  \\\n",
       "DATE                                                                          \n",
       "01-01-1970  USW00094789  JFK INTERNATIONAL AIRPORT, NY US  0.00   0.0   0.0   \n",
       "02-01-1970  USW00094789  JFK INTERNATIONAL AIRPORT, NY US  0.00   0.0   0.0   \n",
       "03-01-1970  USW00094789  JFK INTERNATIONAL AIRPORT, NY US  0.02   0.0   0.0   \n",
       "04-01-1970  USW00094789  JFK INTERNATIONAL AIRPORT, NY US  0.00   0.0   0.0   \n",
       "05-01-1970  USW00094789  JFK INTERNATIONAL AIRPORT, NY US  0.00   0.0   0.0   \n",
       "...                 ...                               ...   ...   ...   ...   \n",
       "04-12-2022  USW00094789  JFK INTERNATIONAL AIRPORT, NY US  0.00   0.0   0.0   \n",
       "05-12-2022  USW00094789  JFK INTERNATIONAL AIRPORT, NY US  0.00   0.0   0.0   \n",
       "06-12-2022  USW00094789  JFK INTERNATIONAL AIRPORT, NY US  0.43   0.0   0.0   \n",
       "07-12-2022  USW00094789  JFK INTERNATIONAL AIRPORT, NY US  0.31   0.0   0.0   \n",
       "08-12-2022  USW00094789  JFK INTERNATIONAL AIRPORT, NY US  0.00   0.0   0.0   \n",
       "\n",
       "            tmax  tmin  \n",
       "DATE                    \n",
       "01-01-1970    28    22  \n",
       "02-01-1970    31    22  \n",
       "03-01-1970    38    25  \n",
       "04-01-1970    31    23  \n",
       "05-01-1970    35    21  \n",
       "...          ...   ...  \n",
       "04-12-2022    47    37  \n",
       "05-12-2022    47    30  \n",
       "06-12-2022    57    36  \n",
       "07-12-2022    57    54  \n",
       "08-12-2022    55    42  \n",
       "\n",
       "[19335 rows x 7 columns]"
      ]
     },
     "execution_count": 4,
     "metadata": {},
     "output_type": "execute_result"
    }
   ],
   "source": [
    "weather = weather[valid_columns].copy()\n",
    "weather.columns = weather.columns.str.lower()  #lower case the column names\n",
    "weather"
   ]
  },
  {
   "cell_type": "markdown",
   "id": "3b0c654b",
   "metadata": {
    "papermill": {
     "duration": 0.014343,
     "end_time": "2022-12-20T10:45:35.098979",
     "exception": false,
     "start_time": "2022-12-20T10:45:35.084636",
     "status": "completed"
    },
    "tags": []
   },
   "source": [
    "We can forward fill the missing snow depth using the last value of snow depth because it makes sense that yesterday's snow depth will be equal to today's snow depth."
   ]
  },
  {
   "cell_type": "code",
   "execution_count": 5,
   "id": "668e1523",
   "metadata": {
    "execution": {
     "iopub.execute_input": "2022-12-20T10:45:35.131090Z",
     "iopub.status.busy": "2022-12-20T10:45:35.129999Z",
     "iopub.status.idle": "2022-12-20T10:45:35.142751Z",
     "shell.execute_reply": "2022-12-20T10:45:35.141730Z"
    },
    "papermill": {
     "duration": 0.031539,
     "end_time": "2022-12-20T10:45:35.145260",
     "exception": false,
     "start_time": "2022-12-20T10:45:35.113721",
     "status": "completed"
    },
    "tags": []
   },
   "outputs": [],
   "source": [
    "weather = weather.ffill()"
   ]
  },
  {
   "cell_type": "markdown",
   "id": "40a8a0f4",
   "metadata": {
    "papermill": {
     "duration": 0.014513,
     "end_time": "2022-12-20T10:45:35.174972",
     "exception": false,
     "start_time": "2022-12-20T10:45:35.160459",
     "status": "completed"
    },
    "tags": []
   },
   "source": [
    "Let's look at how many missing values there are in each column"
   ]
  },
  {
   "cell_type": "code",
   "execution_count": 6,
   "id": "7629e773",
   "metadata": {
    "execution": {
     "iopub.execute_input": "2022-12-20T10:45:35.207447Z",
     "iopub.status.busy": "2022-12-20T10:45:35.206132Z",
     "iopub.status.idle": "2022-12-20T10:45:35.220538Z",
     "shell.execute_reply": "2022-12-20T10:45:35.219310Z"
    },
    "papermill": {
     "duration": 0.033601,
     "end_time": "2022-12-20T10:45:35.223232",
     "exception": false,
     "start_time": "2022-12-20T10:45:35.189631",
     "status": "completed"
    },
    "tags": []
   },
   "outputs": [
    {
     "data": {
      "text/plain": [
       "station    0\n",
       "name       0\n",
       "prcp       0\n",
       "snow       0\n",
       "snwd       0\n",
       "tmax       0\n",
       "tmin       0\n",
       "dtype: int64"
      ]
     },
     "execution_count": 6,
     "metadata": {},
     "output_type": "execute_result"
    }
   ],
   "source": [
    "weather.apply(pd.isnull).sum()"
   ]
  },
  {
   "cell_type": "markdown",
   "id": "45569141",
   "metadata": {
    "papermill": {
     "duration": 0.014555,
     "end_time": "2022-12-20T10:45:35.253025",
     "exception": false,
     "start_time": "2022-12-20T10:45:35.238470",
     "status": "completed"
    },
    "tags": []
   },
   "source": [
    "We can see none of our columns have missing values now which is perfect that's what we need for machine learning."
   ]
  },
  {
   "cell_type": "markdown",
   "id": "9178aa58",
   "metadata": {
    "papermill": {
     "duration": 0.014414,
     "end_time": "2022-12-20T10:45:35.282279",
     "exception": false,
     "start_time": "2022-12-20T10:45:35.267865",
     "status": "completed"
    },
    "tags": []
   },
   "source": [
    "The next thing required for maching learning is that the data in the columns are the correct data types."
   ]
  },
  {
   "cell_type": "code",
   "execution_count": 7,
   "id": "ce1f7fb6",
   "metadata": {
    "execution": {
     "iopub.execute_input": "2022-12-20T10:45:35.314113Z",
     "iopub.status.busy": "2022-12-20T10:45:35.313625Z",
     "iopub.status.idle": "2022-12-20T10:45:35.321900Z",
     "shell.execute_reply": "2022-12-20T10:45:35.320833Z"
    },
    "papermill": {
     "duration": 0.027198,
     "end_time": "2022-12-20T10:45:35.324349",
     "exception": false,
     "start_time": "2022-12-20T10:45:35.297151",
     "status": "completed"
    },
    "tags": []
   },
   "outputs": [
    {
     "data": {
      "text/plain": [
       "station     object\n",
       "name        object\n",
       "prcp       float64\n",
       "snow       float64\n",
       "snwd       float64\n",
       "tmax         int64\n",
       "tmin         int64\n",
       "dtype: object"
      ]
     },
     "execution_count": 7,
     "metadata": {},
     "output_type": "execute_result"
    }
   ],
   "source": [
    "weather.dtypes"
   ]
  },
  {
   "cell_type": "markdown",
   "id": "ae65c5ed",
   "metadata": {
    "papermill": {
     "duration": 0.014691,
     "end_time": "2022-12-20T10:45:35.354170",
     "exception": false,
     "start_time": "2022-12-20T10:45:35.339479",
     "status": "completed"
    },
    "tags": []
   },
   "source": [
    "So pandas columns can be of different data types. An ```object``` data type usually indicates that the column is a string and in this case station, name columns are a string. So these two columns are are stored as objects and that's actually correct. Sometimes columns are incorrectly sorted as objects and we will have to convert them to a numeric type. In this case we don't and we can see that these other columns are also stored as the correct type,"
   ]
  },
  {
   "cell_type": "markdown",
   "id": "f2619432",
   "metadata": {
    "papermill": {
     "duration": 0.014605,
     "end_time": "2022-12-20T10:45:35.383695",
     "exception": false,
     "start_time": "2022-12-20T10:45:35.369090",
     "status": "completed"
    },
    "tags": []
   },
   "source": [
    "We also want to check our index which are those row labels to make sure it's the correct type."
   ]
  },
  {
   "cell_type": "code",
   "execution_count": 8,
   "id": "1ff75a70",
   "metadata": {
    "execution": {
     "iopub.execute_input": "2022-12-20T10:45:35.415741Z",
     "iopub.status.busy": "2022-12-20T10:45:35.414936Z",
     "iopub.status.idle": "2022-12-20T10:45:35.422062Z",
     "shell.execute_reply": "2022-12-20T10:45:35.421240Z"
    },
    "papermill": {
     "duration": 0.025737,
     "end_time": "2022-12-20T10:45:35.424188",
     "exception": false,
     "start_time": "2022-12-20T10:45:35.398451",
     "status": "completed"
    },
    "tags": []
   },
   "outputs": [
    {
     "data": {
      "text/plain": [
       "Index(['01-01-1970', '02-01-1970', '03-01-1970', '04-01-1970', '05-01-1970',\n",
       "       '06-01-1970', '07-01-1970', '08-01-1970', '09-01-1970', '10-01-1970',\n",
       "       ...\n",
       "       '29-11-2022', '30-11-2022', '01-12-2022', '02-12-2022', '03-12-2022',\n",
       "       '04-12-2022', '05-12-2022', '06-12-2022', '07-12-2022', '08-12-2022'],\n",
       "      dtype='object', name='DATE', length=19335)"
      ]
     },
     "execution_count": 8,
     "metadata": {},
     "output_type": "execute_result"
    }
   ],
   "source": [
    "weather.index"
   ]
  },
  {
   "cell_type": "markdown",
   "id": "83ddd845",
   "metadata": {
    "papermill": {
     "duration": 0.014728,
     "end_time": "2022-12-20T10:45:35.454093",
     "exception": false,
     "start_time": "2022-12-20T10:45:35.439365",
     "status": "completed"
    },
    "tags": []
   },
   "source": [
    "We can see that our index is stored as an object but it's actually a date and if we convert it to a date it makes some of the processing we're going to do later easier. \n",
    "Let's convert our index to a date time - we'll take ```weather.index``` and then we're going to use the ```pandas.to_datetime``` function to actually convert our index into a ```datetime```. We pass in our index and it's going to convert it from an ```object``` into a ```datetime```.\n"
   ]
  },
  {
   "cell_type": "code",
   "execution_count": 9,
   "id": "692c989d",
   "metadata": {
    "execution": {
     "iopub.execute_input": "2022-12-20T10:45:35.486802Z",
     "iopub.status.busy": "2022-12-20T10:45:35.485994Z",
     "iopub.status.idle": "2022-12-20T10:45:35.512333Z",
     "shell.execute_reply": "2022-12-20T10:45:35.511428Z"
    },
    "papermill": {
     "duration": 0.045266,
     "end_time": "2022-12-20T10:45:35.514396",
     "exception": false,
     "start_time": "2022-12-20T10:45:35.469130",
     "status": "completed"
    },
    "tags": []
   },
   "outputs": [
    {
     "data": {
      "text/plain": [
       "DatetimeIndex(['1970-01-01', '1970-02-01', '1970-03-01', '1970-04-01',\n",
       "               '1970-05-01', '1970-06-01', '1970-07-01', '1970-08-01',\n",
       "               '1970-09-01', '1970-10-01',\n",
       "               ...\n",
       "               '2022-11-29', '2022-11-30', '2022-01-12', '2022-02-12',\n",
       "               '2022-03-12', '2022-04-12', '2022-05-12', '2022-06-12',\n",
       "               '2022-07-12', '2022-08-12'],\n",
       "              dtype='datetime64[ns]', name='DATE', length=19335, freq=None)"
      ]
     },
     "execution_count": 9,
     "metadata": {},
     "output_type": "execute_result"
    }
   ],
   "source": [
    "weather.index = pd.to_datetime(weather.index)\n",
    "weather.index"
   ]
  },
  {
   "cell_type": "markdown",
   "id": "7486da53",
   "metadata": {
    "papermill": {
     "duration": 0.015192,
     "end_time": "2022-12-20T10:45:35.544978",
     "exception": false,
     "start_time": "2022-12-20T10:45:35.529786",
     "status": "completed"
    },
    "tags": []
   },
   "source": [
    "On looking at the index again and we can see it's now stored as a ```datetime```. It doesn't look any different but how pandas is handling it internally is different. We can now perform useful operations like getting the year component of the date."
   ]
  },
  {
   "cell_type": "code",
   "execution_count": 10,
   "id": "4091bf94",
   "metadata": {
    "execution": {
     "iopub.execute_input": "2022-12-20T10:45:35.578034Z",
     "iopub.status.busy": "2022-12-20T10:45:35.577223Z",
     "iopub.status.idle": "2022-12-20T10:45:35.587604Z",
     "shell.execute_reply": "2022-12-20T10:45:35.586398Z"
    },
    "papermill": {
     "duration": 0.029885,
     "end_time": "2022-12-20T10:45:35.590026",
     "exception": false,
     "start_time": "2022-12-20T10:45:35.560141",
     "status": "completed"
    },
    "tags": []
   },
   "outputs": [
    {
     "data": {
      "text/plain": [
       "Int64Index([1970, 1970, 1970, 1970, 1970, 1970, 1970, 1970, 1970, 1970,\n",
       "            ...\n",
       "            2022, 2022, 2022, 2022, 2022, 2022, 2022, 2022, 2022, 2022],\n",
       "           dtype='int64', name='DATE', length=19335)"
      ]
     },
     "execution_count": 10,
     "metadata": {},
     "output_type": "execute_result"
    }
   ],
   "source": [
    "weather.index.year"
   ]
  },
  {
   "cell_type": "markdown",
   "id": "9eafeddd",
   "metadata": {
    "papermill": {
     "duration": 0.015439,
     "end_time": "2022-12-20T10:45:35.622145",
     "exception": false,
     "start_time": "2022-12-20T10:45:35.606706",
     "status": "completed"
    },
    "tags": []
   },
   "source": [
    "One last just check of our data before we continue and actually jump into machine learning is we're going to make sure that we don't have any gaps in our data. To do this we're going to count up how many rows we have for each year and then we're going to sort that by our our year. So ```value_counts``` will count up how many times each unique value occurs here.\n"
   ]
  },
  {
   "cell_type": "code",
   "execution_count": 11,
   "id": "d576443a",
   "metadata": {
    "execution": {
     "iopub.execute_input": "2022-12-20T10:45:35.656019Z",
     "iopub.status.busy": "2022-12-20T10:45:35.655262Z",
     "iopub.status.idle": "2022-12-20T10:45:35.672945Z",
     "shell.execute_reply": "2022-12-20T10:45:35.671755Z"
    },
    "papermill": {
     "duration": 0.037471,
     "end_time": "2022-12-20T10:45:35.675469",
     "exception": false,
     "start_time": "2022-12-20T10:45:35.637998",
     "status": "completed"
    },
    "tags": []
   },
   "outputs": [
    {
     "data": {
      "text/plain": [
       "1970    365\n",
       "1971    365\n",
       "1972    366\n",
       "1973    365\n",
       "1974    365\n",
       "1975    365\n",
       "1976    366\n",
       "1977    365\n",
       "1978    365\n",
       "1979    365\n",
       "1980    366\n",
       "1981    365\n",
       "1982    365\n",
       "1983    365\n",
       "1984    366\n",
       "1985    365\n",
       "1986    365\n",
       "1987    365\n",
       "1988    366\n",
       "1989    365\n",
       "1990    365\n",
       "1991    365\n",
       "1992    366\n",
       "1993    365\n",
       "1994    365\n",
       "1995    365\n",
       "1996    366\n",
       "1997    365\n",
       "1998    365\n",
       "1999    365\n",
       "2000    366\n",
       "2001    365\n",
       "2002    365\n",
       "2003    365\n",
       "2004    366\n",
       "2005    365\n",
       "2006    365\n",
       "2007    365\n",
       "2008    366\n",
       "2009    365\n",
       "2010    365\n",
       "2011    365\n",
       "2012    366\n",
       "2013    365\n",
       "2014    365\n",
       "2015    365\n",
       "2016    366\n",
       "2017    365\n",
       "2018    365\n",
       "2019    365\n",
       "2020    366\n",
       "2021    365\n",
       "2022    342\n",
       "Name: DATE, dtype: int64"
      ]
     },
     "execution_count": 11,
     "metadata": {},
     "output_type": "execute_result"
    }
   ],
   "source": [
    "weather.index.year.value_counts().sort_index()"
   ]
  },
  {
   "cell_type": "markdown",
   "id": "5476c4a3",
   "metadata": {
    "papermill": {
     "duration": 0.015694,
     "end_time": "2022-12-20T10:45:35.707641",
     "exception": false,
     "start_time": "2022-12-20T10:45:35.691947",
     "status": "completed"
    },
    "tags": []
   },
   "source": [
    "It doesn't look like we have any gaps or other issues. If you used your local weather data you may actually have some gaps and in which case it's usually okay if you have some gaps. But just something to keep in mind if you have too many gaps you may not be able to make any predictions. \n",
    "Just to take another look at gaps and make sure there's nothing weird going on we can actually plot some of our columns. So this is the snow depth column so that's how much snow has accumulated on the ground for that day and then we can use the ```.plot()``` method to actually create a bar plot showing snow depth by day."
   ]
  },
  {
   "cell_type": "code",
   "execution_count": 12,
   "id": "80140770",
   "metadata": {
    "execution": {
     "iopub.execute_input": "2022-12-20T10:45:35.741658Z",
     "iopub.status.busy": "2022-12-20T10:45:35.740928Z",
     "iopub.status.idle": "2022-12-20T10:45:36.163359Z",
     "shell.execute_reply": "2022-12-20T10:45:36.162098Z"
    },
    "papermill": {
     "duration": 0.442478,
     "end_time": "2022-12-20T10:45:36.165886",
     "exception": false,
     "start_time": "2022-12-20T10:45:35.723408",
     "status": "completed"
    },
    "tags": []
   },
   "outputs": [
    {
     "data": {
      "text/plain": [
       "<AxesSubplot:xlabel='DATE'>"
      ]
     },
     "execution_count": 12,
     "metadata": {},
     "output_type": "execute_result"
    },
    {
     "data": {
      "image/png": "[encoded data removed]",
      "text/plain": [
       "<Figure size 432x288 with 1 Axes>"
      ]
     },
     "metadata": {
      "needs_background": "light"
     },
     "output_type": "display_data"
    }
   ],
   "source": [
    "weather[\"snwd\"].plot()"
   ]
  },
  {
   "cell_type": "code",
   "execution_count": 13,
   "id": "e351ccc7",
   "metadata": {
    "execution": {
     "iopub.execute_input": "2022-12-20T10:45:36.200919Z",
     "iopub.status.busy": "2022-12-20T10:45:36.200126Z",
     "iopub.status.idle": "2022-12-20T10:45:36.221213Z",
     "shell.execute_reply": "2022-12-20T10:45:36.219977Z"
    },
    "papermill": {
     "duration": 0.042092,
     "end_time": "2022-12-20T10:45:36.224202",
     "exception": false,
     "start_time": "2022-12-20T10:45:36.182110",
     "status": "completed"
    },
    "tags": []
   },
   "outputs": [
    {
     "data": {
      "text/html": [
       "<div>\n",
       "<style scoped>\n",
       "    .dataframe tbody tr th:only-of-type {\n",
       "        vertical-align: middle;\n",
       "    }\n",
       "\n",
       "    .dataframe tbody tr th {\n",
       "        vertical-align: top;\n",
       "    }\n",
       "\n",
       "    .dataframe thead th {\n",
       "        text-align: right;\n",
       "    }\n",
       "</style>\n",
       "<table border=\"1\" class=\"dataframe\">\n",
       "  <thead>\n",
       "    <tr style=\"text-align: right;\">\n",
       "      <th></th>\n",
       "      <th>station</th>\n",
       "      <th>name</th>\n",
       "      <th>prcp</th>\n",
       "      <th>snow</th>\n",
       "      <th>snwd</th>\n",
       "      <th>tmax</th>\n",
       "      <th>tmin</th>\n",
       "    </tr>\n",
       "    <tr>\n",
       "      <th>DATE</th>\n",
       "      <th></th>\n",
       "      <th></th>\n",
       "      <th></th>\n",
       "      <th></th>\n",
       "      <th></th>\n",
       "      <th></th>\n",
       "      <th></th>\n",
       "    </tr>\n",
       "  </thead>\n",
       "  <tbody>\n",
       "    <tr>\n",
       "      <th>1970-01-01</th>\n",
       "      <td>USW00094789</td>\n",
       "      <td>JFK INTERNATIONAL AIRPORT, NY US</td>\n",
       "      <td>0.00</td>\n",
       "      <td>0.0</td>\n",
       "      <td>0.0</td>\n",
       "      <td>28</td>\n",
       "      <td>22</td>\n",
       "    </tr>\n",
       "    <tr>\n",
       "      <th>1970-02-01</th>\n",
       "      <td>USW00094789</td>\n",
       "      <td>JFK INTERNATIONAL AIRPORT, NY US</td>\n",
       "      <td>0.00</td>\n",
       "      <td>0.0</td>\n",
       "      <td>0.0</td>\n",
       "      <td>31</td>\n",
       "      <td>22</td>\n",
       "    </tr>\n",
       "    <tr>\n",
       "      <th>1970-03-01</th>\n",
       "      <td>USW00094789</td>\n",
       "      <td>JFK INTERNATIONAL AIRPORT, NY US</td>\n",
       "      <td>0.02</td>\n",
       "      <td>0.0</td>\n",
       "      <td>0.0</td>\n",
       "      <td>38</td>\n",
       "      <td>25</td>\n",
       "    </tr>\n",
       "    <tr>\n",
       "      <th>1970-04-01</th>\n",
       "      <td>USW00094789</td>\n",
       "      <td>JFK INTERNATIONAL AIRPORT, NY US</td>\n",
       "      <td>0.00</td>\n",
       "      <td>0.0</td>\n",
       "      <td>0.0</td>\n",
       "      <td>31</td>\n",
       "      <td>23</td>\n",
       "    </tr>\n",
       "    <tr>\n",
       "      <th>1970-05-01</th>\n",
       "      <td>USW00094789</td>\n",
       "      <td>JFK INTERNATIONAL AIRPORT, NY US</td>\n",
       "      <td>0.00</td>\n",
       "      <td>0.0</td>\n",
       "      <td>0.0</td>\n",
       "      <td>35</td>\n",
       "      <td>21</td>\n",
       "    </tr>\n",
       "    <tr>\n",
       "      <th>...</th>\n",
       "      <td>...</td>\n",
       "      <td>...</td>\n",
       "      <td>...</td>\n",
       "      <td>...</td>\n",
       "      <td>...</td>\n",
       "      <td>...</td>\n",
       "      <td>...</td>\n",
       "    </tr>\n",
       "    <tr>\n",
       "      <th>2022-04-12</th>\n",
       "      <td>USW00094789</td>\n",
       "      <td>JFK INTERNATIONAL AIRPORT, NY US</td>\n",
       "      <td>0.00</td>\n",
       "      <td>0.0</td>\n",
       "      <td>0.0</td>\n",
       "      <td>47</td>\n",
       "      <td>37</td>\n",
       "    </tr>\n",
       "    <tr>\n",
       "      <th>2022-05-12</th>\n",
       "      <td>USW00094789</td>\n",
       "      <td>JFK INTERNATIONAL AIRPORT, NY US</td>\n",
       "      <td>0.00</td>\n",
       "      <td>0.0</td>\n",
       "      <td>0.0</td>\n",
       "      <td>47</td>\n",
       "      <td>30</td>\n",
       "    </tr>\n",
       "    <tr>\n",
       "      <th>2022-06-12</th>\n",
       "      <td>USW00094789</td>\n",
       "      <td>JFK INTERNATIONAL AIRPORT, NY US</td>\n",
       "      <td>0.43</td>\n",
       "      <td>0.0</td>\n",
       "      <td>0.0</td>\n",
       "      <td>57</td>\n",
       "      <td>36</td>\n",
       "    </tr>\n",
       "    <tr>\n",
       "      <th>2022-07-12</th>\n",
       "      <td>USW00094789</td>\n",
       "      <td>JFK INTERNATIONAL AIRPORT, NY US</td>\n",
       "      <td>0.31</td>\n",
       "      <td>0.0</td>\n",
       "      <td>0.0</td>\n",
       "      <td>57</td>\n",
       "      <td>54</td>\n",
       "    </tr>\n",
       "    <tr>\n",
       "      <th>2022-08-12</th>\n",
       "      <td>USW00094789</td>\n",
       "      <td>JFK INTERNATIONAL AIRPORT, NY US</td>\n",
       "      <td>0.00</td>\n",
       "      <td>0.0</td>\n",
       "      <td>0.0</td>\n",
       "      <td>55</td>\n",
       "      <td>42</td>\n",
       "    </tr>\n",
       "  </tbody>\n",
       "</table>\n",
       "<p>19335 rows × 7 columns</p>\n",
       "</div>"
      ],
      "text/plain": [
       "                station                              name  prcp  snow  snwd  \\\n",
       "DATE                                                                          \n",
       "1970-01-01  USW00094789  JFK INTERNATIONAL AIRPORT, NY US  0.00   0.0   0.0   \n",
       "1970-02-01  USW00094789  JFK INTERNATIONAL AIRPORT, NY US  0.00   0.0   0.0   \n",
       "1970-03-01  USW00094789  JFK INTERNATIONAL AIRPORT, NY US  0.02   0.0   0.0   \n",
       "1970-04-01  USW00094789  JFK INTERNATIONAL AIRPORT, NY US  0.00   0.0   0.0   \n",
       "1970-05-01  USW00094789  JFK INTERNATIONAL AIRPORT, NY US  0.00   0.0   0.0   \n",
       "...                 ...                               ...   ...   ...   ...   \n",
       "2022-04-12  USW00094789  JFK INTERNATIONAL AIRPORT, NY US  0.00   0.0   0.0   \n",
       "2022-05-12  USW00094789  JFK INTERNATIONAL AIRPORT, NY US  0.00   0.0   0.0   \n",
       "2022-06-12  USW00094789  JFK INTERNATIONAL AIRPORT, NY US  0.43   0.0   0.0   \n",
       "2022-07-12  USW00094789  JFK INTERNATIONAL AIRPORT, NY US  0.31   0.0   0.0   \n",
       "2022-08-12  USW00094789  JFK INTERNATIONAL AIRPORT, NY US  0.00   0.0   0.0   \n",
       "\n",
       "            tmax  tmin  \n",
       "DATE                    \n",
       "1970-01-01    28    22  \n",
       "1970-02-01    31    22  \n",
       "1970-03-01    38    25  \n",
       "1970-04-01    31    23  \n",
       "1970-05-01    35    21  \n",
       "...          ...   ...  \n",
       "2022-04-12    47    37  \n",
       "2022-05-12    47    30  \n",
       "2022-06-12    57    36  \n",
       "2022-07-12    57    54  \n",
       "2022-08-12    55    42  \n",
       "\n",
       "[19335 rows x 7 columns]"
      ]
     },
     "execution_count": 13,
     "metadata": {},
     "output_type": "execute_result"
    }
   ],
   "source": [
    "weather"
   ]
  },
  {
   "cell_type": "markdown",
   "id": "f4c5fe6b",
   "metadata": {
    "papermill": {
     "duration": 0.016463,
     "end_time": "2022-12-20T10:45:36.257724",
     "exception": false,
     "start_time": "2022-12-20T10:45:36.241261",
     "status": "completed"
    },
    "tags": []
   },
   "source": [
    "When we use a machine learning algorithm we need to tell the algorithm what we're trying to predict and in our case what we're trying to predict is tomorrow's temperature - ```T-Max``` using today's information. We'll create a ```target``` column in our weather dataframe and use ```.shift()``` method to keep the same index but it pulls the values from the next row back.\n"
   ]
  },
  {
   "cell_type": "code",
   "execution_count": 14,
   "id": "1f4f0d9a",
   "metadata": {
    "execution": {
     "iopub.execute_input": "2022-12-20T10:45:36.293968Z",
     "iopub.status.busy": "2022-12-20T10:45:36.293200Z",
     "iopub.status.idle": "2022-12-20T10:45:36.319258Z",
     "shell.execute_reply": "2022-12-20T10:45:36.318096Z"
    },
    "papermill": {
     "duration": 0.04667,
     "end_time": "2022-12-20T10:45:36.321652",
     "exception": false,
     "start_time": "2022-12-20T10:45:36.274982",
     "status": "completed"
    },
    "tags": []
   },
   "outputs": [
    {
     "data": {
      "text/html": [
       "<div>\n",
       "<style scoped>\n",
       "    .dataframe tbody tr th:only-of-type {\n",
       "        vertical-align: middle;\n",
       "    }\n",
       "\n",
       "    .dataframe tbody tr th {\n",
       "        vertical-align: top;\n",
       "    }\n",
       "\n",
       "    .dataframe thead th {\n",
       "        text-align: right;\n",
       "    }\n",
       "</style>\n",
       "<table border=\"1\" class=\"dataframe\">\n",
       "  <thead>\n",
       "    <tr style=\"text-align: right;\">\n",
       "      <th></th>\n",
       "      <th>station</th>\n",
       "      <th>name</th>\n",
       "      <th>prcp</th>\n",
       "      <th>snow</th>\n",
       "      <th>snwd</th>\n",
       "      <th>tmax</th>\n",
       "      <th>tmin</th>\n",
       "      <th>target</th>\n",
       "    </tr>\n",
       "    <tr>\n",
       "      <th>DATE</th>\n",
       "      <th></th>\n",
       "      <th></th>\n",
       "      <th></th>\n",
       "      <th></th>\n",
       "      <th></th>\n",
       "      <th></th>\n",
       "      <th></th>\n",
       "      <th></th>\n",
       "    </tr>\n",
       "  </thead>\n",
       "  <tbody>\n",
       "    <tr>\n",
       "      <th>1970-01-01</th>\n",
       "      <td>USW00094789</td>\n",
       "      <td>JFK INTERNATIONAL AIRPORT, NY US</td>\n",
       "      <td>0.00</td>\n",
       "      <td>0.0</td>\n",
       "      <td>0.0</td>\n",
       "      <td>28</td>\n",
       "      <td>22</td>\n",
       "      <td>31.0</td>\n",
       "    </tr>\n",
       "    <tr>\n",
       "      <th>1970-02-01</th>\n",
       "      <td>USW00094789</td>\n",
       "      <td>JFK INTERNATIONAL AIRPORT, NY US</td>\n",
       "      <td>0.00</td>\n",
       "      <td>0.0</td>\n",
       "      <td>0.0</td>\n",
       "      <td>31</td>\n",
       "      <td>22</td>\n",
       "      <td>38.0</td>\n",
       "    </tr>\n",
       "    <tr>\n",
       "      <th>1970-03-01</th>\n",
       "      <td>USW00094789</td>\n",
       "      <td>JFK INTERNATIONAL AIRPORT, NY US</td>\n",
       "      <td>0.02</td>\n",
       "      <td>0.0</td>\n",
       "      <td>0.0</td>\n",
       "      <td>38</td>\n",
       "      <td>25</td>\n",
       "      <td>31.0</td>\n",
       "    </tr>\n",
       "    <tr>\n",
       "      <th>1970-04-01</th>\n",
       "      <td>USW00094789</td>\n",
       "      <td>JFK INTERNATIONAL AIRPORT, NY US</td>\n",
       "      <td>0.00</td>\n",
       "      <td>0.0</td>\n",
       "      <td>0.0</td>\n",
       "      <td>31</td>\n",
       "      <td>23</td>\n",
       "      <td>35.0</td>\n",
       "    </tr>\n",
       "    <tr>\n",
       "      <th>1970-05-01</th>\n",
       "      <td>USW00094789</td>\n",
       "      <td>JFK INTERNATIONAL AIRPORT, NY US</td>\n",
       "      <td>0.00</td>\n",
       "      <td>0.0</td>\n",
       "      <td>0.0</td>\n",
       "      <td>35</td>\n",
       "      <td>21</td>\n",
       "      <td>36.0</td>\n",
       "    </tr>\n",
       "    <tr>\n",
       "      <th>...</th>\n",
       "      <td>...</td>\n",
       "      <td>...</td>\n",
       "      <td>...</td>\n",
       "      <td>...</td>\n",
       "      <td>...</td>\n",
       "      <td>...</td>\n",
       "      <td>...</td>\n",
       "      <td>...</td>\n",
       "    </tr>\n",
       "    <tr>\n",
       "      <th>2022-04-12</th>\n",
       "      <td>USW00094789</td>\n",
       "      <td>JFK INTERNATIONAL AIRPORT, NY US</td>\n",
       "      <td>0.00</td>\n",
       "      <td>0.0</td>\n",
       "      <td>0.0</td>\n",
       "      <td>47</td>\n",
       "      <td>37</td>\n",
       "      <td>47.0</td>\n",
       "    </tr>\n",
       "    <tr>\n",
       "      <th>2022-05-12</th>\n",
       "      <td>USW00094789</td>\n",
       "      <td>JFK INTERNATIONAL AIRPORT, NY US</td>\n",
       "      <td>0.00</td>\n",
       "      <td>0.0</td>\n",
       "      <td>0.0</td>\n",
       "      <td>47</td>\n",
       "      <td>30</td>\n",
       "      <td>57.0</td>\n",
       "    </tr>\n",
       "    <tr>\n",
       "      <th>2022-06-12</th>\n",
       "      <td>USW00094789</td>\n",
       "      <td>JFK INTERNATIONAL AIRPORT, NY US</td>\n",
       "      <td>0.43</td>\n",
       "      <td>0.0</td>\n",
       "      <td>0.0</td>\n",
       "      <td>57</td>\n",
       "      <td>36</td>\n",
       "      <td>57.0</td>\n",
       "    </tr>\n",
       "    <tr>\n",
       "      <th>2022-07-12</th>\n",
       "      <td>USW00094789</td>\n",
       "      <td>JFK INTERNATIONAL AIRPORT, NY US</td>\n",
       "      <td>0.31</td>\n",
       "      <td>0.0</td>\n",
       "      <td>0.0</td>\n",
       "      <td>57</td>\n",
       "      <td>54</td>\n",
       "      <td>55.0</td>\n",
       "    </tr>\n",
       "    <tr>\n",
       "      <th>2022-08-12</th>\n",
       "      <td>USW00094789</td>\n",
       "      <td>JFK INTERNATIONAL AIRPORT, NY US</td>\n",
       "      <td>0.00</td>\n",
       "      <td>0.0</td>\n",
       "      <td>0.0</td>\n",
       "      <td>55</td>\n",
       "      <td>42</td>\n",
       "      <td>NaN</td>\n",
       "    </tr>\n",
       "  </tbody>\n",
       "</table>\n",
       "<p>19335 rows × 8 columns</p>\n",
       "</div>"
      ],
      "text/plain": [
       "                station                              name  prcp  snow  snwd  \\\n",
       "DATE                                                                          \n",
       "1970-01-01  USW00094789  JFK INTERNATIONAL AIRPORT, NY US  0.00   0.0   0.0   \n",
       "1970-02-01  USW00094789  JFK INTERNATIONAL AIRPORT, NY US  0.00   0.0   0.0   \n",
       "1970-03-01  USW00094789  JFK INTERNATIONAL AIRPORT, NY US  0.02   0.0   0.0   \n",
       "1970-04-01  USW00094789  JFK INTERNATIONAL AIRPORT, NY US  0.00   0.0   0.0   \n",
       "1970-05-01  USW00094789  JFK INTERNATIONAL AIRPORT, NY US  0.00   0.0   0.0   \n",
       "...                 ...                               ...   ...   ...   ...   \n",
       "2022-04-12  USW00094789  JFK INTERNATIONAL AIRPORT, NY US  0.00   0.0   0.0   \n",
       "2022-05-12  USW00094789  JFK INTERNATIONAL AIRPORT, NY US  0.00   0.0   0.0   \n",
       "2022-06-12  USW00094789  JFK INTERNATIONAL AIRPORT, NY US  0.43   0.0   0.0   \n",
       "2022-07-12  USW00094789  JFK INTERNATIONAL AIRPORT, NY US  0.31   0.0   0.0   \n",
       "2022-08-12  USW00094789  JFK INTERNATIONAL AIRPORT, NY US  0.00   0.0   0.0   \n",
       "\n",
       "            tmax  tmin  target  \n",
       "DATE                            \n",
       "1970-01-01    28    22    31.0  \n",
       "1970-02-01    31    22    38.0  \n",
       "1970-03-01    38    25    31.0  \n",
       "1970-04-01    31    23    35.0  \n",
       "1970-05-01    35    21    36.0  \n",
       "...          ...   ...     ...  \n",
       "2022-04-12    47    37    47.0  \n",
       "2022-05-12    47    30    57.0  \n",
       "2022-06-12    57    36    57.0  \n",
       "2022-07-12    57    54    55.0  \n",
       "2022-08-12    55    42     NaN  \n",
       "\n",
       "[19335 rows x 8 columns]"
      ]
     },
     "execution_count": 14,
     "metadata": {},
     "output_type": "execute_result"
    }
   ],
   "source": [
    "weather[\"target\"] = weather.shift(-1)[\"tmax\"]\n",
    "weather"
   ]
  },
  {
   "cell_type": "markdown",
   "id": "e3dbe4f4",
   "metadata": {
    "papermill": {
     "duration": 0.016453,
     "end_time": "2022-12-20T10:45:36.355138",
     "exception": false,
     "start_time": "2022-12-20T10:45:36.338685",
     "status": "completed"
    },
    "tags": []
   },
   "source": [
    "We can see we now have a Target column and it is tomorrow's ```T-Max``` so for January 1st 1970 the target is 31 and that is tomorrow's maximum temperature January 2nd which is 31. So you can see this helps us use all of this data to predict tomorrow's temperature which is the target.\n",
    "\n",
    "Now you may notice a little issue with the last value here it's missing because we don't have data for December 8th. It's actually missing right we don't have a value to pull back to know tomorrow's temperature so if we made a prediction for this row we would actually be predicting data that we don't have we'd be predicting the future so typically you want to handle this in a different way but just to make things easier and to make it easy to get future predictions what I'm going to do is I'm going to use ```ffill``` again. We're going to pull the temperature the target from the last row forward by using ```ffill```."
   ]
  },
  {
   "cell_type": "code",
   "execution_count": 15,
   "id": "3823ff9a",
   "metadata": {
    "execution": {
     "iopub.execute_input": "2022-12-20T10:45:36.391126Z",
     "iopub.status.busy": "2022-12-20T10:45:36.390646Z",
     "iopub.status.idle": "2022-12-20T10:45:36.419662Z",
     "shell.execute_reply": "2022-12-20T10:45:36.418163Z"
    },
    "papermill": {
     "duration": 0.049825,
     "end_time": "2022-12-20T10:45:36.421989",
     "exception": false,
     "start_time": "2022-12-20T10:45:36.372164",
     "status": "completed"
    },
    "tags": []
   },
   "outputs": [
    {
     "data": {
      "text/html": [
       "<div>\n",
       "<style scoped>\n",
       "    .dataframe tbody tr th:only-of-type {\n",
       "        vertical-align: middle;\n",
       "    }\n",
       "\n",
       "    .dataframe tbody tr th {\n",
       "        vertical-align: top;\n",
       "    }\n",
       "\n",
       "    .dataframe thead th {\n",
       "        text-align: right;\n",
       "    }\n",
       "</style>\n",
       "<table border=\"1\" class=\"dataframe\">\n",
       "  <thead>\n",
       "    <tr style=\"text-align: right;\">\n",
       "      <th></th>\n",
       "      <th>station</th>\n",
       "      <th>name</th>\n",
       "      <th>prcp</th>\n",
       "      <th>snow</th>\n",
       "      <th>snwd</th>\n",
       "      <th>tmax</th>\n",
       "      <th>tmin</th>\n",
       "      <th>target</th>\n",
       "    </tr>\n",
       "    <tr>\n",
       "      <th>DATE</th>\n",
       "      <th></th>\n",
       "      <th></th>\n",
       "      <th></th>\n",
       "      <th></th>\n",
       "      <th></th>\n",
       "      <th></th>\n",
       "      <th></th>\n",
       "      <th></th>\n",
       "    </tr>\n",
       "  </thead>\n",
       "  <tbody>\n",
       "    <tr>\n",
       "      <th>1970-01-01</th>\n",
       "      <td>USW00094789</td>\n",
       "      <td>JFK INTERNATIONAL AIRPORT, NY US</td>\n",
       "      <td>0.00</td>\n",
       "      <td>0.0</td>\n",
       "      <td>0.0</td>\n",
       "      <td>28</td>\n",
       "      <td>22</td>\n",
       "      <td>31.0</td>\n",
       "    </tr>\n",
       "    <tr>\n",
       "      <th>1970-02-01</th>\n",
       "      <td>USW00094789</td>\n",
       "      <td>JFK INTERNATIONAL AIRPORT, NY US</td>\n",
       "      <td>0.00</td>\n",
       "      <td>0.0</td>\n",
       "      <td>0.0</td>\n",
       "      <td>31</td>\n",
       "      <td>22</td>\n",
       "      <td>38.0</td>\n",
       "    </tr>\n",
       "    <tr>\n",
       "      <th>1970-03-01</th>\n",
       "      <td>USW00094789</td>\n",
       "      <td>JFK INTERNATIONAL AIRPORT, NY US</td>\n",
       "      <td>0.02</td>\n",
       "      <td>0.0</td>\n",
       "      <td>0.0</td>\n",
       "      <td>38</td>\n",
       "      <td>25</td>\n",
       "      <td>31.0</td>\n",
       "    </tr>\n",
       "    <tr>\n",
       "      <th>1970-04-01</th>\n",
       "      <td>USW00094789</td>\n",
       "      <td>JFK INTERNATIONAL AIRPORT, NY US</td>\n",
       "      <td>0.00</td>\n",
       "      <td>0.0</td>\n",
       "      <td>0.0</td>\n",
       "      <td>31</td>\n",
       "      <td>23</td>\n",
       "      <td>35.0</td>\n",
       "    </tr>\n",
       "    <tr>\n",
       "      <th>1970-05-01</th>\n",
       "      <td>USW00094789</td>\n",
       "      <td>JFK INTERNATIONAL AIRPORT, NY US</td>\n",
       "      <td>0.00</td>\n",
       "      <td>0.0</td>\n",
       "      <td>0.0</td>\n",
       "      <td>35</td>\n",
       "      <td>21</td>\n",
       "      <td>36.0</td>\n",
       "    </tr>\n",
       "    <tr>\n",
       "      <th>...</th>\n",
       "      <td>...</td>\n",
       "      <td>...</td>\n",
       "      <td>...</td>\n",
       "      <td>...</td>\n",
       "      <td>...</td>\n",
       "      <td>...</td>\n",
       "      <td>...</td>\n",
       "      <td>...</td>\n",
       "    </tr>\n",
       "    <tr>\n",
       "      <th>2022-04-12</th>\n",
       "      <td>USW00094789</td>\n",
       "      <td>JFK INTERNATIONAL AIRPORT, NY US</td>\n",
       "      <td>0.00</td>\n",
       "      <td>0.0</td>\n",
       "      <td>0.0</td>\n",
       "      <td>47</td>\n",
       "      <td>37</td>\n",
       "      <td>47.0</td>\n",
       "    </tr>\n",
       "    <tr>\n",
       "      <th>2022-05-12</th>\n",
       "      <td>USW00094789</td>\n",
       "      <td>JFK INTERNATIONAL AIRPORT, NY US</td>\n",
       "      <td>0.00</td>\n",
       "      <td>0.0</td>\n",
       "      <td>0.0</td>\n",
       "      <td>47</td>\n",
       "      <td>30</td>\n",
       "      <td>57.0</td>\n",
       "    </tr>\n",
       "    <tr>\n",
       "      <th>2022-06-12</th>\n",
       "      <td>USW00094789</td>\n",
       "      <td>JFK INTERNATIONAL AIRPORT, NY US</td>\n",
       "      <td>0.43</td>\n",
       "      <td>0.0</td>\n",
       "      <td>0.0</td>\n",
       "      <td>57</td>\n",
       "      <td>36</td>\n",
       "      <td>57.0</td>\n",
       "    </tr>\n",
       "    <tr>\n",
       "      <th>2022-07-12</th>\n",
       "      <td>USW00094789</td>\n",
       "      <td>JFK INTERNATIONAL AIRPORT, NY US</td>\n",
       "      <td>0.31</td>\n",
       "      <td>0.0</td>\n",
       "      <td>0.0</td>\n",
       "      <td>57</td>\n",
       "      <td>54</td>\n",
       "      <td>55.0</td>\n",
       "    </tr>\n",
       "    <tr>\n",
       "      <th>2022-08-12</th>\n",
       "      <td>USW00094789</td>\n",
       "      <td>JFK INTERNATIONAL AIRPORT, NY US</td>\n",
       "      <td>0.00</td>\n",
       "      <td>0.0</td>\n",
       "      <td>0.0</td>\n",
       "      <td>55</td>\n",
       "      <td>42</td>\n",
       "      <td>55.0</td>\n",
       "    </tr>\n",
       "  </tbody>\n",
       "</table>\n",
       "<p>19335 rows × 8 columns</p>\n",
       "</div>"
      ],
      "text/plain": [
       "                station                              name  prcp  snow  snwd  \\\n",
       "DATE                                                                          \n",
       "1970-01-01  USW00094789  JFK INTERNATIONAL AIRPORT, NY US  0.00   0.0   0.0   \n",
       "1970-02-01  USW00094789  JFK INTERNATIONAL AIRPORT, NY US  0.00   0.0   0.0   \n",
       "1970-03-01  USW00094789  JFK INTERNATIONAL AIRPORT, NY US  0.02   0.0   0.0   \n",
       "1970-04-01  USW00094789  JFK INTERNATIONAL AIRPORT, NY US  0.00   0.0   0.0   \n",
       "1970-05-01  USW00094789  JFK INTERNATIONAL AIRPORT, NY US  0.00   0.0   0.0   \n",
       "...                 ...                               ...   ...   ...   ...   \n",
       "2022-04-12  USW00094789  JFK INTERNATIONAL AIRPORT, NY US  0.00   0.0   0.0   \n",
       "2022-05-12  USW00094789  JFK INTERNATIONAL AIRPORT, NY US  0.00   0.0   0.0   \n",
       "2022-06-12  USW00094789  JFK INTERNATIONAL AIRPORT, NY US  0.43   0.0   0.0   \n",
       "2022-07-12  USW00094789  JFK INTERNATIONAL AIRPORT, NY US  0.31   0.0   0.0   \n",
       "2022-08-12  USW00094789  JFK INTERNATIONAL AIRPORT, NY US  0.00   0.0   0.0   \n",
       "\n",
       "            tmax  tmin  target  \n",
       "DATE                            \n",
       "1970-01-01    28    22    31.0  \n",
       "1970-02-01    31    22    38.0  \n",
       "1970-03-01    38    25    31.0  \n",
       "1970-04-01    31    23    35.0  \n",
       "1970-05-01    35    21    36.0  \n",
       "...          ...   ...     ...  \n",
       "2022-04-12    47    37    47.0  \n",
       "2022-05-12    47    30    57.0  \n",
       "2022-06-12    57    36    57.0  \n",
       "2022-07-12    57    54    55.0  \n",
       "2022-08-12    55    42    55.0  \n",
       "\n",
       "[19335 rows x 8 columns]"
      ]
     },
     "execution_count": 15,
     "metadata": {},
     "output_type": "execute_result"
    }
   ],
   "source": [
    "weather = weather.ffill()\n",
    "weather"
   ]
  },
  {
   "cell_type": "markdown",
   "id": "2ffe2710",
   "metadata": {
    "papermill": {
     "duration": 0.017969,
     "end_time": "2022-12-20T10:45:36.457396",
     "exception": false,
     "start_time": "2022-12-20T10:45:36.439427",
     "status": "completed"
    },
    "tags": []
   },
   "source": [
    "We can see that we filled in yesterday's value to be the target here it's going to cause a very very tiny issue that's not going to make a difference to us right this row has a Target that that's actually not correct but because we have 20 000 rows of data this one robe having an incorrect Target is not going to make a huge difference and it'll make it a little bit easier for us to make future predictions so that's why I'm using fill there even though it's not technically correct it's not really going to cause a problem."
   ]
  },
  {
   "cell_type": "markdown",
   "id": "1068eadf",
   "metadata": {
    "papermill": {
     "duration": 0.016884,
     "end_time": "2022-12-20T10:45:36.491820",
     "exception": false,
     "start_time": "2022-12-20T10:45:36.474936",
     "status": "completed"
    },
    "tags": []
   },
   "source": [
    "We're going to apply a ridge regression model. You can check for collinearity by using the ```.corr()``` method and this will actually find the correlations between the various columns."
   ]
  },
  {
   "cell_type": "code",
   "execution_count": 16,
   "id": "9f3e2ccb",
   "metadata": {
    "execution": {
     "iopub.execute_input": "2022-12-20T10:45:36.532487Z",
     "iopub.status.busy": "2022-12-20T10:45:36.531246Z",
     "iopub.status.idle": "2022-12-20T10:45:37.851841Z",
     "shell.execute_reply": "2022-12-20T10:45:37.850454Z"
    },
    "papermill": {
     "duration": 1.344774,
     "end_time": "2022-12-20T10:45:37.855078",
     "exception": false,
     "start_time": "2022-12-20T10:45:36.510304",
     "status": "completed"
    },
    "tags": []
   },
   "outputs": [],
   "source": [
    "from sklearn.linear_model import Ridge"
   ]
  },
  {
   "cell_type": "code",
   "execution_count": 17,
   "id": "abef3ceb",
   "metadata": {
    "execution": {
     "iopub.execute_input": "2022-12-20T10:45:37.892914Z",
     "iopub.status.busy": "2022-12-20T10:45:37.892457Z",
     "iopub.status.idle": "2022-12-20T10:45:37.912786Z",
     "shell.execute_reply": "2022-12-20T10:45:37.911722Z"
    },
    "papermill": {
     "duration": 0.041843,
     "end_time": "2022-12-20T10:45:37.915277",
     "exception": false,
     "start_time": "2022-12-20T10:45:37.873434",
     "status": "completed"
    },
    "tags": []
   },
   "outputs": [
    {
     "data": {
      "text/html": [
       "<div>\n",
       "<style scoped>\n",
       "    .dataframe tbody tr th:only-of-type {\n",
       "        vertical-align: middle;\n",
       "    }\n",
       "\n",
       "    .dataframe tbody tr th {\n",
       "        vertical-align: top;\n",
       "    }\n",
       "\n",
       "    .dataframe thead th {\n",
       "        text-align: right;\n",
       "    }\n",
       "</style>\n",
       "<table border=\"1\" class=\"dataframe\">\n",
       "  <thead>\n",
       "    <tr style=\"text-align: right;\">\n",
       "      <th></th>\n",
       "      <th>prcp</th>\n",
       "      <th>snow</th>\n",
       "      <th>snwd</th>\n",
       "      <th>tmax</th>\n",
       "      <th>tmin</th>\n",
       "      <th>target</th>\n",
       "    </tr>\n",
       "  </thead>\n",
       "  <tbody>\n",
       "    <tr>\n",
       "      <th>prcp</th>\n",
       "      <td>1.000000</td>\n",
       "      <td>0.151036</td>\n",
       "      <td>0.001223</td>\n",
       "      <td>-0.007102</td>\n",
       "      <td>0.052368</td>\n",
       "      <td>-0.003275</td>\n",
       "    </tr>\n",
       "    <tr>\n",
       "      <th>snow</th>\n",
       "      <td>0.151036</td>\n",
       "      <td>1.000000</td>\n",
       "      <td>0.232600</td>\n",
       "      <td>-0.174937</td>\n",
       "      <td>-0.159138</td>\n",
       "      <td>-0.172596</td>\n",
       "    </tr>\n",
       "    <tr>\n",
       "      <th>snwd</th>\n",
       "      <td>0.001223</td>\n",
       "      <td>0.232600</td>\n",
       "      <td>1.000000</td>\n",
       "      <td>-0.259645</td>\n",
       "      <td>-0.256740</td>\n",
       "      <td>-0.240846</td>\n",
       "    </tr>\n",
       "    <tr>\n",
       "      <th>tmax</th>\n",
       "      <td>-0.007102</td>\n",
       "      <td>-0.174937</td>\n",
       "      <td>-0.259645</td>\n",
       "      <td>1.000000</td>\n",
       "      <td>0.955414</td>\n",
       "      <td>0.915158</td>\n",
       "    </tr>\n",
       "    <tr>\n",
       "      <th>tmin</th>\n",
       "      <td>0.052368</td>\n",
       "      <td>-0.159138</td>\n",
       "      <td>-0.256740</td>\n",
       "      <td>0.955414</td>\n",
       "      <td>1.000000</td>\n",
       "      <td>0.915302</td>\n",
       "    </tr>\n",
       "    <tr>\n",
       "      <th>target</th>\n",
       "      <td>-0.003275</td>\n",
       "      <td>-0.172596</td>\n",
       "      <td>-0.240846</td>\n",
       "      <td>0.915158</td>\n",
       "      <td>0.915302</td>\n",
       "      <td>1.000000</td>\n",
       "    </tr>\n",
       "  </tbody>\n",
       "</table>\n",
       "</div>"
      ],
      "text/plain": [
       "            prcp      snow      snwd      tmax      tmin    target\n",
       "prcp    1.000000  0.151036  0.001223 -0.007102  0.052368 -0.003275\n",
       "snow    0.151036  1.000000  0.232600 -0.174937 -0.159138 -0.172596\n",
       "snwd    0.001223  0.232600  1.000000 -0.259645 -0.256740 -0.240846\n",
       "tmax   -0.007102 -0.174937 -0.259645  1.000000  0.955414  0.915158\n",
       "tmin    0.052368 -0.159138 -0.256740  0.955414  1.000000  0.915302\n",
       "target -0.003275 -0.172596 -0.240846  0.915158  0.915302  1.000000"
      ]
     },
     "execution_count": 17,
     "metadata": {},
     "output_type": "execute_result"
    }
   ],
   "source": [
    "weather.corr()"
   ]
  },
  {
   "cell_type": "markdown",
   "id": "b6a5b4a6",
   "metadata": {
    "papermill": {
     "duration": 0.016807,
     "end_time": "2022-12-20T10:45:37.949552",
     "exception": false,
     "start_time": "2022-12-20T10:45:37.932745",
     "status": "completed"
    },
    "tags": []
   },
   "source": [
    "We can see that precipitation is pretty uncorrelated from most of the columns and it's slightly correlated to snow. ```tmax``` and ```tmin``` are pretty correlated which makes sense and the target is pretty correlated with ```tmax``` and ```tmin``` which also makes sense that tomorrow's temperature is pretty correlated to today's temperature."
   ]
  },
  {
   "cell_type": "markdown",
   "id": "18aee40d",
   "metadata": {
    "papermill": {
     "duration": 0.017054,
     "end_time": "2022-12-20T10:45:37.983962",
     "exception": false,
     "start_time": "2022-12-20T10:45:37.966908",
     "status": "completed"
    },
    "tags": []
   },
   "source": [
    "We'll apply a [ridge regression machine learning model](https://en.wikipedia.org/wiki/Ridge_regression#:~:text=Ridge%20regression%20is%20a%20method%20of%20estimating%20the,uses%20in%20fields%20including%20econometrics%2C%20chemistry%2C%20and%20engineering.) which works very similarly to linear regression except it penalizes coefficients to account for multi-collinearity. Ridge regression to some extent helps adjust for collinearity. \n",
    "\n",
    "Import Ridge Regression from scikit-learn and initialize the model. The alpha parameter controls how much the coefficients are shrunk to account for collinearity. It's worth experimenting by setting alpha to different values. 0.1 is a good default value so we initialize our Ridge \n",
    "regression model and then the ridge regression model can be applied."
   ]
  },
  {
   "cell_type": "code",
   "execution_count": 18,
   "id": "c87573f4",
   "metadata": {
    "execution": {
     "iopub.execute_input": "2022-12-20T10:45:38.022041Z",
     "iopub.status.busy": "2022-12-20T10:45:38.021225Z",
     "iopub.status.idle": "2022-12-20T10:45:38.026358Z",
     "shell.execute_reply": "2022-12-20T10:45:38.025392Z"
    },
    "papermill": {
     "duration": 0.027559,
     "end_time": "2022-12-20T10:45:38.028846",
     "exception": false,
     "start_time": "2022-12-20T10:45:38.001287",
     "status": "completed"
    },
    "tags": []
   },
   "outputs": [],
   "source": [
    "from sklearn.linear_model import Ridge\n",
    "\n",
    "rr = Ridge(alpha=.1)"
   ]
  },
  {
   "cell_type": "markdown",
   "id": "86dbfda0",
   "metadata": {
    "papermill": {
     "duration": 0.016911,
     "end_time": "2022-12-20T10:45:38.063780",
     "exception": false,
     "start_time": "2022-12-20T10:45:38.046869",
     "status": "completed"
    },
    "tags": []
   },
   "source": [
    "We need to create a list of predictor columns to predict our target and to get that we're going to again index our list of columns."
   ]
  },
  {
   "cell_type": "code",
   "execution_count": 19,
   "id": "ccf3179a",
   "metadata": {
    "execution": {
     "iopub.execute_input": "2022-12-20T10:45:38.101926Z",
     "iopub.status.busy": "2022-12-20T10:45:38.101125Z",
     "iopub.status.idle": "2022-12-20T10:45:38.109412Z",
     "shell.execute_reply": "2022-12-20T10:45:38.107862Z"
    },
    "papermill": {
     "duration": 0.030331,
     "end_time": "2022-12-20T10:45:38.111954",
     "exception": false,
     "start_time": "2022-12-20T10:45:38.081623",
     "status": "completed"
    },
    "tags": []
   },
   "outputs": [
    {
     "data": {
      "text/plain": [
       "Index(['prcp', 'snow', 'snwd', 'tmax', 'tmin'], dtype='object')"
      ]
     },
     "execution_count": 19,
     "metadata": {},
     "output_type": "execute_result"
    }
   ],
   "source": [
    "predictors = weather.columns[~weather.columns.isin([\"target\", \"name\", \"station\"])]\n",
    "predictors"
   ]
  },
  {
   "cell_type": "markdown",
   "id": "6427ad3e",
   "metadata": {
    "papermill": {
     "duration": 0.016801,
     "end_time": "2022-12-20T10:45:38.146529",
     "exception": false,
     "start_time": "2022-12-20T10:45:38.129728",
     "status": "completed"
    },
    "tags": []
   },
   "source": [
    "So we can take a look at predictors and we can see this is our list of predictors. We also have the time series data where January 1st is linked to our data from January 2nd."
   ]
  },
  {
   "cell_type": "markdown",
   "id": "da820d09",
   "metadata": {
    "papermill": {
     "duration": 0.016717,
     "end_time": "2022-12-20T10:45:38.180244",
     "exception": false,
     "start_time": "2022-12-20T10:45:38.163527",
     "status": "completed"
    },
    "tags": []
   },
   "source": [
    "Typically when you try to estimate the error of a machine learning model you can use cross-validation except with time series data. With time series data we need to be really careful not to use future data to predict the past. So we need to actually use a special technique called back testing or time series cross-validation to account for the time series nature of the data. \n",
    "\n",
    "So we're going to write a function called ```backtest``` and this function is going to take in our weather data frame, our ridge regression model and our list of predictors. It's also going to define a start parameter, ```start=3650```, so this is how much data we want to take - 10 years of data before we start making predictions and then we're going to define a step, ```step=90```, whichs means that every 90 days we'll create a set of predictions and then move on to the next 90 days and then the next 90 days so this is going to generate predictions for our entire set of data except the first 10 years so we're going to have predictions from 1980 all the way through 2022 and the predictions will be will respect the order of the data."
   ]
  },
  {
   "cell_type": "markdown",
   "id": "a433fbab",
   "metadata": {
    "papermill": {
     "duration": 0.016953,
     "end_time": "2022-12-20T10:45:38.214217",
     "exception": false,
     "start_time": "2022-12-20T10:45:38.197264",
     "status": "completed"
    },
    "tags": []
   },
   "source": [
    "So first thing we're going to create a list called ```all_predictions``` and each element in this list is going to be a data frame that has predictions for 90 days. Then we're going to write a ```for``` loop where we say that for ```i``` in range and we're going to start with our start parameter which is 3650 we're going to go up to ```weather.shape[0]``` which is the end of our data set and then we are going to advance 90 each time then work at each iteration. We're going to create a training set so the training set is the data we use to train our machine learning model and this is going to be all of the rows in our data up to row ```i``` and then we're going to create a test set which is going to be ```i``` up to ```i+step```. So this is going to take all of the data that comes before the current row to use as our training data and then this is going to take the next 90 days to make predictions on then we're going to go ahead and fit our model scikit-learn makes this really easy we just call ```model.fit``` and then we pass in our predictors so our predictors are what we're using to actually make our judgments and then we're going to pass in our ```target``` and our ```target``` is what we're trying to predict."
   ]
  },
  {
   "cell_type": "code",
   "execution_count": 20,
   "id": "d72285a1",
   "metadata": {
    "execution": {
     "iopub.execute_input": "2022-12-20T10:45:38.250814Z",
     "iopub.status.busy": "2022-12-20T10:45:38.250307Z",
     "iopub.status.idle": "2022-12-20T10:45:38.261534Z",
     "shell.execute_reply": "2022-12-20T10:45:38.260592Z"
    },
    "papermill": {
     "duration": 0.032256,
     "end_time": "2022-12-20T10:45:38.263642",
     "exception": false,
     "start_time": "2022-12-20T10:45:38.231386",
     "status": "completed"
    },
    "tags": []
   },
   "outputs": [],
   "source": [
    "def backtest(weather, model, predictors, start=3650, step=90):\n",
    "    all_predictions = []\n",
    "    \n",
    "    for i in range(start, weather.shape[0], step):    #weather.shape[0] represents end of the dataset\n",
    "        train = weather.iloc[:i,:]             #create an iteration at each \n",
    "                                               #training set for all of the rows upto row i\n",
    "        test = weather.iloc[i:(i+step),:]      #test set takes the next 90 days\n",
    "        \n",
    "        model.fit(train[predictors], train[\"target\"])    #use the scikit learn to fit the\n",
    "                                                         #ridge regression to the data\n",
    "        preds = model.predict(test[predictors])          #generate the predictions using scikit learn\n",
    "        preds = pd.Series(preds, index=test.index)       #convert the predictions into a pandas series\n",
    "        combined = pd.concat([test[\"target\"], preds], axis=1)   #concatenate the real test data with the predictions data\n",
    "                                                                #axis=1 treats each of the targets as a separate column in a single df\n",
    "        combined.columns = [\"actual\", \"prediction\"]             #name the columns\n",
    "        combined[\"diff\"] = (combined[\"prediction\"] - combined[\"actual\"]).abs()    #take the absolute value of the difference\n",
    "        \n",
    "        all_predictions.append(combined)\n",
    "    return pd.concat(all_predictions)"
   ]
  },
  {
   "cell_type": "markdown",
   "id": "ebfc89d3",
   "metadata": {
    "papermill": {
     "duration": 0.01669,
     "end_time": "2022-12-20T10:45:38.297451",
     "exception": false,
     "start_time": "2022-12-20T10:45:38.280761",
     "status": "completed"
    },
    "tags": []
   },
   "source": [
    "Make prediction by calling the function."
   ]
  },
  {
   "cell_type": "code",
   "execution_count": 21,
   "id": "10baf317",
   "metadata": {
    "execution": {
     "iopub.execute_input": "2022-12-20T10:45:38.334267Z",
     "iopub.status.busy": "2022-12-20T10:45:38.332995Z",
     "iopub.status.idle": "2022-12-20T10:45:39.886074Z",
     "shell.execute_reply": "2022-12-20T10:45:39.883751Z"
    },
    "papermill": {
     "duration": 1.574547,
     "end_time": "2022-12-20T10:45:39.889011",
     "exception": false,
     "start_time": "2022-12-20T10:45:38.314464",
     "status": "completed"
    },
    "tags": []
   },
   "outputs": [
    {
     "data": {
      "text/html": [
       "<div>\n",
       "<style scoped>\n",
       "    .dataframe tbody tr th:only-of-type {\n",
       "        vertical-align: middle;\n",
       "    }\n",
       "\n",
       "    .dataframe tbody tr th {\n",
       "        vertical-align: top;\n",
       "    }\n",
       "\n",
       "    .dataframe thead th {\n",
       "        text-align: right;\n",
       "    }\n",
       "</style>\n",
       "<table border=\"1\" class=\"dataframe\">\n",
       "  <thead>\n",
       "    <tr style=\"text-align: right;\">\n",
       "      <th></th>\n",
       "      <th>actual</th>\n",
       "      <th>prediction</th>\n",
       "      <th>diff</th>\n",
       "    </tr>\n",
       "    <tr>\n",
       "      <th>DATE</th>\n",
       "      <th></th>\n",
       "      <th></th>\n",
       "      <th></th>\n",
       "    </tr>\n",
       "  </thead>\n",
       "  <tbody>\n",
       "    <tr>\n",
       "      <th>1979-12-30</th>\n",
       "      <td>43.0</td>\n",
       "      <td>50.229324</td>\n",
       "      <td>7.229324</td>\n",
       "    </tr>\n",
       "    <tr>\n",
       "      <th>1979-12-31</th>\n",
       "      <td>42.0</td>\n",
       "      <td>43.673798</td>\n",
       "      <td>1.673798</td>\n",
       "    </tr>\n",
       "    <tr>\n",
       "      <th>1980-01-01</th>\n",
       "      <td>41.0</td>\n",
       "      <td>41.579150</td>\n",
       "      <td>0.579150</td>\n",
       "    </tr>\n",
       "    <tr>\n",
       "      <th>1980-02-01</th>\n",
       "      <td>36.0</td>\n",
       "      <td>43.961887</td>\n",
       "      <td>7.961887</td>\n",
       "    </tr>\n",
       "    <tr>\n",
       "      <th>1980-03-01</th>\n",
       "      <td>30.0</td>\n",
       "      <td>40.204726</td>\n",
       "      <td>10.204726</td>\n",
       "    </tr>\n",
       "    <tr>\n",
       "      <th>...</th>\n",
       "      <td>...</td>\n",
       "      <td>...</td>\n",
       "      <td>...</td>\n",
       "    </tr>\n",
       "    <tr>\n",
       "      <th>2022-04-12</th>\n",
       "      <td>47.0</td>\n",
       "      <td>49.901241</td>\n",
       "      <td>2.901241</td>\n",
       "    </tr>\n",
       "    <tr>\n",
       "      <th>2022-05-12</th>\n",
       "      <td>57.0</td>\n",
       "      <td>46.282630</td>\n",
       "      <td>10.717370</td>\n",
       "    </tr>\n",
       "    <tr>\n",
       "      <th>2022-06-12</th>\n",
       "      <td>57.0</td>\n",
       "      <td>53.330679</td>\n",
       "      <td>3.669321</td>\n",
       "    </tr>\n",
       "    <tr>\n",
       "      <th>2022-07-12</th>\n",
       "      <td>55.0</td>\n",
       "      <td>62.783822</td>\n",
       "      <td>7.783822</td>\n",
       "    </tr>\n",
       "    <tr>\n",
       "      <th>2022-08-12</th>\n",
       "      <td>55.0</td>\n",
       "      <td>56.067751</td>\n",
       "      <td>1.067751</td>\n",
       "    </tr>\n",
       "  </tbody>\n",
       "</table>\n",
       "<p>15685 rows × 3 columns</p>\n",
       "</div>"
      ],
      "text/plain": [
       "            actual  prediction       diff\n",
       "DATE                                     \n",
       "1979-12-30    43.0   50.229324   7.229324\n",
       "1979-12-31    42.0   43.673798   1.673798\n",
       "1980-01-01    41.0   41.579150   0.579150\n",
       "1980-02-01    36.0   43.961887   7.961887\n",
       "1980-03-01    30.0   40.204726  10.204726\n",
       "...            ...         ...        ...\n",
       "2022-04-12    47.0   49.901241   2.901241\n",
       "2022-05-12    57.0   46.282630  10.717370\n",
       "2022-06-12    57.0   53.330679   3.669321\n",
       "2022-07-12    55.0   62.783822   7.783822\n",
       "2022-08-12    55.0   56.067751   1.067751\n",
       "\n",
       "[15685 rows x 3 columns]"
      ]
     },
     "execution_count": 21,
     "metadata": {},
     "output_type": "execute_result"
    }
   ],
   "source": [
    "predictions = backtest(weather, rr, predictors)\n",
    "predictions"
   ]
  },
  {
   "cell_type": "markdown",
   "id": "89812a60",
   "metadata": {
    "papermill": {
     "duration": 0.020174,
     "end_time": "2022-12-20T10:45:39.927922",
     "exception": false,
     "start_time": "2022-12-20T10:45:39.907748",
     "status": "completed"
    },
    "tags": []
   },
   "source": [
    "We can take a look at our predictions and we can see that we skipped the first 10 years because we use 10 years of data to make our first set of predictions but we have predictions from the end of 1979 onwards through to 2022.\n",
    "\n",
    "In order to figure out how good our predictions were, generate an accuracy metric. The metric we're going to use is mean absolute error. It's basically just taking this diff column and finding the average."
   ]
  },
  {
   "cell_type": "code",
   "execution_count": 22,
   "id": "0bd3a67f",
   "metadata": {
    "execution": {
     "iopub.execute_input": "2022-12-20T10:45:39.968780Z",
     "iopub.status.busy": "2022-12-20T10:45:39.967969Z",
     "iopub.status.idle": "2022-12-20T10:45:39.975444Z",
     "shell.execute_reply": "2022-12-20T10:45:39.974692Z"
    },
    "papermill": {
     "duration": 0.029561,
     "end_time": "2022-12-20T10:45:39.977632",
     "exception": false,
     "start_time": "2022-12-20T10:45:39.948071",
     "status": "completed"
    },
    "tags": []
   },
   "outputs": [
    {
     "data": {
      "text/plain": [
       "5.140877250169638"
      ]
     },
     "execution_count": 22,
     "metadata": {},
     "output_type": "execute_result"
    }
   ],
   "source": [
    "from sklearn.metrics import mean_absolute_error, mean_squared_error\n",
    "\n",
    "mean_absolute_error(predictions[\"actual\"], predictions[\"prediction\"])"
   ]
  },
  {
   "cell_type": "markdown",
   "id": "2e25c01c",
   "metadata": {
    "papermill": {
     "duration": 0.017585,
     "end_time": "2022-12-20T10:45:40.013294",
     "exception": false,
     "start_time": "2022-12-20T10:45:39.995709",
     "status": "completed"
    },
    "tags": []
   },
   "source": [
    "It means on average we were five degrees off from the correct temperature on average it means about half the time we were further off half the time we were we were closer so not great accuracy I mean five degrees Fahrenheit isn't a huge error but we can do better."
   ]
  },
  {
   "cell_type": "code",
   "execution_count": 23,
   "id": "1e418541",
   "metadata": {
    "execution": {
     "iopub.execute_input": "2022-12-20T10:45:40.051532Z",
     "iopub.status.busy": "2022-12-20T10:45:40.050736Z",
     "iopub.status.idle": "2022-12-20T10:45:40.057397Z",
     "shell.execute_reply": "2022-12-20T10:45:40.056583Z"
    },
    "papermill": {
     "duration": 0.028469,
     "end_time": "2022-12-20T10:45:40.059646",
     "exception": false,
     "start_time": "2022-12-20T10:45:40.031177",
     "status": "completed"
    },
    "tags": []
   },
   "outputs": [
    {
     "data": {
      "text/plain": [
       "5.140877250169638"
      ]
     },
     "execution_count": 23,
     "metadata": {},
     "output_type": "execute_result"
    }
   ],
   "source": [
    "predictions[\"diff\"].mean()"
   ]
  },
  {
   "cell_type": "markdown",
   "id": "cbd3de7c",
   "metadata": {
    "papermill": {
     "duration": 0.019091,
     "end_time": "2022-12-20T10:45:40.096873",
     "exception": false,
     "start_time": "2022-12-20T10:45:40.077782",
     "status": "completed"
    },
    "tags": []
   },
   "source": [
    "The way we're going to improve our accuracy is by calculating the average temperature and precipitation in the past few days so the past three days and the past 14 days and looking at how the current day compares to those days."
   ]
  },
  {
   "cell_type": "code",
   "execution_count": 24,
   "id": "e080a5a5",
   "metadata": {
    "execution": {
     "iopub.execute_input": "2022-12-20T10:45:40.135384Z",
     "iopub.status.busy": "2022-12-20T10:45:40.134442Z",
     "iopub.status.idle": "2022-12-20T10:45:40.189321Z",
     "shell.execute_reply": "2022-12-20T10:45:40.187928Z"
    },
    "papermill": {
     "duration": 0.077641,
     "end_time": "2022-12-20T10:45:40.192496",
     "exception": false,
     "start_time": "2022-12-20T10:45:40.114855",
     "status": "completed"
    },
    "tags": []
   },
   "outputs": [
    {
     "data": {
      "text/html": [
       "<div>\n",
       "<style scoped>\n",
       "    .dataframe tbody tr th:only-of-type {\n",
       "        vertical-align: middle;\n",
       "    }\n",
       "\n",
       "    .dataframe tbody tr th {\n",
       "        vertical-align: top;\n",
       "    }\n",
       "\n",
       "    .dataframe thead th {\n",
       "        text-align: right;\n",
       "    }\n",
       "</style>\n",
       "<table border=\"1\" class=\"dataframe\">\n",
       "  <thead>\n",
       "    <tr style=\"text-align: right;\">\n",
       "      <th></th>\n",
       "      <th>station</th>\n",
       "      <th>name</th>\n",
       "      <th>prcp</th>\n",
       "      <th>snow</th>\n",
       "      <th>snwd</th>\n",
       "      <th>tmax</th>\n",
       "      <th>tmin</th>\n",
       "      <th>target</th>\n",
       "      <th>rolling_3_tmax</th>\n",
       "      <th>rolling_3_tmax_pct</th>\n",
       "      <th>rolling_3_tmin</th>\n",
       "      <th>rolling_3_tmin_pct</th>\n",
       "      <th>rolling_3_prcp</th>\n",
       "      <th>rolling_3_prcp_pct</th>\n",
       "      <th>rolling_14_tmax</th>\n",
       "      <th>rolling_14_tmax_pct</th>\n",
       "      <th>rolling_14_tmin</th>\n",
       "      <th>rolling_14_tmin_pct</th>\n",
       "      <th>rolling_14_prcp</th>\n",
       "      <th>rolling_14_prcp_pct</th>\n",
       "    </tr>\n",
       "    <tr>\n",
       "      <th>DATE</th>\n",
       "      <th></th>\n",
       "      <th></th>\n",
       "      <th></th>\n",
       "      <th></th>\n",
       "      <th></th>\n",
       "      <th></th>\n",
       "      <th></th>\n",
       "      <th></th>\n",
       "      <th></th>\n",
       "      <th></th>\n",
       "      <th></th>\n",
       "      <th></th>\n",
       "      <th></th>\n",
       "      <th></th>\n",
       "      <th></th>\n",
       "      <th></th>\n",
       "      <th></th>\n",
       "      <th></th>\n",
       "      <th></th>\n",
       "      <th></th>\n",
       "    </tr>\n",
       "  </thead>\n",
       "  <tbody>\n",
       "    <tr>\n",
       "      <th>1970-01-01</th>\n",
       "      <td>USW00094789</td>\n",
       "      <td>JFK INTERNATIONAL AIRPORT, NY US</td>\n",
       "      <td>0.00</td>\n",
       "      <td>0.0</td>\n",
       "      <td>0.0</td>\n",
       "      <td>28</td>\n",
       "      <td>22</td>\n",
       "      <td>31.0</td>\n",
       "      <td>NaN</td>\n",
       "      <td>NaN</td>\n",
       "      <td>NaN</td>\n",
       "      <td>NaN</td>\n",
       "      <td>NaN</td>\n",
       "      <td>NaN</td>\n",
       "      <td>NaN</td>\n",
       "      <td>NaN</td>\n",
       "      <td>NaN</td>\n",
       "      <td>NaN</td>\n",
       "      <td>NaN</td>\n",
       "      <td>NaN</td>\n",
       "    </tr>\n",
       "    <tr>\n",
       "      <th>1970-02-01</th>\n",
       "      <td>USW00094789</td>\n",
       "      <td>JFK INTERNATIONAL AIRPORT, NY US</td>\n",
       "      <td>0.00</td>\n",
       "      <td>0.0</td>\n",
       "      <td>0.0</td>\n",
       "      <td>31</td>\n",
       "      <td>22</td>\n",
       "      <td>38.0</td>\n",
       "      <td>NaN</td>\n",
       "      <td>NaN</td>\n",
       "      <td>NaN</td>\n",
       "      <td>NaN</td>\n",
       "      <td>NaN</td>\n",
       "      <td>NaN</td>\n",
       "      <td>NaN</td>\n",
       "      <td>NaN</td>\n",
       "      <td>NaN</td>\n",
       "      <td>NaN</td>\n",
       "      <td>NaN</td>\n",
       "      <td>NaN</td>\n",
       "    </tr>\n",
       "    <tr>\n",
       "      <th>1970-03-01</th>\n",
       "      <td>USW00094789</td>\n",
       "      <td>JFK INTERNATIONAL AIRPORT, NY US</td>\n",
       "      <td>0.02</td>\n",
       "      <td>0.0</td>\n",
       "      <td>0.0</td>\n",
       "      <td>38</td>\n",
       "      <td>25</td>\n",
       "      <td>31.0</td>\n",
       "      <td>32.333333</td>\n",
       "      <td>0.175258</td>\n",
       "      <td>23.000000</td>\n",
       "      <td>0.086957</td>\n",
       "      <td>0.006667</td>\n",
       "      <td>2.000000</td>\n",
       "      <td>NaN</td>\n",
       "      <td>NaN</td>\n",
       "      <td>NaN</td>\n",
       "      <td>NaN</td>\n",
       "      <td>NaN</td>\n",
       "      <td>NaN</td>\n",
       "    </tr>\n",
       "    <tr>\n",
       "      <th>1970-04-01</th>\n",
       "      <td>USW00094789</td>\n",
       "      <td>JFK INTERNATIONAL AIRPORT, NY US</td>\n",
       "      <td>0.00</td>\n",
       "      <td>0.0</td>\n",
       "      <td>0.0</td>\n",
       "      <td>31</td>\n",
       "      <td>23</td>\n",
       "      <td>35.0</td>\n",
       "      <td>33.333333</td>\n",
       "      <td>-0.070000</td>\n",
       "      <td>23.333333</td>\n",
       "      <td>-0.014286</td>\n",
       "      <td>0.006667</td>\n",
       "      <td>-1.000000</td>\n",
       "      <td>NaN</td>\n",
       "      <td>NaN</td>\n",
       "      <td>NaN</td>\n",
       "      <td>NaN</td>\n",
       "      <td>NaN</td>\n",
       "      <td>NaN</td>\n",
       "    </tr>\n",
       "    <tr>\n",
       "      <th>1970-05-01</th>\n",
       "      <td>USW00094789</td>\n",
       "      <td>JFK INTERNATIONAL AIRPORT, NY US</td>\n",
       "      <td>0.00</td>\n",
       "      <td>0.0</td>\n",
       "      <td>0.0</td>\n",
       "      <td>35</td>\n",
       "      <td>21</td>\n",
       "      <td>36.0</td>\n",
       "      <td>34.666667</td>\n",
       "      <td>0.009615</td>\n",
       "      <td>23.000000</td>\n",
       "      <td>-0.086957</td>\n",
       "      <td>0.006667</td>\n",
       "      <td>-1.000000</td>\n",
       "      <td>NaN</td>\n",
       "      <td>NaN</td>\n",
       "      <td>NaN</td>\n",
       "      <td>NaN</td>\n",
       "      <td>NaN</td>\n",
       "      <td>NaN</td>\n",
       "    </tr>\n",
       "    <tr>\n",
       "      <th>...</th>\n",
       "      <td>...</td>\n",
       "      <td>...</td>\n",
       "      <td>...</td>\n",
       "      <td>...</td>\n",
       "      <td>...</td>\n",
       "      <td>...</td>\n",
       "      <td>...</td>\n",
       "      <td>...</td>\n",
       "      <td>...</td>\n",
       "      <td>...</td>\n",
       "      <td>...</td>\n",
       "      <td>...</td>\n",
       "      <td>...</td>\n",
       "      <td>...</td>\n",
       "      <td>...</td>\n",
       "      <td>...</td>\n",
       "      <td>...</td>\n",
       "      <td>...</td>\n",
       "      <td>...</td>\n",
       "      <td>...</td>\n",
       "    </tr>\n",
       "    <tr>\n",
       "      <th>2022-04-12</th>\n",
       "      <td>USW00094789</td>\n",
       "      <td>JFK INTERNATIONAL AIRPORT, NY US</td>\n",
       "      <td>0.00</td>\n",
       "      <td>0.0</td>\n",
       "      <td>0.0</td>\n",
       "      <td>47</td>\n",
       "      <td>37</td>\n",
       "      <td>47.0</td>\n",
       "      <td>49.666667</td>\n",
       "      <td>-0.053691</td>\n",
       "      <td>37.333333</td>\n",
       "      <td>-0.008929</td>\n",
       "      <td>0.076667</td>\n",
       "      <td>-1.000000</td>\n",
       "      <td>51.785714</td>\n",
       "      <td>-0.092414</td>\n",
       "      <td>37.000000</td>\n",
       "      <td>0.000000</td>\n",
       "      <td>0.082143</td>\n",
       "      <td>-1.000000</td>\n",
       "    </tr>\n",
       "    <tr>\n",
       "      <th>2022-05-12</th>\n",
       "      <td>USW00094789</td>\n",
       "      <td>JFK INTERNATIONAL AIRPORT, NY US</td>\n",
       "      <td>0.00</td>\n",
       "      <td>0.0</td>\n",
       "      <td>0.0</td>\n",
       "      <td>47</td>\n",
       "      <td>30</td>\n",
       "      <td>57.0</td>\n",
       "      <td>50.333333</td>\n",
       "      <td>-0.066225</td>\n",
       "      <td>37.000000</td>\n",
       "      <td>-0.189189</td>\n",
       "      <td>0.076667</td>\n",
       "      <td>-1.000000</td>\n",
       "      <td>52.142857</td>\n",
       "      <td>-0.098630</td>\n",
       "      <td>37.142857</td>\n",
       "      <td>-0.192308</td>\n",
       "      <td>0.082143</td>\n",
       "      <td>-1.000000</td>\n",
       "    </tr>\n",
       "    <tr>\n",
       "      <th>2022-06-12</th>\n",
       "      <td>USW00094789</td>\n",
       "      <td>JFK INTERNATIONAL AIRPORT, NY US</td>\n",
       "      <td>0.43</td>\n",
       "      <td>0.0</td>\n",
       "      <td>0.0</td>\n",
       "      <td>57</td>\n",
       "      <td>36</td>\n",
       "      <td>57.0</td>\n",
       "      <td>50.333333</td>\n",
       "      <td>0.132450</td>\n",
       "      <td>34.333333</td>\n",
       "      <td>0.048544</td>\n",
       "      <td>0.143333</td>\n",
       "      <td>2.000000</td>\n",
       "      <td>52.642857</td>\n",
       "      <td>0.082768</td>\n",
       "      <td>37.071429</td>\n",
       "      <td>-0.028902</td>\n",
       "      <td>0.112857</td>\n",
       "      <td>2.810127</td>\n",
       "    </tr>\n",
       "    <tr>\n",
       "      <th>2022-07-12</th>\n",
       "      <td>USW00094789</td>\n",
       "      <td>JFK INTERNATIONAL AIRPORT, NY US</td>\n",
       "      <td>0.31</td>\n",
       "      <td>0.0</td>\n",
       "      <td>0.0</td>\n",
       "      <td>57</td>\n",
       "      <td>54</td>\n",
       "      <td>55.0</td>\n",
       "      <td>53.666667</td>\n",
       "      <td>0.062112</td>\n",
       "      <td>40.000000</td>\n",
       "      <td>0.350000</td>\n",
       "      <td>0.246667</td>\n",
       "      <td>0.256757</td>\n",
       "      <td>52.642857</td>\n",
       "      <td>0.082768</td>\n",
       "      <td>38.500000</td>\n",
       "      <td>0.402597</td>\n",
       "      <td>0.135000</td>\n",
       "      <td>1.296296</td>\n",
       "    </tr>\n",
       "    <tr>\n",
       "      <th>2022-08-12</th>\n",
       "      <td>USW00094789</td>\n",
       "      <td>JFK INTERNATIONAL AIRPORT, NY US</td>\n",
       "      <td>0.00</td>\n",
       "      <td>0.0</td>\n",
       "      <td>0.0</td>\n",
       "      <td>55</td>\n",
       "      <td>42</td>\n",
       "      <td>55.0</td>\n",
       "      <td>56.333333</td>\n",
       "      <td>-0.023669</td>\n",
       "      <td>44.000000</td>\n",
       "      <td>-0.045455</td>\n",
       "      <td>0.246667</td>\n",
       "      <td>-1.000000</td>\n",
       "      <td>52.785714</td>\n",
       "      <td>0.041949</td>\n",
       "      <td>39.142857</td>\n",
       "      <td>0.072993</td>\n",
       "      <td>0.135000</td>\n",
       "      <td>-1.000000</td>\n",
       "    </tr>\n",
       "  </tbody>\n",
       "</table>\n",
       "<p>19335 rows × 20 columns</p>\n",
       "</div>"
      ],
      "text/plain": [
       "                station                              name  prcp  snow  snwd  \\\n",
       "DATE                                                                          \n",
       "1970-01-01  USW00094789  JFK INTERNATIONAL AIRPORT, NY US  0.00   0.0   0.0   \n",
       "1970-02-01  USW00094789  JFK INTERNATIONAL AIRPORT, NY US  0.00   0.0   0.0   \n",
       "1970-03-01  USW00094789  JFK INTERNATIONAL AIRPORT, NY US  0.02   0.0   0.0   \n",
       "1970-04-01  USW00094789  JFK INTERNATIONAL AIRPORT, NY US  0.00   0.0   0.0   \n",
       "1970-05-01  USW00094789  JFK INTERNATIONAL AIRPORT, NY US  0.00   0.0   0.0   \n",
       "...                 ...                               ...   ...   ...   ...   \n",
       "2022-04-12  USW00094789  JFK INTERNATIONAL AIRPORT, NY US  0.00   0.0   0.0   \n",
       "2022-05-12  USW00094789  JFK INTERNATIONAL AIRPORT, NY US  0.00   0.0   0.0   \n",
       "2022-06-12  USW00094789  JFK INTERNATIONAL AIRPORT, NY US  0.43   0.0   0.0   \n",
       "2022-07-12  USW00094789  JFK INTERNATIONAL AIRPORT, NY US  0.31   0.0   0.0   \n",
       "2022-08-12  USW00094789  JFK INTERNATIONAL AIRPORT, NY US  0.00   0.0   0.0   \n",
       "\n",
       "            tmax  tmin  target  rolling_3_tmax  rolling_3_tmax_pct  \\\n",
       "DATE                                                                 \n",
       "1970-01-01    28    22    31.0             NaN                 NaN   \n",
       "1970-02-01    31    22    38.0             NaN                 NaN   \n",
       "1970-03-01    38    25    31.0       32.333333            0.175258   \n",
       "1970-04-01    31    23    35.0       33.333333           -0.070000   \n",
       "1970-05-01    35    21    36.0       34.666667            0.009615   \n",
       "...          ...   ...     ...             ...                 ...   \n",
       "2022-04-12    47    37    47.0       49.666667           -0.053691   \n",
       "2022-05-12    47    30    57.0       50.333333           -0.066225   \n",
       "2022-06-12    57    36    57.0       50.333333            0.132450   \n",
       "2022-07-12    57    54    55.0       53.666667            0.062112   \n",
       "2022-08-12    55    42    55.0       56.333333           -0.023669   \n",
       "\n",
       "            rolling_3_tmin  rolling_3_tmin_pct  rolling_3_prcp  \\\n",
       "DATE                                                             \n",
       "1970-01-01             NaN                 NaN             NaN   \n",
       "1970-02-01             NaN                 NaN             NaN   \n",
       "1970-03-01       23.000000            0.086957        0.006667   \n",
       "1970-04-01       23.333333           -0.014286        0.006667   \n",
       "1970-05-01       23.000000           -0.086957        0.006667   \n",
       "...                    ...                 ...             ...   \n",
       "2022-04-12       37.333333           -0.008929        0.076667   \n",
       "2022-05-12       37.000000           -0.189189        0.076667   \n",
       "2022-06-12       34.333333            0.048544        0.143333   \n",
       "2022-07-12       40.000000            0.350000        0.246667   \n",
       "2022-08-12       44.000000           -0.045455        0.246667   \n",
       "\n",
       "            rolling_3_prcp_pct  rolling_14_tmax  rolling_14_tmax_pct  \\\n",
       "DATE                                                                   \n",
       "1970-01-01                 NaN              NaN                  NaN   \n",
       "1970-02-01                 NaN              NaN                  NaN   \n",
       "1970-03-01            2.000000              NaN                  NaN   \n",
       "1970-04-01           -1.000000              NaN                  NaN   \n",
       "1970-05-01           -1.000000              NaN                  NaN   \n",
       "...                        ...              ...                  ...   \n",
       "2022-04-12           -1.000000        51.785714            -0.092414   \n",
       "2022-05-12           -1.000000        52.142857            -0.098630   \n",
       "2022-06-12            2.000000        52.642857             0.082768   \n",
       "2022-07-12            0.256757        52.642857             0.082768   \n",
       "2022-08-12           -1.000000        52.785714             0.041949   \n",
       "\n",
       "            rolling_14_tmin  rolling_14_tmin_pct  rolling_14_prcp  \\\n",
       "DATE                                                                \n",
       "1970-01-01              NaN                  NaN              NaN   \n",
       "1970-02-01              NaN                  NaN              NaN   \n",
       "1970-03-01              NaN                  NaN              NaN   \n",
       "1970-04-01              NaN                  NaN              NaN   \n",
       "1970-05-01              NaN                  NaN              NaN   \n",
       "...                     ...                  ...              ...   \n",
       "2022-04-12        37.000000             0.000000         0.082143   \n",
       "2022-05-12        37.142857            -0.192308         0.082143   \n",
       "2022-06-12        37.071429            -0.028902         0.112857   \n",
       "2022-07-12        38.500000             0.402597         0.135000   \n",
       "2022-08-12        39.142857             0.072993         0.135000   \n",
       "\n",
       "            rolling_14_prcp_pct  \n",
       "DATE                             \n",
       "1970-01-01                  NaN  \n",
       "1970-02-01                  NaN  \n",
       "1970-03-01                  NaN  \n",
       "1970-04-01                  NaN  \n",
       "1970-05-01                  NaN  \n",
       "...                         ...  \n",
       "2022-04-12            -1.000000  \n",
       "2022-05-12            -1.000000  \n",
       "2022-06-12             2.810127  \n",
       "2022-07-12             1.296296  \n",
       "2022-08-12            -1.000000  \n",
       "\n",
       "[19335 rows x 20 columns]"
      ]
     },
     "execution_count": 24,
     "metadata": {},
     "output_type": "execute_result"
    }
   ],
   "source": [
    "def pct_diff(old, new):     #define a function to calculate percent_difference\n",
    "    return (new - old) / old\n",
    "\n",
    "def compute_rolling(weather, horizon, col):     #calculate rolling averages for the past few periods\n",
    "                                                #horizon is the no. of days you want to calculate rolling average for\n",
    "    label = f\"rolling_{horizon}_{col}\"          #label for the new column\n",
    "    weather[label] = weather[col].rolling(horizon).mean()    #create a new column that contains the 14 day rolling average\n",
    "    weather[f\"{label}_pct\"] = pct_diff(weather[label], weather[col])    #find the difference between the current day \n",
    "                                                                        #and the rolling\n",
    "    return weather\n",
    "    \n",
    "rolling_horizons = [3, 14]     #run it for a 3-day horizon and 14-day horizon\n",
    "for horizon in rolling_horizons:\n",
    "    for col in [\"tmax\", \"tmin\", \"prcp\"]:\n",
    "        weather = compute_rolling(weather, horizon, col)\n",
    "        \n",
    "weather"
   ]
  },
  {
   "cell_type": "markdown",
   "id": "0804881f",
   "metadata": {
    "papermill": {
     "duration": 0.019386,
     "end_time": "2022-12-20T10:45:40.230614",
     "exception": false,
     "start_time": "2022-12-20T10:45:40.211228",
     "status": "completed"
    },
    "tags": []
   },
   "source": [
    "You can see there's a few missing values so the reason for this is if we're finding a 14-day rolling average for these dates we don't have 14 days of historical data to compute a rolling average. Our data started on January 1st 1970 so there aren't 14 days previous to that that we have data from so pandas has has basically labeled all these rows missing.\n",
    "\n",
    "On looking at the weather dataframe we observe that there are still a couple of missing values here and that is in the percentage column so this happens when we're basically dividing by either dividing by zero or dividing zero. ```weather.fillna(0)``` means find any missing values and fill them in with zero."
   ]
  },
  {
   "cell_type": "code",
   "execution_count": 25,
   "id": "e5fea69d",
   "metadata": {
    "execution": {
     "iopub.execute_input": "2022-12-20T10:45:40.270215Z",
     "iopub.status.busy": "2022-12-20T10:45:40.269803Z",
     "iopub.status.idle": "2022-12-20T10:45:40.289442Z",
     "shell.execute_reply": "2022-12-20T10:45:40.287963Z"
    },
    "papermill": {
     "duration": 0.042758,
     "end_time": "2022-12-20T10:45:40.292617",
     "exception": false,
     "start_time": "2022-12-20T10:45:40.249859",
     "status": "completed"
    },
    "tags": []
   },
   "outputs": [],
   "source": [
    "weather = weather.iloc[14:,:]\n",
    "weather = weather.fillna(0)"
   ]
  },
  {
   "cell_type": "markdown",
   "id": "f9edd7fd",
   "metadata": {
    "papermill": {
     "duration": 0.01816,
     "end_time": "2022-12-20T10:45:40.329444",
     "exception": false,
     "start_time": "2022-12-20T10:45:40.311284",
     "status": "completed"
    },
    "tags": []
   },
   "source": [
    "All right and now what we can do is we can add a couple more predictors so we'll first write a function called ```expand_mean``` and this is going to take our data frame as input return the mean of all of those rows together. "
   ]
  },
  {
   "cell_type": "code",
   "execution_count": 26,
   "id": "2387e0a2",
   "metadata": {
    "execution": {
     "iopub.execute_input": "2022-12-20T10:45:40.369030Z",
     "iopub.status.busy": "2022-12-20T10:45:40.368577Z",
     "iopub.status.idle": "2022-12-20T10:45:40.708865Z",
     "shell.execute_reply": "2022-12-20T10:45:40.707644Z"
    },
    "papermill": {
     "duration": 0.363497,
     "end_time": "2022-12-20T10:45:40.711809",
     "exception": false,
     "start_time": "2022-12-20T10:45:40.348312",
     "status": "completed"
    },
    "tags": []
   },
   "outputs": [],
   "source": [
    "def expand_mean(df):\n",
    "    return df.expanding(1).mean()\n",
    "\n",
    "for col in [\"tmax\", \"tmin\", \"prcp\"]:\n",
    "    weather[f\"month_avg_{col}\"] = weather[col].groupby(weather.index.month, group_keys=False).apply(expand_mean)     #group it by month\n",
    "    weather[f\"day_avg_{col}\"] = weather[col].groupby(weather.index.day_of_year, group_keys=False).apply(expand_mean) #group it by day"
   ]
  },
  {
   "cell_type": "markdown",
   "id": "bc0a17d7",
   "metadata": {
    "_kg_hide-output": true,
    "papermill": {
     "duration": 0.017723,
     "end_time": "2022-12-20T10:45:40.747793",
     "exception": false,
     "start_time": "2022-12-20T10:45:40.730070",
     "status": "completed"
    },
    "tags": []
   },
   "source": [
    "```group_keys``` equals false this just tells pandas to make the output clean and not include another level to the index. The function ```expand_mean``` groups the data by the month."
   ]
  },
  {
   "cell_type": "code",
   "execution_count": 27,
   "id": "c8ae2617",
   "metadata": {
    "execution": {
     "iopub.execute_input": "2022-12-20T10:45:40.786222Z",
     "iopub.status.busy": "2022-12-20T10:45:40.785388Z",
     "iopub.status.idle": "2022-12-20T10:45:40.828360Z",
     "shell.execute_reply": "2022-12-20T10:45:40.827191Z"
    },
    "papermill": {
     "duration": 0.065334,
     "end_time": "2022-12-20T10:45:40.831182",
     "exception": false,
     "start_time": "2022-12-20T10:45:40.765848",
     "status": "completed"
    },
    "tags": []
   },
   "outputs": [
    {
     "data": {
      "text/html": [
       "<div>\n",
       "<style scoped>\n",
       "    .dataframe tbody tr th:only-of-type {\n",
       "        vertical-align: middle;\n",
       "    }\n",
       "\n",
       "    .dataframe tbody tr th {\n",
       "        vertical-align: top;\n",
       "    }\n",
       "\n",
       "    .dataframe thead th {\n",
       "        text-align: right;\n",
       "    }\n",
       "</style>\n",
       "<table border=\"1\" class=\"dataframe\">\n",
       "  <thead>\n",
       "    <tr style=\"text-align: right;\">\n",
       "      <th></th>\n",
       "      <th>station</th>\n",
       "      <th>name</th>\n",
       "      <th>prcp</th>\n",
       "      <th>snow</th>\n",
       "      <th>snwd</th>\n",
       "      <th>tmax</th>\n",
       "      <th>tmin</th>\n",
       "      <th>target</th>\n",
       "      <th>rolling_3_tmax</th>\n",
       "      <th>rolling_3_tmax_pct</th>\n",
       "      <th>...</th>\n",
       "      <th>rolling_14_tmin</th>\n",
       "      <th>rolling_14_tmin_pct</th>\n",
       "      <th>rolling_14_prcp</th>\n",
       "      <th>rolling_14_prcp_pct</th>\n",
       "      <th>month_avg_tmax</th>\n",
       "      <th>day_avg_tmax</th>\n",
       "      <th>month_avg_tmin</th>\n",
       "      <th>day_avg_tmin</th>\n",
       "      <th>month_avg_prcp</th>\n",
       "      <th>day_avg_prcp</th>\n",
       "    </tr>\n",
       "    <tr>\n",
       "      <th>DATE</th>\n",
       "      <th></th>\n",
       "      <th></th>\n",
       "      <th></th>\n",
       "      <th></th>\n",
       "      <th></th>\n",
       "      <th></th>\n",
       "      <th></th>\n",
       "      <th></th>\n",
       "      <th></th>\n",
       "      <th></th>\n",
       "      <th></th>\n",
       "      <th></th>\n",
       "      <th></th>\n",
       "      <th></th>\n",
       "      <th></th>\n",
       "      <th></th>\n",
       "      <th></th>\n",
       "      <th></th>\n",
       "      <th></th>\n",
       "      <th></th>\n",
       "      <th></th>\n",
       "    </tr>\n",
       "  </thead>\n",
       "  <tbody>\n",
       "    <tr>\n",
       "      <th>1970-01-15</th>\n",
       "      <td>USW00094789</td>\n",
       "      <td>JFK INTERNATIONAL AIRPORT, NY US</td>\n",
       "      <td>0.00</td>\n",
       "      <td>0.0</td>\n",
       "      <td>0.0</td>\n",
       "      <td>29</td>\n",
       "      <td>13</td>\n",
       "      <td>36.0</td>\n",
       "      <td>29.666667</td>\n",
       "      <td>-0.022472</td>\n",
       "      <td>...</td>\n",
       "      <td>18.857143</td>\n",
       "      <td>-0.310606</td>\n",
       "      <td>0.022857</td>\n",
       "      <td>-1.000000</td>\n",
       "      <td>29.000000</td>\n",
       "      <td>29.000000</td>\n",
       "      <td>13.000000</td>\n",
       "      <td>13.000000</td>\n",
       "      <td>0.000000</td>\n",
       "      <td>0.000000</td>\n",
       "    </tr>\n",
       "    <tr>\n",
       "      <th>1970-01-16</th>\n",
       "      <td>USW00094789</td>\n",
       "      <td>JFK INTERNATIONAL AIRPORT, NY US</td>\n",
       "      <td>0.00</td>\n",
       "      <td>0.0</td>\n",
       "      <td>0.0</td>\n",
       "      <td>36</td>\n",
       "      <td>21</td>\n",
       "      <td>43.0</td>\n",
       "      <td>30.333333</td>\n",
       "      <td>0.186813</td>\n",
       "      <td>...</td>\n",
       "      <td>18.785714</td>\n",
       "      <td>0.117871</td>\n",
       "      <td>0.022857</td>\n",
       "      <td>-1.000000</td>\n",
       "      <td>32.500000</td>\n",
       "      <td>36.000000</td>\n",
       "      <td>17.000000</td>\n",
       "      <td>21.000000</td>\n",
       "      <td>0.000000</td>\n",
       "      <td>0.000000</td>\n",
       "    </tr>\n",
       "    <tr>\n",
       "      <th>1970-01-17</th>\n",
       "      <td>USW00094789</td>\n",
       "      <td>JFK INTERNATIONAL AIRPORT, NY US</td>\n",
       "      <td>0.02</td>\n",
       "      <td>0.0</td>\n",
       "      <td>0.0</td>\n",
       "      <td>43</td>\n",
       "      <td>30</td>\n",
       "      <td>42.0</td>\n",
       "      <td>36.000000</td>\n",
       "      <td>0.194444</td>\n",
       "      <td>...</td>\n",
       "      <td>19.142857</td>\n",
       "      <td>0.567164</td>\n",
       "      <td>0.022857</td>\n",
       "      <td>-0.125000</td>\n",
       "      <td>36.000000</td>\n",
       "      <td>43.000000</td>\n",
       "      <td>21.333333</td>\n",
       "      <td>30.000000</td>\n",
       "      <td>0.006667</td>\n",
       "      <td>0.020000</td>\n",
       "    </tr>\n",
       "    <tr>\n",
       "      <th>1970-01-18</th>\n",
       "      <td>USW00094789</td>\n",
       "      <td>JFK INTERNATIONAL AIRPORT, NY US</td>\n",
       "      <td>0.10</td>\n",
       "      <td>0.0</td>\n",
       "      <td>0.0</td>\n",
       "      <td>42</td>\n",
       "      <td>25</td>\n",
       "      <td>25.0</td>\n",
       "      <td>40.333333</td>\n",
       "      <td>0.041322</td>\n",
       "      <td>...</td>\n",
       "      <td>19.285714</td>\n",
       "      <td>0.296296</td>\n",
       "      <td>0.030000</td>\n",
       "      <td>2.333333</td>\n",
       "      <td>37.500000</td>\n",
       "      <td>42.000000</td>\n",
       "      <td>22.250000</td>\n",
       "      <td>25.000000</td>\n",
       "      <td>0.030000</td>\n",
       "      <td>0.100000</td>\n",
       "    </tr>\n",
       "    <tr>\n",
       "      <th>1970-01-19</th>\n",
       "      <td>USW00094789</td>\n",
       "      <td>JFK INTERNATIONAL AIRPORT, NY US</td>\n",
       "      <td>0.00</td>\n",
       "      <td>0.0</td>\n",
       "      <td>0.0</td>\n",
       "      <td>25</td>\n",
       "      <td>16</td>\n",
       "      <td>24.0</td>\n",
       "      <td>36.666667</td>\n",
       "      <td>-0.318182</td>\n",
       "      <td>...</td>\n",
       "      <td>18.928571</td>\n",
       "      <td>-0.154717</td>\n",
       "      <td>0.030000</td>\n",
       "      <td>-1.000000</td>\n",
       "      <td>35.000000</td>\n",
       "      <td>25.000000</td>\n",
       "      <td>21.000000</td>\n",
       "      <td>16.000000</td>\n",
       "      <td>0.024000</td>\n",
       "      <td>0.000000</td>\n",
       "    </tr>\n",
       "    <tr>\n",
       "      <th>...</th>\n",
       "      <td>...</td>\n",
       "      <td>...</td>\n",
       "      <td>...</td>\n",
       "      <td>...</td>\n",
       "      <td>...</td>\n",
       "      <td>...</td>\n",
       "      <td>...</td>\n",
       "      <td>...</td>\n",
       "      <td>...</td>\n",
       "      <td>...</td>\n",
       "      <td>...</td>\n",
       "      <td>...</td>\n",
       "      <td>...</td>\n",
       "      <td>...</td>\n",
       "      <td>...</td>\n",
       "      <td>...</td>\n",
       "      <td>...</td>\n",
       "      <td>...</td>\n",
       "      <td>...</td>\n",
       "      <td>...</td>\n",
       "      <td>...</td>\n",
       "    </tr>\n",
       "    <tr>\n",
       "      <th>2022-04-12</th>\n",
       "      <td>USW00094789</td>\n",
       "      <td>JFK INTERNATIONAL AIRPORT, NY US</td>\n",
       "      <td>0.00</td>\n",
       "      <td>0.0</td>\n",
       "      <td>0.0</td>\n",
       "      <td>47</td>\n",
       "      <td>37</td>\n",
       "      <td>47.0</td>\n",
       "      <td>49.666667</td>\n",
       "      <td>-0.053691</td>\n",
       "      <td>...</td>\n",
       "      <td>37.000000</td>\n",
       "      <td>0.000000</td>\n",
       "      <td>0.082143</td>\n",
       "      <td>-1.000000</td>\n",
       "      <td>61.531781</td>\n",
       "      <td>51.075472</td>\n",
       "      <td>46.358087</td>\n",
       "      <td>37.000000</td>\n",
       "      <td>0.120441</td>\n",
       "      <td>0.099245</td>\n",
       "    </tr>\n",
       "    <tr>\n",
       "      <th>2022-05-12</th>\n",
       "      <td>USW00094789</td>\n",
       "      <td>JFK INTERNATIONAL AIRPORT, NY US</td>\n",
       "      <td>0.00</td>\n",
       "      <td>0.0</td>\n",
       "      <td>0.0</td>\n",
       "      <td>47</td>\n",
       "      <td>30</td>\n",
       "      <td>57.0</td>\n",
       "      <td>50.333333</td>\n",
       "      <td>-0.066225</td>\n",
       "      <td>...</td>\n",
       "      <td>37.142857</td>\n",
       "      <td>-0.192308</td>\n",
       "      <td>0.082143</td>\n",
       "      <td>-1.000000</td>\n",
       "      <td>67.052375</td>\n",
       "      <td>49.339623</td>\n",
       "      <td>52.104141</td>\n",
       "      <td>38.113208</td>\n",
       "      <td>0.121066</td>\n",
       "      <td>0.146038</td>\n",
       "    </tr>\n",
       "    <tr>\n",
       "      <th>2022-06-12</th>\n",
       "      <td>USW00094789</td>\n",
       "      <td>JFK INTERNATIONAL AIRPORT, NY US</td>\n",
       "      <td>0.43</td>\n",
       "      <td>0.0</td>\n",
       "      <td>0.0</td>\n",
       "      <td>57</td>\n",
       "      <td>36</td>\n",
       "      <td>57.0</td>\n",
       "      <td>50.333333</td>\n",
       "      <td>0.132450</td>\n",
       "      <td>...</td>\n",
       "      <td>37.071429</td>\n",
       "      <td>-0.028902</td>\n",
       "      <td>0.112857</td>\n",
       "      <td>2.810127</td>\n",
       "      <td>72.006293</td>\n",
       "      <td>50.509434</td>\n",
       "      <td>57.427313</td>\n",
       "      <td>38.094340</td>\n",
       "      <td>0.111775</td>\n",
       "      <td>0.111321</td>\n",
       "    </tr>\n",
       "    <tr>\n",
       "      <th>2022-07-12</th>\n",
       "      <td>USW00094789</td>\n",
       "      <td>JFK INTERNATIONAL AIRPORT, NY US</td>\n",
       "      <td>0.31</td>\n",
       "      <td>0.0</td>\n",
       "      <td>0.0</td>\n",
       "      <td>57</td>\n",
       "      <td>54</td>\n",
       "      <td>55.0</td>\n",
       "      <td>53.666667</td>\n",
       "      <td>0.062112</td>\n",
       "      <td>...</td>\n",
       "      <td>38.500000</td>\n",
       "      <td>0.402597</td>\n",
       "      <td>0.135000</td>\n",
       "      <td>1.296296</td>\n",
       "      <td>75.300244</td>\n",
       "      <td>49.490566</td>\n",
       "      <td>60.901340</td>\n",
       "      <td>36.169811</td>\n",
       "      <td>0.122856</td>\n",
       "      <td>0.059434</td>\n",
       "    </tr>\n",
       "    <tr>\n",
       "      <th>2022-08-12</th>\n",
       "      <td>USW00094789</td>\n",
       "      <td>JFK INTERNATIONAL AIRPORT, NY US</td>\n",
       "      <td>0.00</td>\n",
       "      <td>0.0</td>\n",
       "      <td>0.0</td>\n",
       "      <td>55</td>\n",
       "      <td>42</td>\n",
       "      <td>55.0</td>\n",
       "      <td>56.333333</td>\n",
       "      <td>-0.023669</td>\n",
       "      <td>...</td>\n",
       "      <td>39.142857</td>\n",
       "      <td>0.072993</td>\n",
       "      <td>0.135000</td>\n",
       "      <td>-1.000000</td>\n",
       "      <td>73.801462</td>\n",
       "      <td>46.754717</td>\n",
       "      <td>59.528015</td>\n",
       "      <td>34.754717</td>\n",
       "      <td>0.123167</td>\n",
       "      <td>0.139057</td>\n",
       "    </tr>\n",
       "  </tbody>\n",
       "</table>\n",
       "<p>19321 rows × 26 columns</p>\n",
       "</div>"
      ],
      "text/plain": [
       "                station                              name  prcp  snow  snwd  \\\n",
       "DATE                                                                          \n",
       "1970-01-15  USW00094789  JFK INTERNATIONAL AIRPORT, NY US  0.00   0.0   0.0   \n",
       "1970-01-16  USW00094789  JFK INTERNATIONAL AIRPORT, NY US  0.00   0.0   0.0   \n",
       "1970-01-17  USW00094789  JFK INTERNATIONAL AIRPORT, NY US  0.02   0.0   0.0   \n",
       "1970-01-18  USW00094789  JFK INTERNATIONAL AIRPORT, NY US  0.10   0.0   0.0   \n",
       "1970-01-19  USW00094789  JFK INTERNATIONAL AIRPORT, NY US  0.00   0.0   0.0   \n",
       "...                 ...                               ...   ...   ...   ...   \n",
       "2022-04-12  USW00094789  JFK INTERNATIONAL AIRPORT, NY US  0.00   0.0   0.0   \n",
       "2022-05-12  USW00094789  JFK INTERNATIONAL AIRPORT, NY US  0.00   0.0   0.0   \n",
       "2022-06-12  USW00094789  JFK INTERNATIONAL AIRPORT, NY US  0.43   0.0   0.0   \n",
       "2022-07-12  USW00094789  JFK INTERNATIONAL AIRPORT, NY US  0.31   0.0   0.0   \n",
       "2022-08-12  USW00094789  JFK INTERNATIONAL AIRPORT, NY US  0.00   0.0   0.0   \n",
       "\n",
       "            tmax  tmin  target  rolling_3_tmax  rolling_3_tmax_pct  ...  \\\n",
       "DATE                                                                ...   \n",
       "1970-01-15    29    13    36.0       29.666667           -0.022472  ...   \n",
       "1970-01-16    36    21    43.0       30.333333            0.186813  ...   \n",
       "1970-01-17    43    30    42.0       36.000000            0.194444  ...   \n",
       "1970-01-18    42    25    25.0       40.333333            0.041322  ...   \n",
       "1970-01-19    25    16    24.0       36.666667           -0.318182  ...   \n",
       "...          ...   ...     ...             ...                 ...  ...   \n",
       "2022-04-12    47    37    47.0       49.666667           -0.053691  ...   \n",
       "2022-05-12    47    30    57.0       50.333333           -0.066225  ...   \n",
       "2022-06-12    57    36    57.0       50.333333            0.132450  ...   \n",
       "2022-07-12    57    54    55.0       53.666667            0.062112  ...   \n",
       "2022-08-12    55    42    55.0       56.333333           -0.023669  ...   \n",
       "\n",
       "            rolling_14_tmin  rolling_14_tmin_pct  rolling_14_prcp  \\\n",
       "DATE                                                                \n",
       "1970-01-15        18.857143            -0.310606         0.022857   \n",
       "1970-01-16        18.785714             0.117871         0.022857   \n",
       "1970-01-17        19.142857             0.567164         0.022857   \n",
       "1970-01-18        19.285714             0.296296         0.030000   \n",
       "1970-01-19        18.928571            -0.154717         0.030000   \n",
       "...                     ...                  ...              ...   \n",
       "2022-04-12        37.000000             0.000000         0.082143   \n",
       "2022-05-12        37.142857            -0.192308         0.082143   \n",
       "2022-06-12        37.071429            -0.028902         0.112857   \n",
       "2022-07-12        38.500000             0.402597         0.135000   \n",
       "2022-08-12        39.142857             0.072993         0.135000   \n",
       "\n",
       "            rolling_14_prcp_pct  month_avg_tmax  day_avg_tmax  month_avg_tmin  \\\n",
       "DATE                                                                            \n",
       "1970-01-15            -1.000000       29.000000     29.000000       13.000000   \n",
       "1970-01-16            -1.000000       32.500000     36.000000       17.000000   \n",
       "1970-01-17            -0.125000       36.000000     43.000000       21.333333   \n",
       "1970-01-18             2.333333       37.500000     42.000000       22.250000   \n",
       "1970-01-19            -1.000000       35.000000     25.000000       21.000000   \n",
       "...                         ...             ...           ...             ...   \n",
       "2022-04-12            -1.000000       61.531781     51.075472       46.358087   \n",
       "2022-05-12            -1.000000       67.052375     49.339623       52.104141   \n",
       "2022-06-12             2.810127       72.006293     50.509434       57.427313   \n",
       "2022-07-12             1.296296       75.300244     49.490566       60.901340   \n",
       "2022-08-12            -1.000000       73.801462     46.754717       59.528015   \n",
       "\n",
       "            day_avg_tmin  month_avg_prcp  day_avg_prcp  \n",
       "DATE                                                    \n",
       "1970-01-15     13.000000        0.000000      0.000000  \n",
       "1970-01-16     21.000000        0.000000      0.000000  \n",
       "1970-01-17     30.000000        0.006667      0.020000  \n",
       "1970-01-18     25.000000        0.030000      0.100000  \n",
       "1970-01-19     16.000000        0.024000      0.000000  \n",
       "...                  ...             ...           ...  \n",
       "2022-04-12     37.000000        0.120441      0.099245  \n",
       "2022-05-12     38.113208        0.121066      0.146038  \n",
       "2022-06-12     38.094340        0.111775      0.111321  \n",
       "2022-07-12     36.169811        0.122856      0.059434  \n",
       "2022-08-12     34.754717        0.123167      0.139057  \n",
       "\n",
       "[19321 rows x 26 columns]"
      ]
     },
     "execution_count": 27,
     "metadata": {},
     "output_type": "execute_result"
    }
   ],
   "source": [
    "weather"
   ]
  },
  {
   "cell_type": "markdown",
   "id": "58706bfc",
   "metadata": {
    "papermill": {
     "duration": 0.01836,
     "end_time": "2022-12-20T10:45:40.868948",
     "exception": false,
     "start_time": "2022-12-20T10:45:40.850588",
     "status": "completed"
    },
    "tags": []
   },
   "source": [
    "We have our new set of predictors. We've added a lot more columns to our data frame and we want those to be picked up by our list of predictors so let's \n",
    "go ahead and take a look."
   ]
  },
  {
   "cell_type": "code",
   "execution_count": 28,
   "id": "0e47eb32",
   "metadata": {
    "execution": {
     "iopub.execute_input": "2022-12-20T10:45:40.908575Z",
     "iopub.status.busy": "2022-12-20T10:45:40.908155Z",
     "iopub.status.idle": "2022-12-20T10:45:40.918085Z",
     "shell.execute_reply": "2022-12-20T10:45:40.916931Z"
    },
    "papermill": {
     "duration": 0.032171,
     "end_time": "2022-12-20T10:45:40.920416",
     "exception": false,
     "start_time": "2022-12-20T10:45:40.888245",
     "status": "completed"
    },
    "tags": []
   },
   "outputs": [
    {
     "data": {
      "text/plain": [
       "Index(['prcp', 'snow', 'snwd', 'tmax', 'tmin', 'rolling_3_tmax',\n",
       "       'rolling_3_tmax_pct', 'rolling_3_tmin', 'rolling_3_tmin_pct',\n",
       "       'rolling_3_prcp', 'rolling_3_prcp_pct', 'rolling_14_tmax',\n",
       "       'rolling_14_tmax_pct', 'rolling_14_tmin', 'rolling_14_tmin_pct',\n",
       "       'rolling_14_prcp', 'rolling_14_prcp_pct', 'month_avg_tmax',\n",
       "       'day_avg_tmax', 'month_avg_tmin', 'day_avg_tmin', 'month_avg_prcp',\n",
       "       'day_avg_prcp'],\n",
       "      dtype='object')"
      ]
     },
     "execution_count": 28,
     "metadata": {},
     "output_type": "execute_result"
    }
   ],
   "source": [
    "predictors = weather.columns[~weather.columns.isin([\"target\", \"name\", \"station\"])]\n",
    "predictors"
   ]
  },
  {
   "cell_type": "markdown",
   "id": "e3b679c3",
   "metadata": {
    "papermill": {
     "duration": 0.018227,
     "end_time": "2022-12-20T10:45:40.957355",
     "exception": false,
     "start_time": "2022-12-20T10:45:40.939128",
     "status": "completed"
    },
    "tags": []
   },
   "source": [
    "We can see these are our new predictors that we're going to use. We can actually just call the ```backtest``` function again and just pass in our new weather data frame and our new predictors and it'll give us updated predictions.\n"
   ]
  },
  {
   "cell_type": "code",
   "execution_count": 29,
   "id": "ba0beb84",
   "metadata": {
    "execution": {
     "iopub.execute_input": "2022-12-20T10:45:40.997001Z",
     "iopub.status.busy": "2022-12-20T10:45:40.996493Z",
     "iopub.status.idle": "2022-12-20T10:45:46.193330Z",
     "shell.execute_reply": "2022-12-20T10:45:46.191739Z"
    },
    "papermill": {
     "duration": 5.221541,
     "end_time": "2022-12-20T10:45:46.197547",
     "exception": false,
     "start_time": "2022-12-20T10:45:40.976006",
     "status": "completed"
    },
    "tags": []
   },
   "outputs": [
    {
     "data": {
      "text/plain": [
       "4.854152302923006"
      ]
     },
     "execution_count": 29,
     "metadata": {},
     "output_type": "execute_result"
    }
   ],
   "source": [
    "predictions = backtest(weather, rr, predictors)\n",
    "mean_absolute_error(predictions[\"actual\"], predictions[\"prediction\"])"
   ]
  },
  {
   "cell_type": "markdown",
   "id": "2cc03f6a",
   "metadata": {
    "papermill": {
     "duration": 0.018768,
     "end_time": "2022-12-20T10:45:46.262314",
     "exception": false,
     "start_time": "2022-12-20T10:45:46.243546",
     "status": "completed"
    },
    "tags": []
   },
   "source": [
    "Then we can again just do mean absolute error to find our error. so it is a good bit lower now which is great"
   ]
  },
  {
   "cell_type": "code",
   "execution_count": 30,
   "id": "e1631782",
   "metadata": {
    "execution": {
     "iopub.execute_input": "2022-12-20T10:45:46.302214Z",
     "iopub.status.busy": "2022-12-20T10:45:46.301765Z",
     "iopub.status.idle": "2022-12-20T10:45:46.309474Z",
     "shell.execute_reply": "2022-12-20T10:45:46.308601Z"
    },
    "papermill": {
     "duration": 0.03043,
     "end_time": "2022-12-20T10:45:46.311812",
     "exception": false,
     "start_time": "2022-12-20T10:45:46.281382",
     "status": "completed"
    },
    "tags": []
   },
   "outputs": [
    {
     "data": {
      "text/plain": [
       "38.60237089906105"
      ]
     },
     "execution_count": 30,
     "metadata": {},
     "output_type": "execute_result"
    }
   ],
   "source": [
    "mean_squared_error(predictions[\"actual\"], predictions[\"prediction\"])"
   ]
  },
  {
   "cell_type": "markdown",
   "id": "14e880a5",
   "metadata": {
    "papermill": {
     "duration": 0.019608,
     "end_time": "2022-12-20T10:45:46.351023",
     "exception": false,
     "start_time": "2022-12-20T10:45:46.331415",
     "status": "completed"
    },
    "tags": []
   },
   "source": [
    "We can take a look just at our predictions data frame and we can do sort values which will sort our data frame by a single column in this case we're going to sort it  by the difference between what we predicted and the actual temperature. Sort them in descending order so we can see the days on which we had our biggest errors these are typically days where the temperature the day before was a lot lower and the temperature the day after was a lot lower so they they're kind of anomalous days."
   ]
  },
  {
   "cell_type": "code",
   "execution_count": 31,
   "id": "4100c7da",
   "metadata": {
    "execution": {
     "iopub.execute_input": "2022-12-20T10:45:46.391986Z",
     "iopub.status.busy": "2022-12-20T10:45:46.391446Z",
     "iopub.status.idle": "2022-12-20T10:45:46.410746Z",
     "shell.execute_reply": "2022-12-20T10:45:46.409589Z"
    },
    "papermill": {
     "duration": 0.042894,
     "end_time": "2022-12-20T10:45:46.413302",
     "exception": false,
     "start_time": "2022-12-20T10:45:46.370408",
     "status": "completed"
    },
    "tags": []
   },
   "outputs": [
    {
     "data": {
      "text/html": [
       "<div>\n",
       "<style scoped>\n",
       "    .dataframe tbody tr th:only-of-type {\n",
       "        vertical-align: middle;\n",
       "    }\n",
       "\n",
       "    .dataframe tbody tr th {\n",
       "        vertical-align: top;\n",
       "    }\n",
       "\n",
       "    .dataframe thead th {\n",
       "        text-align: right;\n",
       "    }\n",
       "</style>\n",
       "<table border=\"1\" class=\"dataframe\">\n",
       "  <thead>\n",
       "    <tr style=\"text-align: right;\">\n",
       "      <th></th>\n",
       "      <th>actual</th>\n",
       "      <th>prediction</th>\n",
       "      <th>diff</th>\n",
       "    </tr>\n",
       "    <tr>\n",
       "      <th>DATE</th>\n",
       "      <th></th>\n",
       "      <th></th>\n",
       "      <th></th>\n",
       "    </tr>\n",
       "  </thead>\n",
       "  <tbody>\n",
       "    <tr>\n",
       "      <th>1990-12-03</th>\n",
       "      <td>85.0</td>\n",
       "      <td>53.651017</td>\n",
       "      <td>31.348983</td>\n",
       "    </tr>\n",
       "    <tr>\n",
       "      <th>1998-03-26</th>\n",
       "      <td>80.0</td>\n",
       "      <td>51.347896</td>\n",
       "      <td>28.652104</td>\n",
       "    </tr>\n",
       "    <tr>\n",
       "      <th>2007-03-26</th>\n",
       "      <td>78.0</td>\n",
       "      <td>49.742780</td>\n",
       "      <td>28.257220</td>\n",
       "    </tr>\n",
       "    <tr>\n",
       "      <th>2003-04-15</th>\n",
       "      <td>86.0</td>\n",
       "      <td>57.987157</td>\n",
       "      <td>28.012843</td>\n",
       "    </tr>\n",
       "    <tr>\n",
       "      <th>1985-04-18</th>\n",
       "      <td>84.0</td>\n",
       "      <td>58.091652</td>\n",
       "      <td>25.908348</td>\n",
       "    </tr>\n",
       "    <tr>\n",
       "      <th>...</th>\n",
       "      <td>...</td>\n",
       "      <td>...</td>\n",
       "      <td>...</td>\n",
       "    </tr>\n",
       "    <tr>\n",
       "      <th>1999-01-15</th>\n",
       "      <td>42.0</td>\n",
       "      <td>41.995849</td>\n",
       "      <td>0.004151</td>\n",
       "    </tr>\n",
       "    <tr>\n",
       "      <th>1982-12-18</th>\n",
       "      <td>37.0</td>\n",
       "      <td>37.002622</td>\n",
       "      <td>0.002622</td>\n",
       "    </tr>\n",
       "    <tr>\n",
       "      <th>2014-01-24</th>\n",
       "      <td>30.0</td>\n",
       "      <td>30.002059</td>\n",
       "      <td>0.002059</td>\n",
       "    </tr>\n",
       "    <tr>\n",
       "      <th>1995-03-09</th>\n",
       "      <td>80.0</td>\n",
       "      <td>80.000552</td>\n",
       "      <td>0.000552</td>\n",
       "    </tr>\n",
       "    <tr>\n",
       "      <th>1995-01-24</th>\n",
       "      <td>44.0</td>\n",
       "      <td>43.999697</td>\n",
       "      <td>0.000303</td>\n",
       "    </tr>\n",
       "  </tbody>\n",
       "</table>\n",
       "<p>15671 rows × 3 columns</p>\n",
       "</div>"
      ],
      "text/plain": [
       "            actual  prediction       diff\n",
       "DATE                                     \n",
       "1990-12-03    85.0   53.651017  31.348983\n",
       "1998-03-26    80.0   51.347896  28.652104\n",
       "2007-03-26    78.0   49.742780  28.257220\n",
       "2003-04-15    86.0   57.987157  28.012843\n",
       "1985-04-18    84.0   58.091652  25.908348\n",
       "...            ...         ...        ...\n",
       "1999-01-15    42.0   41.995849   0.004151\n",
       "1982-12-18    37.0   37.002622   0.002622\n",
       "2014-01-24    30.0   30.002059   0.002059\n",
       "1995-03-09    80.0   80.000552   0.000552\n",
       "1995-01-24    44.0   43.999697   0.000303\n",
       "\n",
       "[15671 rows x 3 columns]"
      ]
     },
     "execution_count": 31,
     "metadata": {},
     "output_type": "execute_result"
    }
   ],
   "source": [
    "predictions.sort_values(\"diff\", ascending=False)"
   ]
  },
  {
   "cell_type": "markdown",
   "id": "9811fb18",
   "metadata": {
    "papermill": {
     "duration": 0.019159,
     "end_time": "2022-12-20T10:45:46.452161",
     "exception": false,
     "start_time": "2022-12-20T10:45:46.433002",
     "status": "completed"
    },
    "tags": []
   },
   "source": [
    "For example if we wanted to take a look at what happened on March 12 1990 we could say we want to take a look at all of the rows from March 7th to March 17 1990. and what this gives us is our rows immediately before and immediately after the anomalous temperature so we can take a look here and we can see 85 was was really seemed kind of random right there are a lot of lower temperatures than 85 than a lot of lower temperatures "
   ]
  },
  {
   "cell_type": "code",
   "execution_count": 32,
   "id": "958f30b8",
   "metadata": {
    "execution": {
     "iopub.execute_input": "2022-12-20T10:45:46.494184Z",
     "iopub.status.busy": "2022-12-20T10:45:46.493168Z",
     "iopub.status.idle": "2022-12-20T10:45:46.545813Z",
     "shell.execute_reply": "2022-12-20T10:45:46.544436Z"
    },
    "papermill": {
     "duration": 0.076618,
     "end_time": "2022-12-20T10:45:46.548524",
     "exception": false,
     "start_time": "2022-12-20T10:45:46.471906",
     "status": "completed"
    },
    "tags": []
   },
   "outputs": [
    {
     "data": {
      "text/html": [
       "<div>\n",
       "<style scoped>\n",
       "    .dataframe tbody tr th:only-of-type {\n",
       "        vertical-align: middle;\n",
       "    }\n",
       "\n",
       "    .dataframe tbody tr th {\n",
       "        vertical-align: top;\n",
       "    }\n",
       "\n",
       "    .dataframe thead th {\n",
       "        text-align: right;\n",
       "    }\n",
       "</style>\n",
       "<table border=\"1\" class=\"dataframe\">\n",
       "  <thead>\n",
       "    <tr style=\"text-align: right;\">\n",
       "      <th></th>\n",
       "      <th>station</th>\n",
       "      <th>name</th>\n",
       "      <th>prcp</th>\n",
       "      <th>snow</th>\n",
       "      <th>snwd</th>\n",
       "      <th>tmax</th>\n",
       "      <th>tmin</th>\n",
       "      <th>target</th>\n",
       "      <th>rolling_3_tmax</th>\n",
       "      <th>rolling_3_tmax_pct</th>\n",
       "      <th>...</th>\n",
       "      <th>rolling_14_tmin</th>\n",
       "      <th>rolling_14_tmin_pct</th>\n",
       "      <th>rolling_14_prcp</th>\n",
       "      <th>rolling_14_prcp_pct</th>\n",
       "      <th>month_avg_tmax</th>\n",
       "      <th>day_avg_tmax</th>\n",
       "      <th>month_avg_tmin</th>\n",
       "      <th>day_avg_tmin</th>\n",
       "      <th>month_avg_prcp</th>\n",
       "      <th>day_avg_prcp</th>\n",
       "    </tr>\n",
       "    <tr>\n",
       "      <th>DATE</th>\n",
       "      <th></th>\n",
       "      <th></th>\n",
       "      <th></th>\n",
       "      <th></th>\n",
       "      <th></th>\n",
       "      <th></th>\n",
       "      <th></th>\n",
       "      <th></th>\n",
       "      <th></th>\n",
       "      <th></th>\n",
       "      <th></th>\n",
       "      <th></th>\n",
       "      <th></th>\n",
       "      <th></th>\n",
       "      <th></th>\n",
       "      <th></th>\n",
       "      <th></th>\n",
       "      <th></th>\n",
       "      <th></th>\n",
       "      <th></th>\n",
       "      <th></th>\n",
       "    </tr>\n",
       "  </thead>\n",
       "  <tbody>\n",
       "    <tr>\n",
       "      <th>1990-03-13</th>\n",
       "      <td>USW00094789</td>\n",
       "      <td>JFK INTERNATIONAL AIRPORT, NY US</td>\n",
       "      <td>0.00</td>\n",
       "      <td>0.0</td>\n",
       "      <td>0.0</td>\n",
       "      <td>85</td>\n",
       "      <td>41</td>\n",
       "      <td>62.0</td>\n",
       "      <td>67.666667</td>\n",
       "      <td>0.256158</td>\n",
       "      <td>...</td>\n",
       "      <td>29.500000</td>\n",
       "      <td>0.389831</td>\n",
       "      <td>0.020000</td>\n",
       "      <td>-1.000000</td>\n",
       "      <td>54.794543</td>\n",
       "      <td>50.380952</td>\n",
       "      <td>40.662921</td>\n",
       "      <td>35.380952</td>\n",
       "      <td>0.129470</td>\n",
       "      <td>0.076190</td>\n",
       "    </tr>\n",
       "    <tr>\n",
       "      <th>1990-03-14</th>\n",
       "      <td>USW00094789</td>\n",
       "      <td>JFK INTERNATIONAL AIRPORT, NY US</td>\n",
       "      <td>0.00</td>\n",
       "      <td>0.0</td>\n",
       "      <td>0.0</td>\n",
       "      <td>62</td>\n",
       "      <td>46</td>\n",
       "      <td>55.0</td>\n",
       "      <td>68.666667</td>\n",
       "      <td>-0.097087</td>\n",
       "      <td>...</td>\n",
       "      <td>30.857143</td>\n",
       "      <td>0.490741</td>\n",
       "      <td>0.020000</td>\n",
       "      <td>-1.000000</td>\n",
       "      <td>54.806090</td>\n",
       "      <td>50.190476</td>\n",
       "      <td>40.671474</td>\n",
       "      <td>36.809524</td>\n",
       "      <td>0.129263</td>\n",
       "      <td>0.259524</td>\n",
       "    </tr>\n",
       "    <tr>\n",
       "      <th>1990-03-15</th>\n",
       "      <td>USW00094789</td>\n",
       "      <td>JFK INTERNATIONAL AIRPORT, NY US</td>\n",
       "      <td>0.00</td>\n",
       "      <td>0.0</td>\n",
       "      <td>0.0</td>\n",
       "      <td>55</td>\n",
       "      <td>43</td>\n",
       "      <td>62.0</td>\n",
       "      <td>67.333333</td>\n",
       "      <td>-0.183168</td>\n",
       "      <td>...</td>\n",
       "      <td>32.214286</td>\n",
       "      <td>0.334812</td>\n",
       "      <td>0.020000</td>\n",
       "      <td>-1.000000</td>\n",
       "      <td>54.806400</td>\n",
       "      <td>49.714286</td>\n",
       "      <td>40.675200</td>\n",
       "      <td>35.761905</td>\n",
       "      <td>0.129056</td>\n",
       "      <td>0.066667</td>\n",
       "    </tr>\n",
       "    <tr>\n",
       "      <th>1990-03-16</th>\n",
       "      <td>USW00094789</td>\n",
       "      <td>JFK INTERNATIONAL AIRPORT, NY US</td>\n",
       "      <td>0.00</td>\n",
       "      <td>0.0</td>\n",
       "      <td>0.0</td>\n",
       "      <td>62</td>\n",
       "      <td>48</td>\n",
       "      <td>61.0</td>\n",
       "      <td>59.666667</td>\n",
       "      <td>0.039106</td>\n",
       "      <td>...</td>\n",
       "      <td>33.428571</td>\n",
       "      <td>0.435897</td>\n",
       "      <td>0.020000</td>\n",
       "      <td>-1.000000</td>\n",
       "      <td>54.817891</td>\n",
       "      <td>50.095238</td>\n",
       "      <td>40.686901</td>\n",
       "      <td>35.619048</td>\n",
       "      <td>0.128850</td>\n",
       "      <td>0.083810</td>\n",
       "    </tr>\n",
       "    <tr>\n",
       "      <th>1990-03-17</th>\n",
       "      <td>USW00094789</td>\n",
       "      <td>JFK INTERNATIONAL AIRPORT, NY US</td>\n",
       "      <td>0.26</td>\n",
       "      <td>0.0</td>\n",
       "      <td>0.0</td>\n",
       "      <td>61</td>\n",
       "      <td>49</td>\n",
       "      <td>59.0</td>\n",
       "      <td>59.333333</td>\n",
       "      <td>0.028090</td>\n",
       "      <td>...</td>\n",
       "      <td>34.357143</td>\n",
       "      <td>0.426195</td>\n",
       "      <td>0.038571</td>\n",
       "      <td>5.740741</td>\n",
       "      <td>54.827751</td>\n",
       "      <td>48.095238</td>\n",
       "      <td>40.700159</td>\n",
       "      <td>34.619048</td>\n",
       "      <td>0.129059</td>\n",
       "      <td>0.079048</td>\n",
       "    </tr>\n",
       "    <tr>\n",
       "      <th>1990-03-07</th>\n",
       "      <td>USW00094789</td>\n",
       "      <td>JFK INTERNATIONAL AIRPORT, NY US</td>\n",
       "      <td>0.00</td>\n",
       "      <td>0.0</td>\n",
       "      <td>0.0</td>\n",
       "      <td>85</td>\n",
       "      <td>63</td>\n",
       "      <td>90.0</td>\n",
       "      <td>79.666667</td>\n",
       "      <td>0.066946</td>\n",
       "      <td>...</td>\n",
       "      <td>66.285714</td>\n",
       "      <td>-0.049569</td>\n",
       "      <td>0.052857</td>\n",
       "      <td>-1.000000</td>\n",
       "      <td>54.793798</td>\n",
       "      <td>79.047619</td>\n",
       "      <td>40.668217</td>\n",
       "      <td>64.095238</td>\n",
       "      <td>0.130202</td>\n",
       "      <td>0.153810</td>\n",
       "    </tr>\n",
       "    <tr>\n",
       "      <th>1990-03-08</th>\n",
       "      <td>USW00094789</td>\n",
       "      <td>JFK INTERNATIONAL AIRPORT, NY US</td>\n",
       "      <td>0.00</td>\n",
       "      <td>0.0</td>\n",
       "      <td>0.0</td>\n",
       "      <td>89</td>\n",
       "      <td>72</td>\n",
       "      <td>85.0</td>\n",
       "      <td>86.666667</td>\n",
       "      <td>0.026923</td>\n",
       "      <td>...</td>\n",
       "      <td>70.071429</td>\n",
       "      <td>0.027523</td>\n",
       "      <td>0.197143</td>\n",
       "      <td>-1.000000</td>\n",
       "      <td>54.846749</td>\n",
       "      <td>83.904762</td>\n",
       "      <td>40.716718</td>\n",
       "      <td>70.380952</td>\n",
       "      <td>0.130000</td>\n",
       "      <td>0.080476</td>\n",
       "    </tr>\n",
       "    <tr>\n",
       "      <th>1990-03-09</th>\n",
       "      <td>USW00094789</td>\n",
       "      <td>JFK INTERNATIONAL AIRPORT, NY US</td>\n",
       "      <td>0.00</td>\n",
       "      <td>0.0</td>\n",
       "      <td>0.0</td>\n",
       "      <td>77</td>\n",
       "      <td>63</td>\n",
       "      <td>74.0</td>\n",
       "      <td>79.333333</td>\n",
       "      <td>-0.029412</td>\n",
       "      <td>...</td>\n",
       "      <td>67.071429</td>\n",
       "      <td>-0.060703</td>\n",
       "      <td>0.229286</td>\n",
       "      <td>-1.000000</td>\n",
       "      <td>54.880989</td>\n",
       "      <td>81.523810</td>\n",
       "      <td>40.751159</td>\n",
       "      <td>67.000000</td>\n",
       "      <td>0.129799</td>\n",
       "      <td>0.113810</td>\n",
       "    </tr>\n",
       "    <tr>\n",
       "      <th>1990-03-10</th>\n",
       "      <td>USW00094789</td>\n",
       "      <td>JFK INTERNATIONAL AIRPORT, NY US</td>\n",
       "      <td>0.00</td>\n",
       "      <td>0.0</td>\n",
       "      <td>0.0</td>\n",
       "      <td>69</td>\n",
       "      <td>50</td>\n",
       "      <td>73.0</td>\n",
       "      <td>69.333333</td>\n",
       "      <td>-0.004808</td>\n",
       "      <td>...</td>\n",
       "      <td>56.071429</td>\n",
       "      <td>-0.108280</td>\n",
       "      <td>0.057857</td>\n",
       "      <td>-1.000000</td>\n",
       "      <td>54.902778</td>\n",
       "      <td>70.619048</td>\n",
       "      <td>40.765432</td>\n",
       "      <td>56.095238</td>\n",
       "      <td>0.129599</td>\n",
       "      <td>0.178095</td>\n",
       "    </tr>\n",
       "    <tr>\n",
       "      <th>1990-03-11</th>\n",
       "      <td>USW00094789</td>\n",
       "      <td>JFK INTERNATIONAL AIRPORT, NY US</td>\n",
       "      <td>0.00</td>\n",
       "      <td>0.0</td>\n",
       "      <td>0.0</td>\n",
       "      <td>75</td>\n",
       "      <td>53</td>\n",
       "      <td>70.0</td>\n",
       "      <td>69.666667</td>\n",
       "      <td>0.076555</td>\n",
       "      <td>...</td>\n",
       "      <td>47.428571</td>\n",
       "      <td>0.117470</td>\n",
       "      <td>0.112143</td>\n",
       "      <td>-1.000000</td>\n",
       "      <td>54.933744</td>\n",
       "      <td>63.857143</td>\n",
       "      <td>40.784284</td>\n",
       "      <td>50.047619</td>\n",
       "      <td>0.129399</td>\n",
       "      <td>0.111905</td>\n",
       "    </tr>\n",
       "    <tr>\n",
       "      <th>1990-03-12</th>\n",
       "      <td>USW00094789</td>\n",
       "      <td>JFK INTERNATIONAL AIRPORT, NY US</td>\n",
       "      <td>0.85</td>\n",
       "      <td>0.0</td>\n",
       "      <td>0.0</td>\n",
       "      <td>53</td>\n",
       "      <td>38</td>\n",
       "      <td>58.0</td>\n",
       "      <td>53.666667</td>\n",
       "      <td>-0.012422</td>\n",
       "      <td>...</td>\n",
       "      <td>39.500000</td>\n",
       "      <td>-0.037975</td>\n",
       "      <td>0.091429</td>\n",
       "      <td>8.296875</td>\n",
       "      <td>54.930769</td>\n",
       "      <td>49.952381</td>\n",
       "      <td>40.780000</td>\n",
       "      <td>35.761905</td>\n",
       "      <td>0.130508</td>\n",
       "      <td>0.097619</td>\n",
       "    </tr>\n",
       "  </tbody>\n",
       "</table>\n",
       "<p>11 rows × 26 columns</p>\n",
       "</div>"
      ],
      "text/plain": [
       "                station                              name  prcp  snow  snwd  \\\n",
       "DATE                                                                          \n",
       "1990-03-13  USW00094789  JFK INTERNATIONAL AIRPORT, NY US  0.00   0.0   0.0   \n",
       "1990-03-14  USW00094789  JFK INTERNATIONAL AIRPORT, NY US  0.00   0.0   0.0   \n",
       "1990-03-15  USW00094789  JFK INTERNATIONAL AIRPORT, NY US  0.00   0.0   0.0   \n",
       "1990-03-16  USW00094789  JFK INTERNATIONAL AIRPORT, NY US  0.00   0.0   0.0   \n",
       "1990-03-17  USW00094789  JFK INTERNATIONAL AIRPORT, NY US  0.26   0.0   0.0   \n",
       "1990-03-07  USW00094789  JFK INTERNATIONAL AIRPORT, NY US  0.00   0.0   0.0   \n",
       "1990-03-08  USW00094789  JFK INTERNATIONAL AIRPORT, NY US  0.00   0.0   0.0   \n",
       "1990-03-09  USW00094789  JFK INTERNATIONAL AIRPORT, NY US  0.00   0.0   0.0   \n",
       "1990-03-10  USW00094789  JFK INTERNATIONAL AIRPORT, NY US  0.00   0.0   0.0   \n",
       "1990-03-11  USW00094789  JFK INTERNATIONAL AIRPORT, NY US  0.00   0.0   0.0   \n",
       "1990-03-12  USW00094789  JFK INTERNATIONAL AIRPORT, NY US  0.85   0.0   0.0   \n",
       "\n",
       "            tmax  tmin  target  rolling_3_tmax  rolling_3_tmax_pct  ...  \\\n",
       "DATE                                                                ...   \n",
       "1990-03-13    85    41    62.0       67.666667            0.256158  ...   \n",
       "1990-03-14    62    46    55.0       68.666667           -0.097087  ...   \n",
       "1990-03-15    55    43    62.0       67.333333           -0.183168  ...   \n",
       "1990-03-16    62    48    61.0       59.666667            0.039106  ...   \n",
       "1990-03-17    61    49    59.0       59.333333            0.028090  ...   \n",
       "1990-03-07    85    63    90.0       79.666667            0.066946  ...   \n",
       "1990-03-08    89    72    85.0       86.666667            0.026923  ...   \n",
       "1990-03-09    77    63    74.0       79.333333           -0.029412  ...   \n",
       "1990-03-10    69    50    73.0       69.333333           -0.004808  ...   \n",
       "1990-03-11    75    53    70.0       69.666667            0.076555  ...   \n",
       "1990-03-12    53    38    58.0       53.666667           -0.012422  ...   \n",
       "\n",
       "            rolling_14_tmin  rolling_14_tmin_pct  rolling_14_prcp  \\\n",
       "DATE                                                                \n",
       "1990-03-13        29.500000             0.389831         0.020000   \n",
       "1990-03-14        30.857143             0.490741         0.020000   \n",
       "1990-03-15        32.214286             0.334812         0.020000   \n",
       "1990-03-16        33.428571             0.435897         0.020000   \n",
       "1990-03-17        34.357143             0.426195         0.038571   \n",
       "1990-03-07        66.285714            -0.049569         0.052857   \n",
       "1990-03-08        70.071429             0.027523         0.197143   \n",
       "1990-03-09        67.071429            -0.060703         0.229286   \n",
       "1990-03-10        56.071429            -0.108280         0.057857   \n",
       "1990-03-11        47.428571             0.117470         0.112143   \n",
       "1990-03-12        39.500000            -0.037975         0.091429   \n",
       "\n",
       "            rolling_14_prcp_pct  month_avg_tmax  day_avg_tmax  month_avg_tmin  \\\n",
       "DATE                                                                            \n",
       "1990-03-13            -1.000000       54.794543     50.380952       40.662921   \n",
       "1990-03-14            -1.000000       54.806090     50.190476       40.671474   \n",
       "1990-03-15            -1.000000       54.806400     49.714286       40.675200   \n",
       "1990-03-16            -1.000000       54.817891     50.095238       40.686901   \n",
       "1990-03-17             5.740741       54.827751     48.095238       40.700159   \n",
       "1990-03-07            -1.000000       54.793798     79.047619       40.668217   \n",
       "1990-03-08            -1.000000       54.846749     83.904762       40.716718   \n",
       "1990-03-09            -1.000000       54.880989     81.523810       40.751159   \n",
       "1990-03-10            -1.000000       54.902778     70.619048       40.765432   \n",
       "1990-03-11            -1.000000       54.933744     63.857143       40.784284   \n",
       "1990-03-12             8.296875       54.930769     49.952381       40.780000   \n",
       "\n",
       "            day_avg_tmin  month_avg_prcp  day_avg_prcp  \n",
       "DATE                                                    \n",
       "1990-03-13     35.380952        0.129470      0.076190  \n",
       "1990-03-14     36.809524        0.129263      0.259524  \n",
       "1990-03-15     35.761905        0.129056      0.066667  \n",
       "1990-03-16     35.619048        0.128850      0.083810  \n",
       "1990-03-17     34.619048        0.129059      0.079048  \n",
       "1990-03-07     64.095238        0.130202      0.153810  \n",
       "1990-03-08     70.380952        0.130000      0.080476  \n",
       "1990-03-09     67.000000        0.129799      0.113810  \n",
       "1990-03-10     56.095238        0.129599      0.178095  \n",
       "1990-03-11     50.047619        0.129399      0.111905  \n",
       "1990-03-12     35.761905        0.130508      0.097619  \n",
       "\n",
       "[11 rows x 26 columns]"
      ]
     },
     "execution_count": 32,
     "metadata": {},
     "output_type": "execute_result"
    }
   ],
   "source": [
    "weather.loc[\"1990-03-07\": \"1990-03-17\"]"
   ]
  },
  {
   "cell_type": "markdown",
   "id": "06c30412",
   "metadata": {
    "papermill": {
     "duration": 0.019735,
     "end_time": "2022-12-20T10:45:46.589395",
     "exception": false,
     "start_time": "2022-12-20T10:45:46.569660",
     "status": "completed"
    },
    "tags": []
   },
   "source": [
    "More atmospheric data about wind conditions, cloud cover and barometric pressure can be used to predict accurately. We can make a plot of the error bucket."
   ]
  },
  {
   "cell_type": "code",
   "execution_count": 33,
   "id": "c8ed666f",
   "metadata": {
    "execution": {
     "iopub.execute_input": "2022-12-20T10:45:46.631367Z",
     "iopub.status.busy": "2022-12-20T10:45:46.630907Z",
     "iopub.status.idle": "2022-12-20T10:45:46.796125Z",
     "shell.execute_reply": "2022-12-20T10:45:46.794901Z"
    },
    "papermill": {
     "duration": 0.189262,
     "end_time": "2022-12-20T10:45:46.798633",
     "exception": false,
     "start_time": "2022-12-20T10:45:46.609371",
     "status": "completed"
    },
    "tags": []
   },
   "outputs": [
    {
     "data": {
      "text/plain": [
       "<AxesSubplot:>"
      ]
     },
     "execution_count": 33,
     "metadata": {},
     "output_type": "execute_result"
    },
    {
     "data": {
      "image/png": "[encoded data removed]",
      "text/plain": [
       "<Figure size 432x288 with 1 Axes>"
      ]
     },
     "metadata": {
      "needs_background": "light"
     },
     "output_type": "display_data"
    }
   ],
   "source": [
    "predictions[\"diff\"].round().value_counts().sort_index().plot()"
   ]
  },
  {
   "cell_type": "markdown",
   "id": "db13c185",
   "metadata": {
    "papermill": {
     "duration": 0.020324,
     "end_time": "2022-12-20T10:45:46.839567",
     "exception": false,
     "start_time": "2022-12-20T10:45:46.819243",
     "status": "completed"
    },
    "tags": []
   },
   "source": [
    "We can see most of the time our error is pretty low but there's kind of a long tail of error where some of the errors are actually very very high and these are the things that make our mean absolute error a lot higher."
   ]
  },
  {
   "cell_type": "markdown",
   "id": "b70aec03",
   "metadata": {
    "papermill": {
     "duration": 0.020429,
     "end_time": "2022-12-20T10:45:46.880586",
     "exception": false,
     "start_time": "2022-12-20T10:45:46.860157",
     "status": "completed"
    },
    "tags": []
   },
   "source": [
    "We've built our model, improved our model and taken a look at a few diagnostics to investigate what's happening with our model.\n",
    "To continue improving the model you can do to improve accuracy is always to add in more predictor columns. You can add in more columns like the average monthly temperature, the average daily temperature or ratios between the two or ratio between the current temperature or current precipitation. You can also take a look at these types of rolling averages and and see if you can compute either different Horizons or different types of rolling predictors. \n",
    "\n",
    "Some column with null values were removed initially. We can actually use some of these column, process them a little bit differently and investigate if there is anything useful.\n",
    "The other thing you can do to improve accuracy is actually to change the model -  you could use xgboost or random forest or a more complicated model that may perform better. More complicated doesn't always mean that it will perform better but it could so it's worth trying that to improve accuracy."
   ]
  }
 ],
 "metadata": {
  "kernelspec": {
   "display_name": "Python 3",
   "language": "python",
   "name": "python3"
  },
  "language_info": {
   "codemirror_mode": {
    "name": "ipython",
    "version": 3
   },
   "file_extension": ".py",
   "mimetype": "text/x-python",
   "name": "python",
   "nbconvert_exporter": "python",
   "pygments_lexer": "ipython3",
   "version": "3.7.12"
  },
  "papermill": {
   "default_parameters": {},
   "duration": 22.329666,
   "end_time": "2022-12-20T10:45:47.926119",
   "environment_variables": {},
   "exception": null,
   "input_path": "__notebook__.ipynb",
   "output_path": "__notebook__.ipynb",
   "parameters": {},
   "start_time": "2022-12-20T10:45:25.596453",
   "version": "2.3.4"
  }
 },
 "nbformat": 4,
 "nbformat_minor": 5
}
