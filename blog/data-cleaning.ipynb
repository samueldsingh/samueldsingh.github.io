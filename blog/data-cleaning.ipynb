{
 "cells": [
  {
   "cell_type": "markdown",
   "id": "206c60ac",
   "metadata": {
    "papermill": {
     "duration": 0.022032,
     "end_time": "2022-07-12T03:11:22.026150",
     "exception": false,
     "start_time": "2022-07-12T03:11:22.004118",
     "status": "completed"
    },
    "tags": []
   },
   "source": [
    "# Data Cleaning in Python"
   ]
  },
  {
   "cell_type": "markdown",
   "id": "cc060c7f",
   "metadata": {
    "papermill": {
     "duration": 0.017245,
     "end_time": "2022-07-12T03:11:22.060991",
     "exception": false,
     "start_time": "2022-07-12T03:11:22.043746",
     "status": "completed"
    },
    "tags": []
   },
   "source": [
    "In order for the data to be useful, the data has to be cleaned to remove missing data, irregular data (outliers), unnecessary data (duplicates), and inconsistent (capitalization, addresses). After cleaning the data, a machine learning model or any statistical model can be used to derive insights from data.\n",
    "\n",
    ">Data cleansing or data cleaning is the process of detecting and correcting (or removing) corrupt or inaccurate records from a record set, table, or database and refers to identifying incomplete, incorrect, inaccurate or irrelevant parts of the data and then replacing, modifying, or deleting the dirty or coarse data. Data cleansing may be performed interactively with data wrangling tools, or as batch processing through scripting or a data quality firewall.\n",
    "\n",
    "Python provides some handy functions that can be used to clean data."
   ]
  },
  {
   "cell_type": "markdown",
   "id": "63008c69",
   "metadata": {
    "papermill": {
     "duration": 0.017135,
     "end_time": "2022-07-12T03:11:22.095690",
     "exception": false,
     "start_time": "2022-07-12T03:11:22.078555",
     "status": "completed"
    },
    "tags": []
   },
   "source": [
    "## 1. Handling missing data"
   ]
  },
  {
   "cell_type": "markdown",
   "id": "02bd71f7",
   "metadata": {
    "papermill": {
     "duration": 0.01718,
     "end_time": "2022-07-12T03:11:22.130539",
     "exception": false,
     "start_time": "2022-07-12T03:11:22.113359",
     "status": "completed"
    },
    "tags": []
   },
   "source": [
    "The first thing that needs to be done is loading in the libraries and datasets. I will be using the dataset of building permits issued in San Francisco."
   ]
  },
  {
   "cell_type": "code",
   "execution_count": 1,
   "id": "3fbb874b",
   "metadata": {
    "execution": {
     "iopub.execute_input": "2022-07-12T03:11:22.167717Z",
     "iopub.status.busy": "2022-07-12T03:11:22.167265Z",
     "iopub.status.idle": "2022-07-12T03:11:24.596324Z",
     "shell.execute_reply": "2022-07-12T03:11:24.595023Z"
    },
    "papermill": {
     "duration": 2.451028,
     "end_time": "2022-07-12T03:11:24.599183",
     "exception": false,
     "start_time": "2022-07-12T03:11:22.148155",
     "status": "completed"
    },
    "tags": []
   },
   "outputs": [
    {
     "name": "stderr",
     "output_type": "stream",
     "text": [
      "/opt/conda/lib/python3.7/site-packages/IPython/core/interactiveshell.py:3552: DtypeWarning: Columns (22,32) have mixed types.Specify dtype option on import or set low_memory=False.\n",
      "  exec(code_obj, self.user_global_ns, self.user_ns)\n"
     ]
    }
   ],
   "source": [
    "# modules we'll use\n",
    "import pandas as pd\n",
    "import numpy as np\n",
    "\n",
    "# read in all our data\n",
    "sf_permits = pd.read_csv(\"../input/building-permit-applications-data/Building_Permits.csv\")\n",
    "\n",
    "# set seed for reproducibility\n",
    "np.random.seed(0) "
   ]
  },
  {
   "cell_type": "markdown",
   "id": "1ba0036c",
   "metadata": {
    "papermill": {
     "duration": 0.017269,
     "end_time": "2022-07-12T03:11:24.636328",
     "exception": false,
     "start_time": "2022-07-12T03:11:24.619059",
     "status": "completed"
    },
    "tags": []
   },
   "source": [
    "### 1.1 Missing Data Points"
   ]
  },
  {
   "cell_type": "markdown",
   "id": "32691da8",
   "metadata": {
    "papermill": {
     "duration": 0.017165,
     "end_time": "2022-07-12T03:11:24.670983",
     "exception": false,
     "start_time": "2022-07-12T03:11:24.653818",
     "status": "completed"
    },
    "tags": []
   },
   "source": [
    "Look for any any missing values, which is represented with ```NaN``` or ```None```."
   ]
  },
  {
   "cell_type": "code",
   "execution_count": 2,
   "id": "c97c2713",
   "metadata": {
    "execution": {
     "iopub.execute_input": "2022-07-12T03:11:24.707134Z",
     "iopub.status.busy": "2022-07-12T03:11:24.706557Z",
     "iopub.status.idle": "2022-07-12T03:11:24.750628Z",
     "shell.execute_reply": "2022-07-12T03:11:24.749536Z"
    },
    "papermill": {
     "duration": 0.064538,
     "end_time": "2022-07-12T03:11:24.752754",
     "exception": false,
     "start_time": "2022-07-12T03:11:24.688216",
     "status": "completed"
    },
    "tags": []
   },
   "outputs": [
    {
     "data": {
      "text/html": [
       "<div>\n",
       "<style scoped>\n",
       "    .dataframe tbody tr th:only-of-type {\n",
       "        vertical-align: middle;\n",
       "    }\n",
       "\n",
       "    .dataframe tbody tr th {\n",
       "        vertical-align: top;\n",
       "    }\n",
       "\n",
       "    .dataframe thead th {\n",
       "        text-align: right;\n",
       "    }\n",
       "</style>\n",
       "<table border=\"1\" class=\"dataframe\">\n",
       "  <thead>\n",
       "    <tr style=\"text-align: right;\">\n",
       "      <th></th>\n",
       "      <th>Permit Number</th>\n",
       "      <th>Permit Type</th>\n",
       "      <th>Permit Type Definition</th>\n",
       "      <th>Permit Creation Date</th>\n",
       "      <th>Block</th>\n",
       "      <th>Lot</th>\n",
       "      <th>Street Number</th>\n",
       "      <th>Street Number Suffix</th>\n",
       "      <th>Street Name</th>\n",
       "      <th>Street Suffix</th>\n",
       "      <th>...</th>\n",
       "      <th>Existing Construction Type</th>\n",
       "      <th>Existing Construction Type Description</th>\n",
       "      <th>Proposed Construction Type</th>\n",
       "      <th>Proposed Construction Type Description</th>\n",
       "      <th>Site Permit</th>\n",
       "      <th>Supervisor District</th>\n",
       "      <th>Neighborhoods - Analysis Boundaries</th>\n",
       "      <th>Zipcode</th>\n",
       "      <th>Location</th>\n",
       "      <th>Record ID</th>\n",
       "    </tr>\n",
       "  </thead>\n",
       "  <tbody>\n",
       "    <tr>\n",
       "      <th>40553</th>\n",
       "      <td>201403039652</td>\n",
       "      <td>8</td>\n",
       "      <td>otc alterations permit</td>\n",
       "      <td>03/03/2014</td>\n",
       "      <td>3732</td>\n",
       "      <td>008</td>\n",
       "      <td>400</td>\n",
       "      <td>NaN</td>\n",
       "      <td>Clementina</td>\n",
       "      <td>St</td>\n",
       "      <td>...</td>\n",
       "      <td>NaN</td>\n",
       "      <td>NaN</td>\n",
       "      <td>1.0</td>\n",
       "      <td>constr type 1</td>\n",
       "      <td>NaN</td>\n",
       "      <td>6.0</td>\n",
       "      <td>South of Market</td>\n",
       "      <td>94103.0</td>\n",
       "      <td>(37.780460571778164, -122.40450626524974)</td>\n",
       "      <td>1334094491645</td>\n",
       "    </tr>\n",
       "    <tr>\n",
       "      <th>169731</th>\n",
       "      <td>201510159735</td>\n",
       "      <td>3</td>\n",
       "      <td>additions alterations or repairs</td>\n",
       "      <td>10/15/2015</td>\n",
       "      <td>2609</td>\n",
       "      <td>028</td>\n",
       "      <td>79</td>\n",
       "      <td>NaN</td>\n",
       "      <td>Buena Vista</td>\n",
       "      <td>Tr</td>\n",
       "      <td>...</td>\n",
       "      <td>5.0</td>\n",
       "      <td>wood frame (5)</td>\n",
       "      <td>5.0</td>\n",
       "      <td>wood frame (5)</td>\n",
       "      <td>NaN</td>\n",
       "      <td>8.0</td>\n",
       "      <td>Castro/Upper Market</td>\n",
       "      <td>94117.0</td>\n",
       "      <td>(37.76757916496494, -122.43793170417105)</td>\n",
       "      <td>1399356139170</td>\n",
       "    </tr>\n",
       "    <tr>\n",
       "      <th>19180</th>\n",
       "      <td>M409787</td>\n",
       "      <td>8</td>\n",
       "      <td>otc alterations permit</td>\n",
       "      <td>07/22/2013</td>\n",
       "      <td>4624</td>\n",
       "      <td>031</td>\n",
       "      <td>178</td>\n",
       "      <td>NaN</td>\n",
       "      <td>West Point</td>\n",
       "      <td>Rd</td>\n",
       "      <td>...</td>\n",
       "      <td>NaN</td>\n",
       "      <td>NaN</td>\n",
       "      <td>NaN</td>\n",
       "      <td>NaN</td>\n",
       "      <td>NaN</td>\n",
       "      <td>10.0</td>\n",
       "      <td>Bayview Hunters Point</td>\n",
       "      <td>94124.0</td>\n",
       "      <td>(37.73524725436046, -122.38063828309745)</td>\n",
       "      <td>1311685491725</td>\n",
       "    </tr>\n",
       "    <tr>\n",
       "      <th>68047</th>\n",
       "      <td>201411191888</td>\n",
       "      <td>8</td>\n",
       "      <td>otc alterations permit</td>\n",
       "      <td>11/19/2014</td>\n",
       "      <td>0039</td>\n",
       "      <td>109</td>\n",
       "      <td>294</td>\n",
       "      <td>NaN</td>\n",
       "      <td>Francisco</td>\n",
       "      <td>St</td>\n",
       "      <td>...</td>\n",
       "      <td>5.0</td>\n",
       "      <td>wood frame (5)</td>\n",
       "      <td>5.0</td>\n",
       "      <td>wood frame (5)</td>\n",
       "      <td>NaN</td>\n",
       "      <td>3.0</td>\n",
       "      <td>North Beach</td>\n",
       "      <td>94133.0</td>\n",
       "      <td>(37.805257822817126, -122.40998545760392)</td>\n",
       "      <td>1362881288870</td>\n",
       "    </tr>\n",
       "    <tr>\n",
       "      <th>64238</th>\n",
       "      <td>M527228</td>\n",
       "      <td>8</td>\n",
       "      <td>otc alterations permit</td>\n",
       "      <td>10/14/2014</td>\n",
       "      <td>1251</td>\n",
       "      <td>002</td>\n",
       "      <td>707</td>\n",
       "      <td>NaN</td>\n",
       "      <td>Cole</td>\n",
       "      <td>St</td>\n",
       "      <td>...</td>\n",
       "      <td>NaN</td>\n",
       "      <td>NaN</td>\n",
       "      <td>NaN</td>\n",
       "      <td>NaN</td>\n",
       "      <td>NaN</td>\n",
       "      <td>5.0</td>\n",
       "      <td>Haight Ashbury</td>\n",
       "      <td>94117.0</td>\n",
       "      <td>(37.76836885973765, -122.45074431487859)</td>\n",
       "      <td>135886493776</td>\n",
       "    </tr>\n",
       "  </tbody>\n",
       "</table>\n",
       "<p>5 rows × 43 columns</p>\n",
       "</div>"
      ],
      "text/plain": [
       "       Permit Number  Permit Type            Permit Type Definition  \\\n",
       "40553   201403039652            8            otc alterations permit   \n",
       "169731  201510159735            3  additions alterations or repairs   \n",
       "19180        M409787            8            otc alterations permit   \n",
       "68047   201411191888            8            otc alterations permit   \n",
       "64238        M527228            8            otc alterations permit   \n",
       "\n",
       "       Permit Creation Date Block  Lot  Street Number Street Number Suffix  \\\n",
       "40553            03/03/2014  3732  008            400                  NaN   \n",
       "169731           10/15/2015  2609  028             79                  NaN   \n",
       "19180            07/22/2013  4624  031            178                  NaN   \n",
       "68047            11/19/2014  0039  109            294                  NaN   \n",
       "64238            10/14/2014  1251  002            707                  NaN   \n",
       "\n",
       "        Street Name Street Suffix  ...  Existing Construction Type  \\\n",
       "40553    Clementina            St  ...                         NaN   \n",
       "169731  Buena Vista            Tr  ...                         5.0   \n",
       "19180    West Point            Rd  ...                         NaN   \n",
       "68047     Francisco            St  ...                         5.0   \n",
       "64238          Cole            St  ...                         NaN   \n",
       "\n",
       "       Existing Construction Type Description Proposed Construction Type  \\\n",
       "40553                                     NaN                        1.0   \n",
       "169731                         wood frame (5)                        5.0   \n",
       "19180                                     NaN                        NaN   \n",
       "68047                          wood frame (5)                        5.0   \n",
       "64238                                     NaN                        NaN   \n",
       "\n",
       "       Proposed Construction Type Description Site Permit Supervisor District  \\\n",
       "40553                           constr type 1         NaN                 6.0   \n",
       "169731                         wood frame (5)         NaN                 8.0   \n",
       "19180                                     NaN         NaN                10.0   \n",
       "68047                          wood frame (5)         NaN                 3.0   \n",
       "64238                                     NaN         NaN                 5.0   \n",
       "\n",
       "       Neighborhoods - Analysis Boundaries  Zipcode  \\\n",
       "40553                      South of Market  94103.0   \n",
       "169731                 Castro/Upper Market  94117.0   \n",
       "19180                Bayview Hunters Point  94124.0   \n",
       "68047                          North Beach  94133.0   \n",
       "64238                       Haight Ashbury  94117.0   \n",
       "\n",
       "                                         Location      Record ID  \n",
       "40553   (37.780460571778164, -122.40450626524974)  1334094491645  \n",
       "169731   (37.76757916496494, -122.43793170417105)  1399356139170  \n",
       "19180    (37.73524725436046, -122.38063828309745)  1311685491725  \n",
       "68047   (37.805257822817126, -122.40998545760392)  1362881288870  \n",
       "64238    (37.76836885973765, -122.45074431487859)   135886493776  \n",
       "\n",
       "[5 rows x 43 columns]"
      ]
     },
     "execution_count": 2,
     "metadata": {},
     "output_type": "execute_result"
    }
   ],
   "source": [
    "sf_permits.sample(5)"
   ]
  },
  {
   "cell_type": "markdown",
   "id": "8b7f15d8",
   "metadata": {
    "papermill": {
     "duration": 0.017545,
     "end_time": "2022-07-12T03:11:24.788515",
     "exception": false,
     "start_time": "2022-07-12T03:11:24.770970",
     "status": "completed"
    },
    "tags": []
   },
   "source": [
    "As there are some missing values, the number of missing value in each column is:"
   ]
  },
  {
   "cell_type": "code",
   "execution_count": 3,
   "id": "781f68b0",
   "metadata": {
    "execution": {
     "iopub.execute_input": "2022-07-12T03:11:24.826091Z",
     "iopub.status.busy": "2022-07-12T03:11:24.825423Z",
     "iopub.status.idle": "2022-07-12T03:11:25.057258Z",
     "shell.execute_reply": "2022-07-12T03:11:25.056086Z"
    },
    "papermill": {
     "duration": 0.253333,
     "end_time": "2022-07-12T03:11:25.059682",
     "exception": false,
     "start_time": "2022-07-12T03:11:24.806349",
     "status": "completed"
    },
    "tags": []
   },
   "outputs": [
    {
     "data": {
      "text/plain": [
       "Permit Number                                  0\n",
       "Permit Type                                    0\n",
       "Permit Type Definition                         0\n",
       "Permit Creation Date                           0\n",
       "Block                                          0\n",
       "Lot                                            0\n",
       "Street Number                                  0\n",
       "Street Number Suffix                      196684\n",
       "Street Name                                    0\n",
       "Street Suffix                               2768\n",
       "Unit                                      169421\n",
       "Unit Suffix                               196939\n",
       "Description                                  290\n",
       "Current Status                                 0\n",
       "Current Status Date                            0\n",
       "Filed Date                                     0\n",
       "Issued Date                                14940\n",
       "Completed Date                            101709\n",
       "First Construction Document Date           14946\n",
       "Structural Notification                   191978\n",
       "Number of Existing Stories                 42784\n",
       "Number of Proposed Stories                 42868\n",
       "Voluntary Soft-Story Retrofit             198865\n",
       "Fire Only Permit                          180073\n",
       "Permit Expiration Date                     51880\n",
       "Estimated Cost                             38066\n",
       "Revised Cost                                6066\n",
       "Existing Use                               41114\n",
       "Existing Units                             51538\n",
       "Proposed Use                               42439\n",
       "Proposed Units                             50911\n",
       "Plansets                                   37309\n",
       "TIDF Compliance                           198898\n",
       "Existing Construction Type                 43366\n",
       "Existing Construction Type Description     43366\n",
       "Proposed Construction Type                 43162\n",
       "Proposed Construction Type Description     43162\n",
       "Site Permit                               193541\n",
       "Supervisor District                         1717\n",
       "Neighborhoods - Analysis Boundaries         1725\n",
       "Zipcode                                     1716\n",
       "Location                                    1700\n",
       "Record ID                                      0\n",
       "dtype: int64"
      ]
     },
     "execution_count": 3,
     "metadata": {},
     "output_type": "execute_result"
    }
   ],
   "source": [
    "# get the number of missing data points per column\n",
    "missing_values_count = sf_permits.isnull().sum()\n",
    "\n",
    "# look at the # of missing points in the first ten columns\n",
    "missing_values_count"
   ]
  },
  {
   "cell_type": "markdown",
   "id": "216d8305",
   "metadata": {
    "papermill": {
     "duration": 0.018464,
     "end_time": "2022-07-12T03:11:25.095983",
     "exception": false,
     "start_time": "2022-07-12T03:11:25.077519",
     "status": "completed"
    },
    "tags": []
   },
   "source": [
    "There is a lot of missing data. Getting a percentage of missing values in the dataset can be a better way to get a sense of the scale of the problem."
   ]
  },
  {
   "cell_type": "code",
   "execution_count": 4,
   "id": "8d331887",
   "metadata": {
    "execution": {
     "iopub.execute_input": "2022-07-12T03:11:25.135287Z",
     "iopub.status.busy": "2022-07-12T03:11:25.134251Z",
     "iopub.status.idle": "2022-07-12T03:11:25.142352Z",
     "shell.execute_reply": "2022-07-12T03:11:25.141261Z"
    },
    "papermill": {
     "duration": 0.029979,
     "end_time": "2022-07-12T03:11:25.144466",
     "exception": false,
     "start_time": "2022-07-12T03:11:25.114487",
     "status": "completed"
    },
    "tags": []
   },
   "outputs": [
    {
     "data": {
      "text/plain": [
       "26.26002315058403"
      ]
     },
     "execution_count": 4,
     "metadata": {},
     "output_type": "execute_result"
    }
   ],
   "source": [
    "# how many total missing values do we have?\n",
    "total_cells = np.product(sf_permits.shape)\n",
    "total_missing = missing_values_count.sum()\n",
    "\n",
    "# percent of data that is missing\n",
    "(total_missing/total_cells) * 100"
   ]
  },
  {
   "cell_type": "markdown",
   "id": "96a320e5",
   "metadata": {
    "papermill": {
     "duration": 0.017856,
     "end_time": "2022-07-12T03:11:25.181403",
     "exception": false,
     "start_time": "2022-07-12T03:11:25.163547",
     "status": "completed"
    },
    "tags": []
   },
   "source": [
    "More than a quarter of the values in the cells are missing."
   ]
  },
  {
   "cell_type": "markdown",
   "id": "147e3e21",
   "metadata": {
    "papermill": {
     "duration": 0.018632,
     "end_time": "2022-07-12T03:11:25.218461",
     "exception": false,
     "start_time": "2022-07-12T03:11:25.199829",
     "status": "completed"
    },
    "tags": []
   },
   "source": [
    "### 1.2 Figure out why data is missing"
   ]
  },
  {
   "cell_type": "markdown",
   "id": "52ac8391",
   "metadata": {
    "papermill": {
     "duration": 0.017992,
     "end_time": "2022-07-12T03:11:25.254808",
     "exception": false,
     "start_time": "2022-07-12T03:11:25.236816",
     "status": "completed"
    },
    "tags": []
   },
   "source": [
    "Now is the time for \"data intuition\". \"Data Intuition\" is the part where we look at the data and try to figure out why the data is missing and how it will affect the analysis. One of the most important question we can ask to help figure this out is:\n",
    "\n",
    "##### Is this value missing becuase it wasn't recorded or becuase it dosen't exist?"
   ]
  },
  {
   "cell_type": "code",
   "execution_count": 5,
   "id": "7c37f293",
   "metadata": {
    "execution": {
     "iopub.execute_input": "2022-07-12T03:11:25.293282Z",
     "iopub.status.busy": "2022-07-12T03:11:25.292895Z",
     "iopub.status.idle": "2022-07-12T03:11:25.300581Z",
     "shell.execute_reply": "2022-07-12T03:11:25.299454Z"
    },
    "papermill": {
     "duration": 0.029489,
     "end_time": "2022-07-12T03:11:25.302774",
     "exception": false,
     "start_time": "2022-07-12T03:11:25.273285",
     "status": "completed"
    },
    "tags": []
   },
   "outputs": [
    {
     "data": {
      "text/plain": [
       "Permit Number                  0\n",
       "Permit Type                    0\n",
       "Permit Type Definition         0\n",
       "Permit Creation Date           0\n",
       "Block                          0\n",
       "Lot                            0\n",
       "Street Number                  0\n",
       "Street Number Suffix      196684\n",
       "Street Name                    0\n",
       "Street Suffix               2768\n",
       "dtype: int64"
      ]
     },
     "execution_count": 5,
     "metadata": {},
     "output_type": "execute_result"
    }
   ],
   "source": [
    "# look at the # of missing points in the first ten columns\n",
    "missing_values_count[0:10]"
   ]
  },
  {
   "cell_type": "markdown",
   "id": "b9e2af36",
   "metadata": {
    "papermill": {
     "duration": 0.018173,
     "end_time": "2022-07-12T03:11:25.339250",
     "exception": false,
     "start_time": "2022-07-12T03:11:25.321077",
     "status": "completed"
    },
    "tags": []
   },
   "source": [
    "By looking at the [documentation](https://www.kaggle.com/datasets/aparnashastry/building-permit-applications-data), ```Street Number Suffix``` has a lot of missing values. It is probably because the value doesn't exist as most street number won't have a suffix."
   ]
  },
  {
   "cell_type": "markdown",
   "id": "7889419e",
   "metadata": {
    "papermill": {
     "duration": 0.018215,
     "end_time": "2022-07-12T03:11:25.376196",
     "exception": false,
     "start_time": "2022-07-12T03:11:25.357981",
     "status": "completed"
    },
    "tags": []
   },
   "source": [
    "If you're doing very careful data analysis, this is the point at which you'd look at each column individually to figure out the best strategy for filling those missing values. For the rest of the process, we'll cover some \"quick and dirty\" techniques that can help you with missing values but will probably also end up removing some useful information or adding some noise to your data."
   ]
  },
  {
   "cell_type": "markdown",
   "id": "5cd5a494",
   "metadata": {
    "papermill": {
     "duration": 0.018646,
     "end_time": "2022-07-12T03:11:25.413566",
     "exception": false,
     "start_time": "2022-07-12T03:11:25.394920",
     "status": "completed"
    },
    "tags": []
   },
   "source": [
    "### 1.3 Drop missing values"
   ]
  },
  {
   "cell_type": "markdown",
   "id": "24bb71f7",
   "metadata": {
    "papermill": {
     "duration": 0.018134,
     "end_time": "2022-07-12T03:11:25.450270",
     "exception": false,
     "start_time": "2022-07-12T03:11:25.432136",
     "status": "completed"
    },
    "tags": []
   },
   "source": [
    "If you are in a hurry or don't have a reason to figure out why your values are missing, one option is to just remove any rows or columns that contain missing values. (Not recommended for important projects! It's usually worth it to take the time to go through your data and really look at all the columns with missing values one-by-one to really get to know the dataset.)\n",
    "\n",
    "If you surely want to drop rows with missing values, pandas does have a handy function, ```dropna()``` to help do this."
   ]
  },
  {
   "cell_type": "code",
   "execution_count": 6,
   "id": "fd2ef26c",
   "metadata": {
    "execution": {
     "iopub.execute_input": "2022-07-12T03:11:25.488960Z",
     "iopub.status.busy": "2022-07-12T03:11:25.488607Z",
     "iopub.status.idle": "2022-07-12T03:11:25.737399Z",
     "shell.execute_reply": "2022-07-12T03:11:25.736255Z"
    },
    "papermill": {
     "duration": 0.270905,
     "end_time": "2022-07-12T03:11:25.739722",
     "exception": false,
     "start_time": "2022-07-12T03:11:25.468817",
     "status": "completed"
    },
    "tags": []
   },
   "outputs": [
    {
     "data": {
      "text/html": [
       "<div>\n",
       "<style scoped>\n",
       "    .dataframe tbody tr th:only-of-type {\n",
       "        vertical-align: middle;\n",
       "    }\n",
       "\n",
       "    .dataframe tbody tr th {\n",
       "        vertical-align: top;\n",
       "    }\n",
       "\n",
       "    .dataframe thead th {\n",
       "        text-align: right;\n",
       "    }\n",
       "</style>\n",
       "<table border=\"1\" class=\"dataframe\">\n",
       "  <thead>\n",
       "    <tr style=\"text-align: right;\">\n",
       "      <th></th>\n",
       "      <th>Permit Number</th>\n",
       "      <th>Permit Type</th>\n",
       "      <th>Permit Type Definition</th>\n",
       "      <th>Permit Creation Date</th>\n",
       "      <th>Block</th>\n",
       "      <th>Lot</th>\n",
       "      <th>Street Number</th>\n",
       "      <th>Street Number Suffix</th>\n",
       "      <th>Street Name</th>\n",
       "      <th>Street Suffix</th>\n",
       "      <th>...</th>\n",
       "      <th>Existing Construction Type</th>\n",
       "      <th>Existing Construction Type Description</th>\n",
       "      <th>Proposed Construction Type</th>\n",
       "      <th>Proposed Construction Type Description</th>\n",
       "      <th>Site Permit</th>\n",
       "      <th>Supervisor District</th>\n",
       "      <th>Neighborhoods - Analysis Boundaries</th>\n",
       "      <th>Zipcode</th>\n",
       "      <th>Location</th>\n",
       "      <th>Record ID</th>\n",
       "    </tr>\n",
       "  </thead>\n",
       "  <tbody>\n",
       "  </tbody>\n",
       "</table>\n",
       "<p>0 rows × 43 columns</p>\n",
       "</div>"
      ],
      "text/plain": [
       "Empty DataFrame\n",
       "Columns: [Permit Number, Permit Type, Permit Type Definition, Permit Creation Date, Block, Lot, Street Number, Street Number Suffix, Street Name, Street Suffix, Unit, Unit Suffix, Description, Current Status, Current Status Date, Filed Date, Issued Date, Completed Date, First Construction Document Date, Structural Notification, Number of Existing Stories, Number of Proposed Stories, Voluntary Soft-Story Retrofit, Fire Only Permit, Permit Expiration Date, Estimated Cost, Revised Cost, Existing Use, Existing Units, Proposed Use, Proposed Units, Plansets, TIDF Compliance, Existing Construction Type, Existing Construction Type Description, Proposed Construction Type, Proposed Construction Type Description, Site Permit, Supervisor District, Neighborhoods - Analysis Boundaries, Zipcode, Location, Record ID]\n",
       "Index: []\n",
       "\n",
       "[0 rows x 43 columns]"
      ]
     },
     "execution_count": 6,
     "metadata": {},
     "output_type": "execute_result"
    }
   ],
   "source": [
    "# remove all the rows that contain a missing value\n",
    "sf_permits.dropna()"
   ]
  },
  {
   "cell_type": "markdown",
   "id": "43b819a7",
   "metadata": {
    "papermill": {
     "duration": 0.018301,
     "end_time": "2022-07-12T03:11:25.776477",
     "exception": false,
     "start_time": "2022-07-12T03:11:25.758176",
     "status": "completed"
    },
    "tags": []
   },
   "source": [
    "Every row in the dataset had at least one missing value, hence all the data was removed. It seems more reasonable to remove all the columns that have at least one missing value instead."
   ]
  },
  {
   "cell_type": "code",
   "execution_count": 7,
   "id": "31ed81b1",
   "metadata": {
    "execution": {
     "iopub.execute_input": "2022-07-12T03:11:25.816161Z",
     "iopub.status.busy": "2022-07-12T03:11:25.815797Z",
     "iopub.status.idle": "2022-07-12T03:11:26.071548Z",
     "shell.execute_reply": "2022-07-12T03:11:26.070473Z"
    },
    "papermill": {
     "duration": 0.278246,
     "end_time": "2022-07-12T03:11:26.073872",
     "exception": false,
     "start_time": "2022-07-12T03:11:25.795626",
     "status": "completed"
    },
    "tags": []
   },
   "outputs": [
    {
     "data": {
      "text/html": [
       "<div>\n",
       "<style scoped>\n",
       "    .dataframe tbody tr th:only-of-type {\n",
       "        vertical-align: middle;\n",
       "    }\n",
       "\n",
       "    .dataframe tbody tr th {\n",
       "        vertical-align: top;\n",
       "    }\n",
       "\n",
       "    .dataframe thead th {\n",
       "        text-align: right;\n",
       "    }\n",
       "</style>\n",
       "<table border=\"1\" class=\"dataframe\">\n",
       "  <thead>\n",
       "    <tr style=\"text-align: right;\">\n",
       "      <th></th>\n",
       "      <th>Permit Number</th>\n",
       "      <th>Permit Type</th>\n",
       "      <th>Permit Type Definition</th>\n",
       "      <th>Permit Creation Date</th>\n",
       "      <th>Block</th>\n",
       "      <th>Lot</th>\n",
       "      <th>Street Number</th>\n",
       "      <th>Street Name</th>\n",
       "      <th>Current Status</th>\n",
       "      <th>Current Status Date</th>\n",
       "      <th>Filed Date</th>\n",
       "      <th>Record ID</th>\n",
       "    </tr>\n",
       "  </thead>\n",
       "  <tbody>\n",
       "    <tr>\n",
       "      <th>0</th>\n",
       "      <td>201505065519</td>\n",
       "      <td>4</td>\n",
       "      <td>sign - erect</td>\n",
       "      <td>05/06/2015</td>\n",
       "      <td>0326</td>\n",
       "      <td>023</td>\n",
       "      <td>140</td>\n",
       "      <td>Ellis</td>\n",
       "      <td>expired</td>\n",
       "      <td>12/21/2017</td>\n",
       "      <td>05/06/2015</td>\n",
       "      <td>1380611233945</td>\n",
       "    </tr>\n",
       "    <tr>\n",
       "      <th>1</th>\n",
       "      <td>201604195146</td>\n",
       "      <td>4</td>\n",
       "      <td>sign - erect</td>\n",
       "      <td>04/19/2016</td>\n",
       "      <td>0306</td>\n",
       "      <td>007</td>\n",
       "      <td>440</td>\n",
       "      <td>Geary</td>\n",
       "      <td>issued</td>\n",
       "      <td>08/03/2017</td>\n",
       "      <td>04/19/2016</td>\n",
       "      <td>1420164406718</td>\n",
       "    </tr>\n",
       "    <tr>\n",
       "      <th>2</th>\n",
       "      <td>201605278609</td>\n",
       "      <td>3</td>\n",
       "      <td>additions alterations or repairs</td>\n",
       "      <td>05/27/2016</td>\n",
       "      <td>0595</td>\n",
       "      <td>203</td>\n",
       "      <td>1647</td>\n",
       "      <td>Pacific</td>\n",
       "      <td>withdrawn</td>\n",
       "      <td>09/26/2017</td>\n",
       "      <td>05/27/2016</td>\n",
       "      <td>1424856504716</td>\n",
       "    </tr>\n",
       "    <tr>\n",
       "      <th>3</th>\n",
       "      <td>201611072166</td>\n",
       "      <td>8</td>\n",
       "      <td>otc alterations permit</td>\n",
       "      <td>11/07/2016</td>\n",
       "      <td>0156</td>\n",
       "      <td>011</td>\n",
       "      <td>1230</td>\n",
       "      <td>Pacific</td>\n",
       "      <td>complete</td>\n",
       "      <td>07/24/2017</td>\n",
       "      <td>11/07/2016</td>\n",
       "      <td>1443574295566</td>\n",
       "    </tr>\n",
       "    <tr>\n",
       "      <th>4</th>\n",
       "      <td>201611283529</td>\n",
       "      <td>6</td>\n",
       "      <td>demolitions</td>\n",
       "      <td>11/28/2016</td>\n",
       "      <td>0342</td>\n",
       "      <td>001</td>\n",
       "      <td>950</td>\n",
       "      <td>Market</td>\n",
       "      <td>issued</td>\n",
       "      <td>12/01/2017</td>\n",
       "      <td>11/28/2016</td>\n",
       "      <td>144548169992</td>\n",
       "    </tr>\n",
       "  </tbody>\n",
       "</table>\n",
       "</div>"
      ],
      "text/plain": [
       "  Permit Number  Permit Type            Permit Type Definition  \\\n",
       "0  201505065519            4                      sign - erect   \n",
       "1  201604195146            4                      sign - erect   \n",
       "2  201605278609            3  additions alterations or repairs   \n",
       "3  201611072166            8            otc alterations permit   \n",
       "4  201611283529            6                       demolitions   \n",
       "\n",
       "  Permit Creation Date Block  Lot  Street Number Street Name Current Status  \\\n",
       "0           05/06/2015  0326  023            140       Ellis        expired   \n",
       "1           04/19/2016  0306  007            440       Geary         issued   \n",
       "2           05/27/2016  0595  203           1647     Pacific      withdrawn   \n",
       "3           11/07/2016  0156  011           1230     Pacific       complete   \n",
       "4           11/28/2016  0342  001            950      Market         issued   \n",
       "\n",
       "  Current Status Date  Filed Date      Record ID  \n",
       "0          12/21/2017  05/06/2015  1380611233945  \n",
       "1          08/03/2017  04/19/2016  1420164406718  \n",
       "2          09/26/2017  05/27/2016  1424856504716  \n",
       "3          07/24/2017  11/07/2016  1443574295566  \n",
       "4          12/01/2017  11/28/2016   144548169992  "
      ]
     },
     "execution_count": 7,
     "metadata": {},
     "output_type": "execute_result"
    }
   ],
   "source": [
    "# remove all columns with at least one missing value\n",
    "columns_with_na_dropped = sf_permits.dropna(axis=1)\n",
    "columns_with_na_dropped.head()"
   ]
  },
  {
   "cell_type": "markdown",
   "id": "0e8f76fe",
   "metadata": {
    "papermill": {
     "duration": 0.018759,
     "end_time": "2022-07-12T03:11:26.111884",
     "exception": false,
     "start_time": "2022-07-12T03:11:26.093125",
     "status": "completed"
    },
    "tags": []
   },
   "source": [
    "Now look at how much data has been lost."
   ]
  },
  {
   "cell_type": "code",
   "execution_count": 8,
   "id": "b31749ea",
   "metadata": {
    "execution": {
     "iopub.execute_input": "2022-07-12T03:11:26.151637Z",
     "iopub.status.busy": "2022-07-12T03:11:26.151250Z",
     "iopub.status.idle": "2022-07-12T03:11:26.156597Z",
     "shell.execute_reply": "2022-07-12T03:11:26.155553Z"
    },
    "papermill": {
     "duration": 0.028229,
     "end_time": "2022-07-12T03:11:26.159240",
     "exception": false,
     "start_time": "2022-07-12T03:11:26.131011",
     "status": "completed"
    },
    "tags": []
   },
   "outputs": [
    {
     "name": "stdout",
     "output_type": "stream",
     "text": [
      "Columns in original dataset: 43 \n",
      "\n",
      "Columns with na's dropped: 12\n"
     ]
    }
   ],
   "source": [
    "# just how much data did we lose?\n",
    "print(\"Columns in original dataset: %d \\n\" % sf_permits.shape[1])\n",
    "print(\"Columns with na's dropped: %d\" % columns_with_na_dropped.shape[1])"
   ]
  },
  {
   "cell_type": "markdown",
   "id": "b6b4fe7a",
   "metadata": {
    "papermill": {
     "duration": 0.018696,
     "end_time": "2022-07-12T03:11:26.196600",
     "exception": false,
     "start_time": "2022-07-12T03:11:26.177904",
     "status": "completed"
    },
    "tags": []
   },
   "source": [
    "Although a lot of data has been lost, all the ```NaN's``` from the data has been successfully removed."
   ]
  },
  {
   "cell_type": "markdown",
   "id": "030e1dc7",
   "metadata": {
    "papermill": {
     "duration": 0.018816,
     "end_time": "2022-07-12T03:11:26.234125",
     "exception": false,
     "start_time": "2022-07-12T03:11:26.215309",
     "status": "completed"
    },
    "tags": []
   },
   "source": [
    "Another option is to try and fill in the missing values. For this subset a small sub-section of the ```sf_permits``` data so that it will print well."
   ]
  },
  {
   "cell_type": "markdown",
   "id": "39da5d1a",
   "metadata": {
    "papermill": {
     "duration": 0.018609,
     "end_time": "2022-07-12T03:11:26.271610",
     "exception": false,
     "start_time": "2022-07-12T03:11:26.253001",
     "status": "completed"
    },
    "tags": []
   },
   "source": [
    "### 1.4 Filling in missing values automatically"
   ]
  },
  {
   "cell_type": "code",
   "execution_count": 9,
   "id": "dadca105",
   "metadata": {
    "execution": {
     "iopub.execute_input": "2022-07-12T03:11:26.311063Z",
     "iopub.status.busy": "2022-07-12T03:11:26.310607Z",
     "iopub.status.idle": "2022-07-12T03:11:26.349586Z",
     "shell.execute_reply": "2022-07-12T03:11:26.348461Z"
    },
    "papermill": {
     "duration": 0.061285,
     "end_time": "2022-07-12T03:11:26.351839",
     "exception": false,
     "start_time": "2022-07-12T03:11:26.290554",
     "status": "completed"
    },
    "tags": []
   },
   "outputs": [
    {
     "data": {
      "text/html": [
       "<div>\n",
       "<style scoped>\n",
       "    .dataframe tbody tr th:only-of-type {\n",
       "        vertical-align: middle;\n",
       "    }\n",
       "\n",
       "    .dataframe tbody tr th {\n",
       "        vertical-align: top;\n",
       "    }\n",
       "\n",
       "    .dataframe thead th {\n",
       "        text-align: right;\n",
       "    }\n",
       "</style>\n",
       "<table border=\"1\" class=\"dataframe\">\n",
       "  <thead>\n",
       "    <tr style=\"text-align: right;\">\n",
       "      <th></th>\n",
       "      <th>Permit Number</th>\n",
       "      <th>Permit Type</th>\n",
       "      <th>Permit Type Definition</th>\n",
       "      <th>Permit Creation Date</th>\n",
       "      <th>Block</th>\n",
       "      <th>Lot</th>\n",
       "      <th>Street Number</th>\n",
       "      <th>Street Number Suffix</th>\n",
       "      <th>Street Name</th>\n",
       "      <th>Street Suffix</th>\n",
       "    </tr>\n",
       "  </thead>\n",
       "  <tbody>\n",
       "    <tr>\n",
       "      <th>0</th>\n",
       "      <td>201505065519</td>\n",
       "      <td>4</td>\n",
       "      <td>sign - erect</td>\n",
       "      <td>05/06/2015</td>\n",
       "      <td>0326</td>\n",
       "      <td>023</td>\n",
       "      <td>140</td>\n",
       "      <td>NaN</td>\n",
       "      <td>Ellis</td>\n",
       "      <td>St</td>\n",
       "    </tr>\n",
       "    <tr>\n",
       "      <th>1</th>\n",
       "      <td>201604195146</td>\n",
       "      <td>4</td>\n",
       "      <td>sign - erect</td>\n",
       "      <td>04/19/2016</td>\n",
       "      <td>0306</td>\n",
       "      <td>007</td>\n",
       "      <td>440</td>\n",
       "      <td>NaN</td>\n",
       "      <td>Geary</td>\n",
       "      <td>St</td>\n",
       "    </tr>\n",
       "    <tr>\n",
       "      <th>2</th>\n",
       "      <td>201605278609</td>\n",
       "      <td>3</td>\n",
       "      <td>additions alterations or repairs</td>\n",
       "      <td>05/27/2016</td>\n",
       "      <td>0595</td>\n",
       "      <td>203</td>\n",
       "      <td>1647</td>\n",
       "      <td>NaN</td>\n",
       "      <td>Pacific</td>\n",
       "      <td>Av</td>\n",
       "    </tr>\n",
       "    <tr>\n",
       "      <th>3</th>\n",
       "      <td>201611072166</td>\n",
       "      <td>8</td>\n",
       "      <td>otc alterations permit</td>\n",
       "      <td>11/07/2016</td>\n",
       "      <td>0156</td>\n",
       "      <td>011</td>\n",
       "      <td>1230</td>\n",
       "      <td>NaN</td>\n",
       "      <td>Pacific</td>\n",
       "      <td>Av</td>\n",
       "    </tr>\n",
       "    <tr>\n",
       "      <th>4</th>\n",
       "      <td>201611283529</td>\n",
       "      <td>6</td>\n",
       "      <td>demolitions</td>\n",
       "      <td>11/28/2016</td>\n",
       "      <td>0342</td>\n",
       "      <td>001</td>\n",
       "      <td>950</td>\n",
       "      <td>NaN</td>\n",
       "      <td>Market</td>\n",
       "      <td>St</td>\n",
       "    </tr>\n",
       "  </tbody>\n",
       "</table>\n",
       "</div>"
      ],
      "text/plain": [
       "  Permit Number  Permit Type            Permit Type Definition  \\\n",
       "0  201505065519            4                      sign - erect   \n",
       "1  201604195146            4                      sign - erect   \n",
       "2  201605278609            3  additions alterations or repairs   \n",
       "3  201611072166            8            otc alterations permit   \n",
       "4  201611283529            6                       demolitions   \n",
       "\n",
       "  Permit Creation Date Block  Lot  Street Number Street Number Suffix  \\\n",
       "0           05/06/2015  0326  023            140                  NaN   \n",
       "1           04/19/2016  0306  007            440                  NaN   \n",
       "2           05/27/2016  0595  203           1647                  NaN   \n",
       "3           11/07/2016  0156  011           1230                  NaN   \n",
       "4           11/28/2016  0342  001            950                  NaN   \n",
       "\n",
       "  Street Name Street Suffix  \n",
       "0       Ellis            St  \n",
       "1       Geary            St  \n",
       "2     Pacific            Av  \n",
       "3     Pacific            Av  \n",
       "4      Market            St  "
      ]
     },
     "execution_count": 9,
     "metadata": {},
     "output_type": "execute_result"
    }
   ],
   "source": [
    "# get a small subset of the NFL dataset\n",
    "subset_sf_data = sf_permits.loc[:, 'Permit Number':'Street Suffix'].head()\n",
    "subset_sf_data"
   ]
  },
  {
   "cell_type": "markdown",
   "id": "5e239ed4",
   "metadata": {
    "papermill": {
     "duration": 0.01896,
     "end_time": "2022-07-12T03:11:26.389901",
     "exception": false,
     "start_time": "2022-07-12T03:11:26.370941",
     "status": "completed"
    },
    "tags": []
   },
   "source": [
    "Use the Panda's ```fillna()``` function to fill in missing values in a dataframe. One option is to specify what we want the ```NaN``` values to be replaced with. Here, replace all the ```NaN``` values with 0."
   ]
  },
  {
   "cell_type": "code",
   "execution_count": 10,
   "id": "7d460f88",
   "metadata": {
    "execution": {
     "iopub.execute_input": "2022-07-12T03:11:26.431521Z",
     "iopub.status.busy": "2022-07-12T03:11:26.430380Z",
     "iopub.status.idle": "2022-07-12T03:11:26.453432Z",
     "shell.execute_reply": "2022-07-12T03:11:26.452635Z"
    },
    "papermill": {
     "duration": 0.045538,
     "end_time": "2022-07-12T03:11:26.455333",
     "exception": false,
     "start_time": "2022-07-12T03:11:26.409795",
     "status": "completed"
    },
    "tags": []
   },
   "outputs": [
    {
     "data": {
      "text/html": [
       "<div>\n",
       "<style scoped>\n",
       "    .dataframe tbody tr th:only-of-type {\n",
       "        vertical-align: middle;\n",
       "    }\n",
       "\n",
       "    .dataframe tbody tr th {\n",
       "        vertical-align: top;\n",
       "    }\n",
       "\n",
       "    .dataframe thead th {\n",
       "        text-align: right;\n",
       "    }\n",
       "</style>\n",
       "<table border=\"1\" class=\"dataframe\">\n",
       "  <thead>\n",
       "    <tr style=\"text-align: right;\">\n",
       "      <th></th>\n",
       "      <th>Permit Number</th>\n",
       "      <th>Permit Type</th>\n",
       "      <th>Permit Type Definition</th>\n",
       "      <th>Permit Creation Date</th>\n",
       "      <th>Block</th>\n",
       "      <th>Lot</th>\n",
       "      <th>Street Number</th>\n",
       "      <th>Street Number Suffix</th>\n",
       "      <th>Street Name</th>\n",
       "      <th>Street Suffix</th>\n",
       "    </tr>\n",
       "  </thead>\n",
       "  <tbody>\n",
       "    <tr>\n",
       "      <th>0</th>\n",
       "      <td>201505065519</td>\n",
       "      <td>4</td>\n",
       "      <td>sign - erect</td>\n",
       "      <td>05/06/2015</td>\n",
       "      <td>0326</td>\n",
       "      <td>023</td>\n",
       "      <td>140</td>\n",
       "      <td>0.0</td>\n",
       "      <td>Ellis</td>\n",
       "      <td>St</td>\n",
       "    </tr>\n",
       "    <tr>\n",
       "      <th>1</th>\n",
       "      <td>201604195146</td>\n",
       "      <td>4</td>\n",
       "      <td>sign - erect</td>\n",
       "      <td>04/19/2016</td>\n",
       "      <td>0306</td>\n",
       "      <td>007</td>\n",
       "      <td>440</td>\n",
       "      <td>0.0</td>\n",
       "      <td>Geary</td>\n",
       "      <td>St</td>\n",
       "    </tr>\n",
       "    <tr>\n",
       "      <th>2</th>\n",
       "      <td>201605278609</td>\n",
       "      <td>3</td>\n",
       "      <td>additions alterations or repairs</td>\n",
       "      <td>05/27/2016</td>\n",
       "      <td>0595</td>\n",
       "      <td>203</td>\n",
       "      <td>1647</td>\n",
       "      <td>0.0</td>\n",
       "      <td>Pacific</td>\n",
       "      <td>Av</td>\n",
       "    </tr>\n",
       "    <tr>\n",
       "      <th>3</th>\n",
       "      <td>201611072166</td>\n",
       "      <td>8</td>\n",
       "      <td>otc alterations permit</td>\n",
       "      <td>11/07/2016</td>\n",
       "      <td>0156</td>\n",
       "      <td>011</td>\n",
       "      <td>1230</td>\n",
       "      <td>0.0</td>\n",
       "      <td>Pacific</td>\n",
       "      <td>Av</td>\n",
       "    </tr>\n",
       "    <tr>\n",
       "      <th>4</th>\n",
       "      <td>201611283529</td>\n",
       "      <td>6</td>\n",
       "      <td>demolitions</td>\n",
       "      <td>11/28/2016</td>\n",
       "      <td>0342</td>\n",
       "      <td>001</td>\n",
       "      <td>950</td>\n",
       "      <td>0.0</td>\n",
       "      <td>Market</td>\n",
       "      <td>St</td>\n",
       "    </tr>\n",
       "  </tbody>\n",
       "</table>\n",
       "</div>"
      ],
      "text/plain": [
       "  Permit Number  Permit Type            Permit Type Definition  \\\n",
       "0  201505065519            4                      sign - erect   \n",
       "1  201604195146            4                      sign - erect   \n",
       "2  201605278609            3  additions alterations or repairs   \n",
       "3  201611072166            8            otc alterations permit   \n",
       "4  201611283529            6                       demolitions   \n",
       "\n",
       "  Permit Creation Date Block  Lot  Street Number  Street Number Suffix  \\\n",
       "0           05/06/2015  0326  023            140                   0.0   \n",
       "1           04/19/2016  0306  007            440                   0.0   \n",
       "2           05/27/2016  0595  203           1647                   0.0   \n",
       "3           11/07/2016  0156  011           1230                   0.0   \n",
       "4           11/28/2016  0342  001            950                   0.0   \n",
       "\n",
       "  Street Name Street Suffix  \n",
       "0       Ellis            St  \n",
       "1       Geary            St  \n",
       "2     Pacific            Av  \n",
       "3     Pacific            Av  \n",
       "4      Market            St  "
      ]
     },
     "execution_count": 10,
     "metadata": {},
     "output_type": "execute_result"
    }
   ],
   "source": [
    "# replace all NA's the value that comes directly after it in the same column, \n",
    "# then replace all the reamining na's with 0\n",
    "subset_sf_data.fillna(method = 'bfill', axis=0).fillna(0)"
   ]
  },
  {
   "cell_type": "markdown",
   "id": "9046fd7c",
   "metadata": {
    "papermill": {
     "duration": 0.018645,
     "end_time": "2022-07-12T03:11:26.493211",
     "exception": false,
     "start_time": "2022-07-12T03:11:26.474566",
     "status": "completed"
    },
    "tags": []
   },
   "source": [
    "It would make a lot more sense to replace missing values with whatever value comes directly after it in the same column. (more applicable for observations that have some sort of logical order to them.)"
   ]
  },
  {
   "cell_type": "code",
   "execution_count": 11,
   "id": "137bb2e8",
   "metadata": {
    "execution": {
     "iopub.execute_input": "2022-07-12T03:11:26.532898Z",
     "iopub.status.busy": "2022-07-12T03:11:26.532548Z",
     "iopub.status.idle": "2022-07-12T03:11:26.548823Z",
     "shell.execute_reply": "2022-07-12T03:11:26.547883Z"
    },
    "papermill": {
     "duration": 0.038716,
     "end_time": "2022-07-12T03:11:26.550893",
     "exception": false,
     "start_time": "2022-07-12T03:11:26.512177",
     "status": "completed"
    },
    "tags": []
   },
   "outputs": [
    {
     "data": {
      "text/html": [
       "<div>\n",
       "<style scoped>\n",
       "    .dataframe tbody tr th:only-of-type {\n",
       "        vertical-align: middle;\n",
       "    }\n",
       "\n",
       "    .dataframe tbody tr th {\n",
       "        vertical-align: top;\n",
       "    }\n",
       "\n",
       "    .dataframe thead th {\n",
       "        text-align: right;\n",
       "    }\n",
       "</style>\n",
       "<table border=\"1\" class=\"dataframe\">\n",
       "  <thead>\n",
       "    <tr style=\"text-align: right;\">\n",
       "      <th></th>\n",
       "      <th>Permit Number</th>\n",
       "      <th>Permit Type</th>\n",
       "      <th>Permit Type Definition</th>\n",
       "      <th>Permit Creation Date</th>\n",
       "      <th>Block</th>\n",
       "      <th>Lot</th>\n",
       "      <th>Street Number</th>\n",
       "      <th>Street Number Suffix</th>\n",
       "      <th>Street Name</th>\n",
       "      <th>Street Suffix</th>\n",
       "    </tr>\n",
       "  </thead>\n",
       "  <tbody>\n",
       "    <tr>\n",
       "      <th>0</th>\n",
       "      <td>201505065519</td>\n",
       "      <td>4</td>\n",
       "      <td>sign - erect</td>\n",
       "      <td>05/06/2015</td>\n",
       "      <td>0326</td>\n",
       "      <td>023</td>\n",
       "      <td>140</td>\n",
       "      <td>0.0</td>\n",
       "      <td>Ellis</td>\n",
       "      <td>St</td>\n",
       "    </tr>\n",
       "    <tr>\n",
       "      <th>1</th>\n",
       "      <td>201604195146</td>\n",
       "      <td>4</td>\n",
       "      <td>sign - erect</td>\n",
       "      <td>04/19/2016</td>\n",
       "      <td>0306</td>\n",
       "      <td>007</td>\n",
       "      <td>440</td>\n",
       "      <td>0.0</td>\n",
       "      <td>Geary</td>\n",
       "      <td>St</td>\n",
       "    </tr>\n",
       "    <tr>\n",
       "      <th>2</th>\n",
       "      <td>201605278609</td>\n",
       "      <td>3</td>\n",
       "      <td>additions alterations or repairs</td>\n",
       "      <td>05/27/2016</td>\n",
       "      <td>0595</td>\n",
       "      <td>203</td>\n",
       "      <td>1647</td>\n",
       "      <td>0.0</td>\n",
       "      <td>Pacific</td>\n",
       "      <td>Av</td>\n",
       "    </tr>\n",
       "    <tr>\n",
       "      <th>3</th>\n",
       "      <td>201611072166</td>\n",
       "      <td>8</td>\n",
       "      <td>otc alterations permit</td>\n",
       "      <td>11/07/2016</td>\n",
       "      <td>0156</td>\n",
       "      <td>011</td>\n",
       "      <td>1230</td>\n",
       "      <td>0.0</td>\n",
       "      <td>Pacific</td>\n",
       "      <td>Av</td>\n",
       "    </tr>\n",
       "    <tr>\n",
       "      <th>4</th>\n",
       "      <td>201611283529</td>\n",
       "      <td>6</td>\n",
       "      <td>demolitions</td>\n",
       "      <td>11/28/2016</td>\n",
       "      <td>0342</td>\n",
       "      <td>001</td>\n",
       "      <td>950</td>\n",
       "      <td>0.0</td>\n",
       "      <td>Market</td>\n",
       "      <td>St</td>\n",
       "    </tr>\n",
       "  </tbody>\n",
       "</table>\n",
       "</div>"
      ],
      "text/plain": [
       "  Permit Number  Permit Type            Permit Type Definition  \\\n",
       "0  201505065519            4                      sign - erect   \n",
       "1  201604195146            4                      sign - erect   \n",
       "2  201605278609            3  additions alterations or repairs   \n",
       "3  201611072166            8            otc alterations permit   \n",
       "4  201611283529            6                       demolitions   \n",
       "\n",
       "  Permit Creation Date Block  Lot  Street Number  Street Number Suffix  \\\n",
       "0           05/06/2015  0326  023            140                   0.0   \n",
       "1           04/19/2016  0306  007            440                   0.0   \n",
       "2           05/27/2016  0595  203           1647                   0.0   \n",
       "3           11/07/2016  0156  011           1230                   0.0   \n",
       "4           11/28/2016  0342  001            950                   0.0   \n",
       "\n",
       "  Street Name Street Suffix  \n",
       "0       Ellis            St  \n",
       "1       Geary            St  \n",
       "2     Pacific            Av  \n",
       "3     Pacific            Av  \n",
       "4      Market            St  "
      ]
     },
     "execution_count": 11,
     "metadata": {},
     "output_type": "execute_result"
    }
   ],
   "source": [
    "# replace all NA's the value that comes directly after it in the same column, \n",
    "# then replace all the reamining na's with 0\n",
    "subset_sf_data.fillna(method = 'bfill', axis=0).fillna(0)"
   ]
  },
  {
   "cell_type": "markdown",
   "id": "489957a3",
   "metadata": {
    "papermill": {
     "duration": 0.019724,
     "end_time": "2022-07-12T03:11:26.590853",
     "exception": false,
     "start_time": "2022-07-12T03:11:26.571129",
     "status": "completed"
    },
    "tags": []
   },
   "source": [
    "Filling in missing values is known as \"imputation\". Now atleast the data has got some structure and some python can be used to extract the values."
   ]
  },
  {
   "cell_type": "markdown",
   "id": "0026493b",
   "metadata": {
    "papermill": {
     "duration": 0.018906,
     "end_time": "2022-07-12T03:11:26.628941",
     "exception": false,
     "start_time": "2022-07-12T03:11:26.610035",
     "status": "completed"
    },
    "tags": []
   },
   "source": [
    "## 2. Scaling and Normalization"
   ]
  },
  {
   "cell_type": "markdown",
   "id": "509b4cc3",
   "metadata": {
    "papermill": {
     "duration": 0.018981,
     "end_time": "2022-07-12T03:11:26.667108",
     "exception": false,
     "start_time": "2022-07-12T03:11:26.648127",
     "status": "completed"
    },
    "tags": []
   },
   "source": [
    "Scaling and normalization are used to transform the data in order to derive specific helpful properties. In scaling, the *range* of the data is being changed while in normalization, the *shape of the distribution* of the data is being changed."
   ]
  },
  {
   "cell_type": "markdown",
   "id": "c75acd79",
   "metadata": {
    "papermill": {
     "duration": 0.018973,
     "end_time": "2022-07-12T03:11:26.705732",
     "exception": false,
     "start_time": "2022-07-12T03:11:26.686759",
     "status": "completed"
    },
    "tags": []
   },
   "source": [
    "Load the libraries and the dataset to be used."
   ]
  },
  {
   "cell_type": "code",
   "execution_count": 12,
   "id": "3f67ee87",
   "metadata": {
    "execution": {
     "iopub.execute_input": "2022-07-12T03:11:26.746780Z",
     "iopub.status.busy": "2022-07-12T03:11:26.746405Z",
     "iopub.status.idle": "2022-07-12T03:11:30.011640Z",
     "shell.execute_reply": "2022-07-12T03:11:30.010474Z"
    },
    "papermill": {
     "duration": 3.288639,
     "end_time": "2022-07-12T03:11:30.014281",
     "exception": false,
     "start_time": "2022-07-12T03:11:26.725642",
     "status": "completed"
    },
    "tags": []
   },
   "outputs": [],
   "source": [
    "# modules we'll use\n",
    "import pandas as pd\n",
    "import numpy as np\n",
    "\n",
    "# for Box-Cox Transformation\n",
    "from scipy import stats\n",
    "\n",
    "# for min_max scaling\n",
    "from mlxtend.preprocessing import minmax_scaling\n",
    "\n",
    "# plotting modules\n",
    "import seaborn as sns\n",
    "import matplotlib.pyplot as plt\n",
    "\n",
    "# read in all our data\n",
    "kickstarters_2017 = pd.read_csv(\"../input/kickstarter-projects/ks-projects-201801.csv\")\n",
    "\n",
    "# set seed for reproducibility\n",
    "np.random.seed(0)"
   ]
  },
  {
   "cell_type": "markdown",
   "id": "4c3aaadb",
   "metadata": {
    "papermill": {
     "duration": 0.019121,
     "end_time": "2022-07-12T03:11:30.055161",
     "exception": false,
     "start_time": "2022-07-12T03:11:30.036040",
     "status": "completed"
    },
    "tags": []
   },
   "source": [
    "### 2.1 Scaling"
   ]
  },
  {
   "cell_type": "markdown",
   "id": "cb61a3f3",
   "metadata": {
    "papermill": {
     "duration": 0.019816,
     "end_time": "2022-07-12T03:11:30.095259",
     "exception": false,
     "start_time": "2022-07-12T03:11:30.075443",
     "status": "completed"
    },
    "tags": []
   },
   "source": [
    "Scaling is transforming the  data so that it fits within a specific scale, like 0-100 or 0-1. Comparision of variables on equal footing can be done after scaling the variables."
   ]
  },
  {
   "cell_type": "code",
   "execution_count": 13,
   "id": "f21770de",
   "metadata": {
    "execution": {
     "iopub.execute_input": "2022-07-12T03:11:30.137092Z",
     "iopub.status.busy": "2022-07-12T03:11:30.136303Z",
     "iopub.status.idle": "2022-07-12T03:11:33.349591Z",
     "shell.execute_reply": "2022-07-12T03:11:33.348799Z"
    },
    "papermill": {
     "duration": 3.236496,
     "end_time": "2022-07-12T03:11:33.351681",
     "exception": false,
     "start_time": "2022-07-12T03:11:30.115185",
     "status": "completed"
    },
    "tags": []
   },
   "outputs": [
    {
     "name": "stderr",
     "output_type": "stream",
     "text": [
      "/opt/conda/lib/python3.7/site-packages/mlxtend/preprocessing/scaling.py:40: FutureWarning: Support for multi-dimensional indexing (e.g. `obj[:, None]`) is deprecated and will be removed in a future version.  Convert to a numpy array before indexing instead.\n",
      "  ary_new = ary_new[:, np.newaxis]\n",
      "/opt/conda/lib/python3.7/site-packages/seaborn/distributions.py:2619: FutureWarning: `distplot` is a deprecated function and will be removed in a future version. Please adapt your code to use either `displot` (a figure-level function with similar flexibility) or `histplot` (an axes-level function for histograms).\n",
      "  warnings.warn(msg, FutureWarning)\n",
      "/opt/conda/lib/python3.7/site-packages/seaborn/distributions.py:2619: FutureWarning: `distplot` is a deprecated function and will be removed in a future version. Please adapt your code to use either `displot` (a figure-level function with similar flexibility) or `histplot` (an axes-level function for histograms).\n",
      "  warnings.warn(msg, FutureWarning)\n"
     ]
    },
    {
     "data": {
      "text/plain": [
       "Text(0.5, 1.0, 'Scaled data')"
      ]
     },
     "execution_count": 13,
     "metadata": {},
     "output_type": "execute_result"
    },
    {
     "data": {
      "image/png": "[encoded data removed]",
      "text/plain": [
       "<Figure size 432x288 with 2 Axes>"
      ]
     },
     "metadata": {
      "needs_background": "light"
     },
     "output_type": "display_data"
    }
   ],
   "source": [
    "# select the usd_goal_real column\n",
    "usd_goal = kickstarters_2017.goal\n",
    "\n",
    "# scale the goals from 0 to 1\n",
    "scaled_data = minmax_scaling(usd_goal, columns = [0])\n",
    "\n",
    "# plot the original & scaled data together to compare\n",
    "fig, ax=plt.subplots(1,2)\n",
    "sns.distplot(kickstarters_2017.goal, ax=ax[0])\n",
    "ax[0].set_title(\"Original Data\")\n",
    "sns.distplot(scaled_data, ax=ax[1])\n",
    "ax[1].set_title(\"Scaled data\")"
   ]
  },
  {
   "cell_type": "markdown",
   "id": "ae63664e",
   "metadata": {
    "papermill": {
     "duration": 0.019619,
     "end_time": "2022-07-12T03:11:33.391365",
     "exception": false,
     "start_time": "2022-07-12T03:11:33.371746",
     "status": "completed"
    },
    "tags": []
   },
   "source": [
    "So scaling has infact changed the scales of the plots from 5 to 50 (but not the shape of the data: looks like most campaigns had small goals but a few have very large ones)"
   ]
  },
  {
   "cell_type": "markdown",
   "id": "7b73ec15",
   "metadata": {
    "papermill": {
     "duration": 0.019212,
     "end_time": "2022-07-12T03:11:33.430911",
     "exception": false,
     "start_time": "2022-07-12T03:11:33.411699",
     "status": "completed"
    },
    "tags": []
   },
   "source": [
    "### 2.2 Normalization"
   ]
  },
  {
   "cell_type": "markdown",
   "id": "73b91a70",
   "metadata": {
    "papermill": {
     "duration": 0.019428,
     "end_time": "2022-07-12T03:11:33.469915",
     "exception": false,
     "start_time": "2022-07-12T03:11:33.450487",
     "status": "completed"
    },
    "tags": []
   },
   "source": [
    "Normalization is a more radical transformation wherein the observations are changed so that they can be described as a normal distribution.\n",
    "\n",
    "> **[Normal distribution:](https://en.wikipedia.org/wiki/Normal_distribution)** Also known as the \"bell curve\", this is a specific statistical distribution where a roughly equal observations fall above and below the mean, the mean and the median are the same, and there are more observations closer to the mean. The normal distribution is also known as the Gaussian distribution.\n",
    "\n",
    "In general, normalization of data only needs to be done when machine learning or statistics technique are to be used on the dataset. Some examples of these include t-tests, ANOVAs, linear regression, linear discriminant analysis (LDA) and Gaussian naive Bayes. (any method with \"Gaussian\" in the name probably assumes normality.)\n",
    "\n",
    "The method used to normalize data here is the [Box-Cox Transformation](https://en.wikipedia.org/wiki/Power_transform)."
   ]
  },
  {
   "cell_type": "code",
   "execution_count": 14,
   "id": "82bd5739",
   "metadata": {
    "execution": {
     "iopub.execute_input": "2022-07-12T03:11:33.512237Z",
     "iopub.status.busy": "2022-07-12T03:11:33.511546Z",
     "iopub.status.idle": "2022-07-12T03:11:36.769579Z",
     "shell.execute_reply": "2022-07-12T03:11:36.768441Z"
    },
    "papermill": {
     "duration": 3.281738,
     "end_time": "2022-07-12T03:11:36.771681",
     "exception": false,
     "start_time": "2022-07-12T03:11:33.489943",
     "status": "completed"
    },
    "tags": []
   },
   "outputs": [
    {
     "name": "stderr",
     "output_type": "stream",
     "text": [
      "/opt/conda/lib/python3.7/site-packages/seaborn/distributions.py:2619: FutureWarning: `distplot` is a deprecated function and will be removed in a future version. Please adapt your code to use either `displot` (a figure-level function with similar flexibility) or `histplot` (an axes-level function for histograms).\n",
      "  warnings.warn(msg, FutureWarning)\n",
      "/opt/conda/lib/python3.7/site-packages/seaborn/distributions.py:2619: FutureWarning: `distplot` is a deprecated function and will be removed in a future version. Please adapt your code to use either `displot` (a figure-level function with similar flexibility) or `histplot` (an axes-level function for histograms).\n",
      "  warnings.warn(msg, FutureWarning)\n"
     ]
    },
    {
     "data": {
      "text/plain": [
       "Text(0.5, 1.0, 'Normalized data')"
      ]
     },
     "execution_count": 14,
     "metadata": {},
     "output_type": "execute_result"
    },
    {
     "data": {
      "image/png": "[encoded data removed]",
      "text/plain": [
       "<Figure size 432x288 with 2 Axes>"
      ]
     },
     "metadata": {
      "needs_background": "light"
     },
     "output_type": "display_data"
    }
   ],
   "source": [
    "# get the index of all positive pledges (Box-Cox only takes postive values)\n",
    "index_of_positive_pledges = kickstarters_2017.pledged > 0\n",
    "\n",
    "# get only positive pledges (using their indexes)\n",
    "positive_pledges = kickstarters_2017.pledged.loc[index_of_positive_pledges]\n",
    "\n",
    "# normalize the pledges (w/ Box-Cox)\n",
    "normalized_pledges = stats.boxcox(positive_pledges)[0]\n",
    "\n",
    "# plot both together to compare\n",
    "fig, ax=plt.subplots(1,2)\n",
    "sns.distplot(positive_pledges, ax=ax[0])\n",
    "ax[0].set_title(\"Original Data\")\n",
    "sns.distplot(normalized_pledges, ax=ax[1])\n",
    "ax[1].set_title(\"Normalized data\")"
   ]
  },
  {
   "cell_type": "markdown",
   "id": "f103b810",
   "metadata": {
    "papermill": {
     "duration": 0.020337,
     "end_time": "2022-07-12T03:11:36.812474",
     "exception": false,
     "start_time": "2022-07-12T03:11:36.792137",
     "status": "completed"
    },
    "tags": []
   },
   "source": [
    "Although it's not perfect (it looks like a lot pledges got very few pledges), it is much closer to normal!"
   ]
  },
  {
   "cell_type": "markdown",
   "id": "175d0294",
   "metadata": {
    "papermill": {
     "duration": 0.021014,
     "end_time": "2022-07-12T03:11:36.853753",
     "exception": false,
     "start_time": "2022-07-12T03:11:36.832739",
     "status": "completed"
    },
    "tags": []
   },
   "source": [
    "### 3. Parsing"
   ]
  },
  {
   "cell_type": "markdown",
   "id": "5730fece",
   "metadata": {
    "papermill": {
     "duration": 0.020406,
     "end_time": "2022-07-12T03:11:36.895527",
     "exception": false,
     "start_time": "2022-07-12T03:11:36.875121",
     "status": "completed"
    },
    "tags": []
   },
   "source": [
    "Data parsing is a process in which a string of data is converted from one format to another. In short, a data parse program is used for converting unstructured data into JSON, CSV, and other file formats and adds structure to said information."
   ]
  },
  {
   "cell_type": "markdown",
   "id": "ae673abe",
   "metadata": {
    "papermill": {
     "duration": 0.020198,
     "end_time": "2022-07-12T03:11:36.936369",
     "exception": false,
     "start_time": "2022-07-12T03:11:36.916171",
     "status": "completed"
    },
    "tags": []
   },
   "source": [
    "The first thing we'll need to do is load in the libraries and dataset we'll be using. We'll be working with a dataset containing information on earthquakes that occured between 1965 and 2016."
   ]
  },
  {
   "cell_type": "code",
   "execution_count": 15,
   "id": "cb48b296",
   "metadata": {
    "execution": {
     "iopub.execute_input": "2022-07-12T03:11:36.979837Z",
     "iopub.status.busy": "2022-07-12T03:11:36.979066Z",
     "iopub.status.idle": "2022-07-12T03:11:37.076864Z",
     "shell.execute_reply": "2022-07-12T03:11:37.075738Z"
    },
    "papermill": {
     "duration": 0.122637,
     "end_time": "2022-07-12T03:11:37.079562",
     "exception": false,
     "start_time": "2022-07-12T03:11:36.956925",
     "status": "completed"
    },
    "tags": []
   },
   "outputs": [],
   "source": [
    "# modules we'll use\n",
    "import pandas as pd\n",
    "import numpy as np\n",
    "import seaborn as sns\n",
    "import datetime\n",
    "\n",
    "# read in our data\n",
    "earthquakes = pd.read_csv(\"../input/earthquake-database/database.csv\")\n",
    "\n",
    "# set seed for reproducibility\n",
    "np.random.seed(0)"
   ]
  },
  {
   "cell_type": "markdown",
   "id": "0858dbf2",
   "metadata": {
    "papermill": {
     "duration": 0.02111,
     "end_time": "2022-07-12T03:11:37.121645",
     "exception": false,
     "start_time": "2022-07-12T03:11:37.100535",
     "status": "completed"
    },
    "tags": []
   },
   "source": [
    "As we'll be working with the \"Date\" column from the earthquakes dataframe,let's investigate this column now, does it look like it contains dates? What is the dtype of the column?"
   ]
  },
  {
   "cell_type": "markdown",
   "id": "7c8ebd53",
   "metadata": {
    "papermill": {
     "duration": 0.020963,
     "end_time": "2022-07-12T03:11:37.163570",
     "exception": false,
     "start_time": "2022-07-12T03:11:37.142607",
     "status": "completed"
    },
    "tags": []
   },
   "source": [
    "### 3.1 Check the date type for the \"Date\" column"
   ]
  },
  {
   "cell_type": "markdown",
   "id": "199dfe5a",
   "metadata": {
    "papermill": {
     "duration": 0.020392,
     "end_time": "2022-07-12T03:11:37.204760",
     "exception": false,
     "start_time": "2022-07-12T03:11:37.184368",
     "status": "completed"
    },
    "tags": []
   },
   "source": [
    "For this part, I'll be working with the ```date``` column from the ```earthquakes``` dataframe. The very first thing I'm going to do is take a peek at the first few rows to make sure it actually looks like it contains dates."
   ]
  },
  {
   "cell_type": "code",
   "execution_count": 16,
   "id": "ba4b6503",
   "metadata": {
    "execution": {
     "iopub.execute_input": "2022-07-12T03:11:37.248790Z",
     "iopub.status.busy": "2022-07-12T03:11:37.248375Z",
     "iopub.status.idle": "2022-07-12T03:11:37.256462Z",
     "shell.execute_reply": "2022-07-12T03:11:37.254748Z"
    },
    "papermill": {
     "duration": 0.033065,
     "end_time": "2022-07-12T03:11:37.258699",
     "exception": false,
     "start_time": "2022-07-12T03:11:37.225634",
     "status": "completed"
    },
    "tags": []
   },
   "outputs": [
    {
     "name": "stdout",
     "output_type": "stream",
     "text": [
      "0    01/02/1965\n",
      "1    01/04/1965\n",
      "2    01/05/1965\n",
      "3    01/08/1965\n",
      "4    01/09/1965\n",
      "Name: Date, dtype: object\n"
     ]
    }
   ],
   "source": [
    "# print the first few rows of the date column\n",
    "print(earthquakes['Date'].head())"
   ]
  },
  {
   "cell_type": "markdown",
   "id": "2d3fd060",
   "metadata": {
    "papermill": {
     "duration": 0.0204,
     "end_time": "2022-07-12T03:11:37.299718",
     "exception": false,
     "start_time": "2022-07-12T03:11:37.279318",
     "status": "completed"
    },
    "tags": []
   },
   "source": [
    "Yep, those are dates! As a human, I can tell that these are dates. But that doesn't mean that Python knows that they're dates. Notice that the at the bottom of the output of ```head()```, you can see that it says that the data type of this column is \"object\"."
   ]
  },
  {
   "cell_type": "markdown",
   "id": "a37b908c",
   "metadata": {
    "papermill": {
     "duration": 0.02036,
     "end_time": "2022-07-12T03:11:37.341284",
     "exception": false,
     "start_time": "2022-07-12T03:11:37.320924",
     "status": "completed"
    },
    "tags": []
   },
   "source": [
    "> Pandas uses the \"object\" dtype for storing various types of data types, but most often when you see a column with the dtype \"object\" it will have strings in it."
   ]
  },
  {
   "cell_type": "markdown",
   "id": "a6d9e185",
   "metadata": {
    "papermill": {
     "duration": 0.021332,
     "end_time": "2022-07-12T03:11:37.383178",
     "exception": false,
     "start_time": "2022-07-12T03:11:37.361846",
     "status": "completed"
    },
    "tags": []
   },
   "source": [
    "On checking the pandas dtype documentation [here](https://pandas.pydata.org/pandas-docs/stable/user_guide/basics.html), you'll notice that there's also a specific ```datetime64``` dtypes. Because the dtype of our column is ```object``` rather than ```datetime64```, we can tell that Python doesn't know that this column contains dates.\n",
    "\n",
    "We can also look at just the dtype of your column without printing the first few rows if we like:"
   ]
  },
  {
   "cell_type": "code",
   "execution_count": 17,
   "id": "35be0a2e",
   "metadata": {
    "execution": {
     "iopub.execute_input": "2022-07-12T03:11:37.427234Z",
     "iopub.status.busy": "2022-07-12T03:11:37.426885Z",
     "iopub.status.idle": "2022-07-12T03:11:37.432922Z",
     "shell.execute_reply": "2022-07-12T03:11:37.431949Z"
    },
    "papermill": {
     "duration": 0.030602,
     "end_time": "2022-07-12T03:11:37.434849",
     "exception": false,
     "start_time": "2022-07-12T03:11:37.404247",
     "status": "completed"
    },
    "tags": []
   },
   "outputs": [
    {
     "data": {
      "text/plain": [
       "dtype('O')"
      ]
     },
     "execution_count": 17,
     "metadata": {},
     "output_type": "execute_result"
    }
   ],
   "source": [
    "# check the data type of our date column\n",
    "earthquakes['Date'].dtype"
   ]
  },
  {
   "cell_type": "markdown",
   "id": "d44b4299",
   "metadata": {
    "papermill": {
     "duration": 0.020659,
     "end_time": "2022-07-12T03:11:37.476184",
     "exception": false,
     "start_time": "2022-07-12T03:11:37.455525",
     "status": "completed"
    },
    "tags": []
   },
   "source": [
    "### 3.2 Convert the Date Columns to Date Time"
   ]
  },
  {
   "cell_type": "markdown",
   "id": "db32f4ce",
   "metadata": {
    "papermill": {
     "duration": 0.02006,
     "end_time": "2022-07-12T03:11:37.516917",
     "exception": false,
     "start_time": "2022-07-12T03:11:37.496857",
     "status": "completed"
    },
    "tags": []
   },
   "source": [
    "Now that we know that our date column isn't being recognized as a date, it's time to convert it so that it is recognized as a date. This is called \"parsing dates\" because we're taking in a string and identifying its component parts."
   ]
  },
  {
   "cell_type": "markdown",
   "id": "ff886d7e",
   "metadata": {
    "papermill": {
     "duration": 0.020777,
     "end_time": "2022-07-12T03:11:37.558345",
     "exception": false,
     "start_time": "2022-07-12T03:11:37.537568",
     "status": "completed"
    },
    "tags": []
   },
   "source": [
    "Most of the entries in the \"Date\" column follow the same format: \"month/day/four-digit year\". However, the entry at index 3378 follows a completely different pattern."
   ]
  },
  {
   "cell_type": "code",
   "execution_count": 18,
   "id": "cfc16d42",
   "metadata": {
    "execution": {
     "iopub.execute_input": "2022-07-12T03:11:37.602959Z",
     "iopub.status.busy": "2022-07-12T03:11:37.602592Z",
     "iopub.status.idle": "2022-07-12T03:11:37.627489Z",
     "shell.execute_reply": "2022-07-12T03:11:37.626382Z"
    },
    "papermill": {
     "duration": 0.049145,
     "end_time": "2022-07-12T03:11:37.629609",
     "exception": false,
     "start_time": "2022-07-12T03:11:37.580464",
     "status": "completed"
    },
    "tags": []
   },
   "outputs": [
    {
     "data": {
      "text/html": [
       "<div>\n",
       "<style scoped>\n",
       "    .dataframe tbody tr th:only-of-type {\n",
       "        vertical-align: middle;\n",
       "    }\n",
       "\n",
       "    .dataframe tbody tr th {\n",
       "        vertical-align: top;\n",
       "    }\n",
       "\n",
       "    .dataframe thead th {\n",
       "        text-align: right;\n",
       "    }\n",
       "</style>\n",
       "<table border=\"1\" class=\"dataframe\">\n",
       "  <thead>\n",
       "    <tr style=\"text-align: right;\">\n",
       "      <th></th>\n",
       "      <th>Date</th>\n",
       "      <th>Time</th>\n",
       "      <th>Latitude</th>\n",
       "      <th>Longitude</th>\n",
       "      <th>Type</th>\n",
       "      <th>Depth</th>\n",
       "      <th>Depth Error</th>\n",
       "      <th>Depth Seismic Stations</th>\n",
       "      <th>Magnitude</th>\n",
       "      <th>Magnitude Type</th>\n",
       "      <th>...</th>\n",
       "      <th>Magnitude Seismic Stations</th>\n",
       "      <th>Azimuthal Gap</th>\n",
       "      <th>Horizontal Distance</th>\n",
       "      <th>Horizontal Error</th>\n",
       "      <th>Root Mean Square</th>\n",
       "      <th>ID</th>\n",
       "      <th>Source</th>\n",
       "      <th>Location Source</th>\n",
       "      <th>Magnitude Source</th>\n",
       "      <th>Status</th>\n",
       "    </tr>\n",
       "  </thead>\n",
       "  <tbody>\n",
       "    <tr>\n",
       "      <th>3378</th>\n",
       "      <td>1975-02-23T02:58:41.000Z</td>\n",
       "      <td>1975-02-23T02:58:41.000Z</td>\n",
       "      <td>8.017</td>\n",
       "      <td>124.075</td>\n",
       "      <td>Earthquake</td>\n",
       "      <td>623.0</td>\n",
       "      <td>NaN</td>\n",
       "      <td>NaN</td>\n",
       "      <td>5.6</td>\n",
       "      <td>MB</td>\n",
       "      <td>...</td>\n",
       "      <td>NaN</td>\n",
       "      <td>NaN</td>\n",
       "      <td>NaN</td>\n",
       "      <td>NaN</td>\n",
       "      <td>NaN</td>\n",
       "      <td>USP0000A09</td>\n",
       "      <td>US</td>\n",
       "      <td>US</td>\n",
       "      <td>US</td>\n",
       "      <td>Reviewed</td>\n",
       "    </tr>\n",
       "    <tr>\n",
       "      <th>3379</th>\n",
       "      <td>02/23/1975</td>\n",
       "      <td>03:53:36</td>\n",
       "      <td>-21.727</td>\n",
       "      <td>-71.356</td>\n",
       "      <td>Earthquake</td>\n",
       "      <td>33.0</td>\n",
       "      <td>NaN</td>\n",
       "      <td>NaN</td>\n",
       "      <td>5.6</td>\n",
       "      <td>MB</td>\n",
       "      <td>...</td>\n",
       "      <td>NaN</td>\n",
       "      <td>NaN</td>\n",
       "      <td>NaN</td>\n",
       "      <td>NaN</td>\n",
       "      <td>NaN</td>\n",
       "      <td>USP0000A0A</td>\n",
       "      <td>US</td>\n",
       "      <td>US</td>\n",
       "      <td>US</td>\n",
       "      <td>Reviewed</td>\n",
       "    </tr>\n",
       "    <tr>\n",
       "      <th>3380</th>\n",
       "      <td>02/23/1975</td>\n",
       "      <td>07:34:11</td>\n",
       "      <td>-10.879</td>\n",
       "      <td>166.667</td>\n",
       "      <td>Earthquake</td>\n",
       "      <td>33.0</td>\n",
       "      <td>NaN</td>\n",
       "      <td>NaN</td>\n",
       "      <td>5.5</td>\n",
       "      <td>MS</td>\n",
       "      <td>...</td>\n",
       "      <td>NaN</td>\n",
       "      <td>NaN</td>\n",
       "      <td>NaN</td>\n",
       "      <td>NaN</td>\n",
       "      <td>NaN</td>\n",
       "      <td>USP0000A0C</td>\n",
       "      <td>US</td>\n",
       "      <td>US</td>\n",
       "      <td>US</td>\n",
       "      <td>Reviewed</td>\n",
       "    </tr>\n",
       "    <tr>\n",
       "      <th>3381</th>\n",
       "      <td>02/25/1975</td>\n",
       "      <td>05:20:05</td>\n",
       "      <td>-7.388</td>\n",
       "      <td>149.798</td>\n",
       "      <td>Earthquake</td>\n",
       "      <td>33.0</td>\n",
       "      <td>NaN</td>\n",
       "      <td>NaN</td>\n",
       "      <td>5.5</td>\n",
       "      <td>MB</td>\n",
       "      <td>...</td>\n",
       "      <td>NaN</td>\n",
       "      <td>NaN</td>\n",
       "      <td>NaN</td>\n",
       "      <td>NaN</td>\n",
       "      <td>NaN</td>\n",
       "      <td>USP0000A12</td>\n",
       "      <td>US</td>\n",
       "      <td>US</td>\n",
       "      <td>US</td>\n",
       "      <td>Reviewed</td>\n",
       "    </tr>\n",
       "    <tr>\n",
       "      <th>3382</th>\n",
       "      <td>02/26/1975</td>\n",
       "      <td>04:48:55</td>\n",
       "      <td>85.047</td>\n",
       "      <td>97.969</td>\n",
       "      <td>Earthquake</td>\n",
       "      <td>33.0</td>\n",
       "      <td>NaN</td>\n",
       "      <td>NaN</td>\n",
       "      <td>5.6</td>\n",
       "      <td>MS</td>\n",
       "      <td>...</td>\n",
       "      <td>NaN</td>\n",
       "      <td>NaN</td>\n",
       "      <td>NaN</td>\n",
       "      <td>NaN</td>\n",
       "      <td>NaN</td>\n",
       "      <td>USP0000A1H</td>\n",
       "      <td>US</td>\n",
       "      <td>US</td>\n",
       "      <td>US</td>\n",
       "      <td>Reviewed</td>\n",
       "    </tr>\n",
       "  </tbody>\n",
       "</table>\n",
       "<p>5 rows × 21 columns</p>\n",
       "</div>"
      ],
      "text/plain": [
       "                          Date                      Time  Latitude  Longitude  \\\n",
       "3378  1975-02-23T02:58:41.000Z  1975-02-23T02:58:41.000Z     8.017    124.075   \n",
       "3379                02/23/1975                  03:53:36   -21.727    -71.356   \n",
       "3380                02/23/1975                  07:34:11   -10.879    166.667   \n",
       "3381                02/25/1975                  05:20:05    -7.388    149.798   \n",
       "3382                02/26/1975                  04:48:55    85.047     97.969   \n",
       "\n",
       "            Type  Depth  Depth Error  Depth Seismic Stations  Magnitude  \\\n",
       "3378  Earthquake  623.0          NaN                     NaN        5.6   \n",
       "3379  Earthquake   33.0          NaN                     NaN        5.6   \n",
       "3380  Earthquake   33.0          NaN                     NaN        5.5   \n",
       "3381  Earthquake   33.0          NaN                     NaN        5.5   \n",
       "3382  Earthquake   33.0          NaN                     NaN        5.6   \n",
       "\n",
       "     Magnitude Type  ...  Magnitude Seismic Stations  Azimuthal Gap  \\\n",
       "3378             MB  ...                         NaN            NaN   \n",
       "3379             MB  ...                         NaN            NaN   \n",
       "3380             MS  ...                         NaN            NaN   \n",
       "3381             MB  ...                         NaN            NaN   \n",
       "3382             MS  ...                         NaN            NaN   \n",
       "\n",
       "      Horizontal Distance  Horizontal Error  Root Mean Square          ID  \\\n",
       "3378                  NaN               NaN               NaN  USP0000A09   \n",
       "3379                  NaN               NaN               NaN  USP0000A0A   \n",
       "3380                  NaN               NaN               NaN  USP0000A0C   \n",
       "3381                  NaN               NaN               NaN  USP0000A12   \n",
       "3382                  NaN               NaN               NaN  USP0000A1H   \n",
       "\n",
       "     Source Location Source Magnitude Source    Status  \n",
       "3378     US              US               US  Reviewed  \n",
       "3379     US              US               US  Reviewed  \n",
       "3380     US              US               US  Reviewed  \n",
       "3381     US              US               US  Reviewed  \n",
       "3382     US              US               US  Reviewed  \n",
       "\n",
       "[5 rows x 21 columns]"
      ]
     },
     "execution_count": 18,
     "metadata": {},
     "output_type": "execute_result"
    }
   ],
   "source": [
    "earthquakes[3378:3383]"
   ]
  },
  {
   "cell_type": "markdown",
   "id": "202cf43d",
   "metadata": {
    "papermill": {
     "duration": 0.021125,
     "end_time": "2022-07-12T03:11:37.671947",
     "exception": false,
     "start_time": "2022-07-12T03:11:37.650822",
     "status": "completed"
    },
    "tags": []
   },
   "source": [
    "It appears to be an issue with data entry: ideally, all entries in the column have the same format. By checking the length of each entry in the \"Date\" column, we can get an idea of how widespread this issue is."
   ]
  },
  {
   "cell_type": "code",
   "execution_count": 19,
   "id": "38ef6b7a",
   "metadata": {
    "execution": {
     "iopub.execute_input": "2022-07-12T03:11:37.716790Z",
     "iopub.status.busy": "2022-07-12T03:11:37.716378Z",
     "iopub.status.idle": "2022-07-12T03:11:37.733903Z",
     "shell.execute_reply": "2022-07-12T03:11:37.732832Z"
    },
    "papermill": {
     "duration": 0.042499,
     "end_time": "2022-07-12T03:11:37.736194",
     "exception": false,
     "start_time": "2022-07-12T03:11:37.693695",
     "status": "completed"
    },
    "tags": []
   },
   "outputs": [
    {
     "data": {
      "text/plain": [
       "10    23409\n",
       "24        3\n",
       "Name: Date, dtype: int64"
      ]
     },
     "execution_count": 19,
     "metadata": {},
     "output_type": "execute_result"
    }
   ],
   "source": [
    "date_lengths = earthquakes.Date.str.len()\n",
    "date_lengths.value_counts()"
   ]
  },
  {
   "cell_type": "markdown",
   "id": "701330b1",
   "metadata": {
    "papermill": {
     "duration": 0.020846,
     "end_time": "2022-07-12T03:11:37.778022",
     "exception": false,
     "start_time": "2022-07-12T03:11:37.757176",
     "status": "completed"
    },
    "tags": []
   },
   "source": [
    "It appears as though there are two more rows that has a date in a different format. Run the code cell below to obtain the indices corresponding to those rows and print the data."
   ]
  },
  {
   "cell_type": "code",
   "execution_count": 20,
   "id": "439baa27",
   "metadata": {
    "execution": {
     "iopub.execute_input": "2022-07-12T03:11:37.823098Z",
     "iopub.status.busy": "2022-07-12T03:11:37.821874Z",
     "iopub.status.idle": "2022-07-12T03:11:37.849318Z",
     "shell.execute_reply": "2022-07-12T03:11:37.847923Z"
    },
    "papermill": {
     "duration": 0.052058,
     "end_time": "2022-07-12T03:11:37.851351",
     "exception": false,
     "start_time": "2022-07-12T03:11:37.799293",
     "status": "completed"
    },
    "tags": []
   },
   "outputs": [
    {
     "name": "stdout",
     "output_type": "stream",
     "text": [
      "Indices with corrupted data: [ 3378  7512 20650]\n"
     ]
    },
    {
     "data": {
      "text/html": [
       "<div>\n",
       "<style scoped>\n",
       "    .dataframe tbody tr th:only-of-type {\n",
       "        vertical-align: middle;\n",
       "    }\n",
       "\n",
       "    .dataframe tbody tr th {\n",
       "        vertical-align: top;\n",
       "    }\n",
       "\n",
       "    .dataframe thead th {\n",
       "        text-align: right;\n",
       "    }\n",
       "</style>\n",
       "<table border=\"1\" class=\"dataframe\">\n",
       "  <thead>\n",
       "    <tr style=\"text-align: right;\">\n",
       "      <th></th>\n",
       "      <th>Date</th>\n",
       "      <th>Time</th>\n",
       "      <th>Latitude</th>\n",
       "      <th>Longitude</th>\n",
       "      <th>Type</th>\n",
       "      <th>Depth</th>\n",
       "      <th>Depth Error</th>\n",
       "      <th>Depth Seismic Stations</th>\n",
       "      <th>Magnitude</th>\n",
       "      <th>Magnitude Type</th>\n",
       "      <th>...</th>\n",
       "      <th>Magnitude Seismic Stations</th>\n",
       "      <th>Azimuthal Gap</th>\n",
       "      <th>Horizontal Distance</th>\n",
       "      <th>Horizontal Error</th>\n",
       "      <th>Root Mean Square</th>\n",
       "      <th>ID</th>\n",
       "      <th>Source</th>\n",
       "      <th>Location Source</th>\n",
       "      <th>Magnitude Source</th>\n",
       "      <th>Status</th>\n",
       "    </tr>\n",
       "  </thead>\n",
       "  <tbody>\n",
       "    <tr>\n",
       "      <th>3378</th>\n",
       "      <td>1975-02-23T02:58:41.000Z</td>\n",
       "      <td>1975-02-23T02:58:41.000Z</td>\n",
       "      <td>8.017</td>\n",
       "      <td>124.075</td>\n",
       "      <td>Earthquake</td>\n",
       "      <td>623.0</td>\n",
       "      <td>NaN</td>\n",
       "      <td>NaN</td>\n",
       "      <td>5.6</td>\n",
       "      <td>MB</td>\n",
       "      <td>...</td>\n",
       "      <td>NaN</td>\n",
       "      <td>NaN</td>\n",
       "      <td>NaN</td>\n",
       "      <td>NaN</td>\n",
       "      <td>NaN</td>\n",
       "      <td>USP0000A09</td>\n",
       "      <td>US</td>\n",
       "      <td>US</td>\n",
       "      <td>US</td>\n",
       "      <td>Reviewed</td>\n",
       "    </tr>\n",
       "    <tr>\n",
       "      <th>7512</th>\n",
       "      <td>1985-04-28T02:53:41.530Z</td>\n",
       "      <td>1985-04-28T02:53:41.530Z</td>\n",
       "      <td>-32.998</td>\n",
       "      <td>-71.766</td>\n",
       "      <td>Earthquake</td>\n",
       "      <td>33.0</td>\n",
       "      <td>NaN</td>\n",
       "      <td>NaN</td>\n",
       "      <td>5.6</td>\n",
       "      <td>MW</td>\n",
       "      <td>...</td>\n",
       "      <td>NaN</td>\n",
       "      <td>NaN</td>\n",
       "      <td>NaN</td>\n",
       "      <td>NaN</td>\n",
       "      <td>1.30</td>\n",
       "      <td>USP0002E81</td>\n",
       "      <td>US</td>\n",
       "      <td>US</td>\n",
       "      <td>HRV</td>\n",
       "      <td>Reviewed</td>\n",
       "    </tr>\n",
       "    <tr>\n",
       "      <th>20650</th>\n",
       "      <td>2011-03-13T02:23:34.520Z</td>\n",
       "      <td>2011-03-13T02:23:34.520Z</td>\n",
       "      <td>36.344</td>\n",
       "      <td>142.344</td>\n",
       "      <td>Earthquake</td>\n",
       "      <td>10.1</td>\n",
       "      <td>13.9</td>\n",
       "      <td>289.0</td>\n",
       "      <td>5.8</td>\n",
       "      <td>MWC</td>\n",
       "      <td>...</td>\n",
       "      <td>NaN</td>\n",
       "      <td>32.3</td>\n",
       "      <td>NaN</td>\n",
       "      <td>NaN</td>\n",
       "      <td>1.06</td>\n",
       "      <td>USP000HWQP</td>\n",
       "      <td>US</td>\n",
       "      <td>US</td>\n",
       "      <td>GCMT</td>\n",
       "      <td>Reviewed</td>\n",
       "    </tr>\n",
       "  </tbody>\n",
       "</table>\n",
       "<p>3 rows × 21 columns</p>\n",
       "</div>"
      ],
      "text/plain": [
       "                           Date                      Time  Latitude  \\\n",
       "3378   1975-02-23T02:58:41.000Z  1975-02-23T02:58:41.000Z     8.017   \n",
       "7512   1985-04-28T02:53:41.530Z  1985-04-28T02:53:41.530Z   -32.998   \n",
       "20650  2011-03-13T02:23:34.520Z  2011-03-13T02:23:34.520Z    36.344   \n",
       "\n",
       "       Longitude        Type  Depth  Depth Error  Depth Seismic Stations  \\\n",
       "3378     124.075  Earthquake  623.0          NaN                     NaN   \n",
       "7512     -71.766  Earthquake   33.0          NaN                     NaN   \n",
       "20650    142.344  Earthquake   10.1         13.9                   289.0   \n",
       "\n",
       "       Magnitude Magnitude Type  ...  Magnitude Seismic Stations  \\\n",
       "3378         5.6             MB  ...                         NaN   \n",
       "7512         5.6             MW  ...                         NaN   \n",
       "20650        5.8            MWC  ...                         NaN   \n",
       "\n",
       "       Azimuthal Gap  Horizontal Distance  Horizontal Error  Root Mean Square  \\\n",
       "3378             NaN                  NaN               NaN               NaN   \n",
       "7512             NaN                  NaN               NaN              1.30   \n",
       "20650           32.3                  NaN               NaN              1.06   \n",
       "\n",
       "               ID Source Location Source Magnitude Source    Status  \n",
       "3378   USP0000A09     US              US               US  Reviewed  \n",
       "7512   USP0002E81     US              US              HRV  Reviewed  \n",
       "20650  USP000HWQP     US              US             GCMT  Reviewed  \n",
       "\n",
       "[3 rows x 21 columns]"
      ]
     },
     "execution_count": 20,
     "metadata": {},
     "output_type": "execute_result"
    }
   ],
   "source": [
    "indices = np.where([date_lengths == 24])[1]\n",
    "print('Indices with corrupted data:', indices)\n",
    "earthquakes.loc[indices]"
   ]
  },
  {
   "cell_type": "markdown",
   "id": "d89ad2b2",
   "metadata": {
    "papermill": {
     "duration": 0.022182,
     "end_time": "2022-07-12T03:11:37.894846",
     "exception": false,
     "start_time": "2022-07-12T03:11:37.872664",
     "status": "completed"
    },
    "tags": []
   },
   "source": [
    "Let's create a new column \"date_parsed\" in the earthquakes dataset that has correctly parsed dates in it. Without removing any rows from the dataset, the entries in the \"Date\" and \"Time\" column can be amended."
   ]
  },
  {
   "cell_type": "code",
   "execution_count": 21,
   "id": "a8bef11d",
   "metadata": {
    "execution": {
     "iopub.execute_input": "2022-07-12T03:11:37.940513Z",
     "iopub.status.busy": "2022-07-12T03:11:37.939846Z",
     "iopub.status.idle": "2022-07-12T03:11:37.982581Z",
     "shell.execute_reply": "2022-07-12T03:11:37.981467Z"
    },
    "papermill": {
     "duration": 0.068273,
     "end_time": "2022-07-12T03:11:37.985289",
     "exception": false,
     "start_time": "2022-07-12T03:11:37.917016",
     "status": "completed"
    },
    "tags": []
   },
   "outputs": [],
   "source": [
    "earthquakes.loc[3378, \"Date\"] = \"02/23/1975\"\n",
    "earthquakes.loc[7512, \"Date\"] = \"04/28/1985\"\n",
    "earthquakes.loc[20650, \"Date\"] = \"03/13/2011\"\n",
    "earthquakes['date_parsed'] = pd.to_datetime(earthquakes['Date'], format=\"%m/%d/%Y\")"
   ]
  },
  {
   "cell_type": "markdown",
   "id": "a3576335",
   "metadata": {
    "papermill": {
     "duration": 0.021098,
     "end_time": "2022-07-12T03:11:38.027726",
     "exception": false,
     "start_time": "2022-07-12T03:11:38.006628",
     "status": "completed"
    },
    "tags": []
   },
   "source": [
    "Now that our dates are parsed correctly, we can interact with them in useful ways."
   ]
  },
  {
   "cell_type": "markdown",
   "id": "4010a428",
   "metadata": {
    "papermill": {
     "duration": 0.021371,
     "end_time": "2022-07-12T03:11:38.070736",
     "exception": false,
     "start_time": "2022-07-12T03:11:38.049365",
     "status": "completed"
    },
    "tags": []
   },
   "source": [
    "### 3.3 Select the day of the month"
   ]
  },
  {
   "cell_type": "markdown",
   "id": "92d9ed72",
   "metadata": {
    "papermill": {
     "duration": 0.021428,
     "end_time": "2022-07-12T03:11:38.114507",
     "exception": false,
     "start_time": "2022-07-12T03:11:38.093079",
     "status": "completed"
    },
    "tags": []
   },
   "source": [
    "Create a Pandas Series ```day_of_month_earthquakes``` containing the day of the month from the \"date_parsed\" column."
   ]
  },
  {
   "cell_type": "code",
   "execution_count": 22,
   "id": "9afed467",
   "metadata": {
    "execution": {
     "iopub.execute_input": "2022-07-12T03:11:38.159241Z",
     "iopub.status.busy": "2022-07-12T03:11:38.158845Z",
     "iopub.status.idle": "2022-07-12T03:11:38.166288Z",
     "shell.execute_reply": "2022-07-12T03:11:38.165267Z"
    },
    "papermill": {
     "duration": 0.032515,
     "end_time": "2022-07-12T03:11:38.168476",
     "exception": false,
     "start_time": "2022-07-12T03:11:38.135961",
     "status": "completed"
    },
    "tags": []
   },
   "outputs": [],
   "source": [
    "day_of_month_earthquakes = earthquakes['date_parsed'].dt.day"
   ]
  },
  {
   "cell_type": "code",
   "execution_count": 23,
   "id": "011ba4da",
   "metadata": {
    "execution": {
     "iopub.execute_input": "2022-07-12T03:11:38.213796Z",
     "iopub.status.busy": "2022-07-12T03:11:38.213377Z",
     "iopub.status.idle": "2022-07-12T03:11:38.220254Z",
     "shell.execute_reply": "2022-07-12T03:11:38.219489Z"
    },
    "papermill": {
     "duration": 0.031647,
     "end_time": "2022-07-12T03:11:38.222234",
     "exception": false,
     "start_time": "2022-07-12T03:11:38.190587",
     "status": "completed"
    },
    "tags": []
   },
   "outputs": [
    {
     "data": {
      "text/plain": [
       "0   1965-01-02\n",
       "1   1965-01-04\n",
       "2   1965-01-05\n",
       "3   1965-01-08\n",
       "4   1965-01-09\n",
       "Name: date_parsed, dtype: datetime64[ns]"
      ]
     },
     "execution_count": 23,
     "metadata": {},
     "output_type": "execute_result"
    }
   ],
   "source": [
    "# print the first few rows\n",
    "earthquakes['date_parsed'].head()"
   ]
  },
  {
   "cell_type": "markdown",
   "id": "75f754a0",
   "metadata": {
    "papermill": {
     "duration": 0.021131,
     "end_time": "2022-07-12T03:11:38.264767",
     "exception": false,
     "start_time": "2022-07-12T03:11:38.243636",
     "status": "completed"
    },
    "tags": []
   },
   "source": [
    "### 3.4 Plot the day of the month to check the date parsing"
   ]
  },
  {
   "cell_type": "markdown",
   "id": "6b49e541",
   "metadata": {
    "papermill": {
     "duration": 0.022324,
     "end_time": "2022-07-12T03:11:38.308889",
     "exception": false,
     "start_time": "2022-07-12T03:11:38.286565",
     "status": "completed"
    },
    "tags": []
   },
   "source": [
    "Plot the days of the months from the earthquake dataset. Mixing up the months and days is always a possibility while parsing data. The to_datetime() function does have very helpful error messages, but it doesn't hurt to double-check that the days of the month we've extracted make sense.\n",
    "\n",
    "To do this, let's plot a histogram of the days of the month. We expect it to have values between 1 and 31, a relatively even distribution. (With a dip on 31 because not all months have 31 days.) Let's see if that's the case:"
   ]
  },
  {
   "cell_type": "code",
   "execution_count": 24,
   "id": "60c2939b",
   "metadata": {
    "execution": {
     "iopub.execute_input": "2022-07-12T03:11:38.355398Z",
     "iopub.status.busy": "2022-07-12T03:11:38.354728Z",
     "iopub.status.idle": "2022-07-12T03:11:38.569599Z",
     "shell.execute_reply": "2022-07-12T03:11:38.568615Z"
    },
    "papermill": {
     "duration": 0.240771,
     "end_time": "2022-07-12T03:11:38.572206",
     "exception": false,
     "start_time": "2022-07-12T03:11:38.331435",
     "status": "completed"
    },
    "tags": []
   },
   "outputs": [
    {
     "name": "stderr",
     "output_type": "stream",
     "text": [
      "/opt/conda/lib/python3.7/site-packages/seaborn/distributions.py:2619: FutureWarning: `distplot` is a deprecated function and will be removed in a future version. Please adapt your code to use either `displot` (a figure-level function with similar flexibility) or `histplot` (an axes-level function for histograms).\n",
      "  warnings.warn(msg, FutureWarning)\n"
     ]
    },
    {
     "data": {
      "text/plain": [
       "<AxesSubplot:xlabel='date_parsed'>"
      ]
     },
     "execution_count": 24,
     "metadata": {},
     "output_type": "execute_result"
    },
    {
     "data": {
      "image/png": "[encoded data removed]",
      "text/plain": [
       "<Figure size 432x288 with 1 Axes>"
      ]
     },
     "metadata": {
      "needs_background": "light"
     },
     "output_type": "display_data"
    }
   ],
   "source": [
    "# remove na's\n",
    "day_of_month_earthquakes = day_of_month_earthquakes.dropna()\n",
    "\n",
    "# plot the day of the month\n",
    "sns.distplot(day_of_month_earthquakes, kde=False, bins=31)"
   ]
  },
  {
   "cell_type": "markdown",
   "id": "9644ca73",
   "metadata": {
    "papermill": {
     "duration": 0.021701,
     "end_time": "2022-07-12T03:11:38.616855",
     "exception": false,
     "start_time": "2022-07-12T03:11:38.595154",
     "status": "completed"
    },
    "tags": []
   },
   "source": [
    "Yep, it looks like we did parse our dates correctly & this graph makes good sense to me."
   ]
  },
  {
   "cell_type": "markdown",
   "id": "2a31a241",
   "metadata": {
    "papermill": {
     "duration": 0.0214,
     "end_time": "2022-07-12T03:11:38.659786",
     "exception": false,
     "start_time": "2022-07-12T03:11:38.638386",
     "status": "completed"
    },
    "tags": []
   },
   "source": [
    "## 4. Character Encoding"
   ]
  },
  {
   "cell_type": "markdown",
   "id": "58bac687",
   "metadata": {
    "papermill": {
     "duration": 0.021244,
     "end_time": "2022-07-12T03:11:38.702784",
     "exception": false,
     "start_time": "2022-07-12T03:11:38.681540",
     "status": "completed"
    },
    "tags": []
   },
   "source": [
    "Character encoding is the process of assigning numbers to graphical characters, especially the written characters of human language, allowing them to be stored, transmitted, and transformed using digital computers. "
   ]
  },
  {
   "cell_type": "markdown",
   "id": "ef743aa0",
   "metadata": {
    "papermill": {
     "duration": 0.021039,
     "end_time": "2022-07-12T03:11:38.745260",
     "exception": false,
     "start_time": "2022-07-12T03:11:38.724221",
     "status": "completed"
    },
    "tags": []
   },
   "source": [
    "The first thing we'll need to do is load in the libraries we'll be using."
   ]
  },
  {
   "cell_type": "code",
   "execution_count": 25,
   "id": "2e9a1385",
   "metadata": {
    "execution": {
     "iopub.execute_input": "2022-07-12T03:11:38.791568Z",
     "iopub.status.busy": "2022-07-12T03:11:38.790732Z",
     "iopub.status.idle": "2022-07-12T03:11:38.795865Z",
     "shell.execute_reply": "2022-07-12T03:11:38.795019Z"
    },
    "papermill": {
     "duration": 0.030731,
     "end_time": "2022-07-12T03:11:38.797727",
     "exception": false,
     "start_time": "2022-07-12T03:11:38.766996",
     "status": "completed"
    },
    "tags": []
   },
   "outputs": [],
   "source": [
    "# modules we'll use\n",
    "import pandas as pd\n",
    "import numpy as np\n",
    "\n",
    "# helpful character encoding module\n",
    "import chardet\n",
    "\n",
    "# set seed for reproducibility\n",
    "np.random.seed(0)"
   ]
  },
  {
   "cell_type": "markdown",
   "id": "a8a9135e",
   "metadata": {
    "papermill": {
     "duration": 0.021254,
     "end_time": "2022-07-12T03:11:38.840593",
     "exception": false,
     "start_time": "2022-07-12T03:11:38.819339",
     "status": "completed"
    },
    "tags": []
   },
   "source": [
    "### 4.1 What are encodings?"
   ]
  },
  {
   "cell_type": "markdown",
   "id": "76dfb5da",
   "metadata": {
    "papermill": {
     "duration": 0.02108,
     "end_time": "2022-07-12T03:11:38.883121",
     "exception": false,
     "start_time": "2022-07-12T03:11:38.862041",
     "status": "completed"
    },
    "tags": []
   },
   "source": [
    "Human-readable text (like \"hi\") are mapped from raw binary byte strings (that look like this: 0110100001101001). All of these is achieved by a specific set of rules that is chararcter encoding. There are many different encodings, and if you tried to read in text with a different encoding that the one it was originally written in, you end up with scrambled text called \"mojibake\" (said like mo-gee-bah-kay). Here's an example of mojibake:\n",
    "\n",
    "æ–‡å—åŒ–ã??\n",
    "\n",
    "You might also end up with a \"unknown\" characters. These are what gets printed when there's no mapping between a particular byte and a character in the encoding you're using to read your byte string in and they look like this:\n",
    "\n",
    "����������\n",
    "\n",
    "Character encoding mismatches are less common today than they used to be, but it's definitely still a problem. There are lots of different character encodings, but the main one you need to know is UTF-8.\n",
    "\n",
    ">UTF-8 is the standard text encoding. All Python code is in UTF-8 and, ideally, all your data should be as well. It's when things aren't in UTF-8 that you run into trouble.\n",
    "\n",
    "It was pretty hard to deal with encodings in Python 2, but thankfully in Python 3 it's a lot simpler. (Kaggle Kernels only use Python 3.) There are two main data types you'll encounter when working with text in Python 3. One is is the string, which is what text is by default."
   ]
  },
  {
   "cell_type": "code",
   "execution_count": 26,
   "id": "2fccea4e",
   "metadata": {
    "execution": {
     "iopub.execute_input": "2022-07-12T03:11:38.929280Z",
     "iopub.status.busy": "2022-07-12T03:11:38.928682Z",
     "iopub.status.idle": "2022-07-12T03:11:38.934056Z",
     "shell.execute_reply": "2022-07-12T03:11:38.933357Z"
    },
    "papermill": {
     "duration": 0.03139,
     "end_time": "2022-07-12T03:11:38.935922",
     "exception": false,
     "start_time": "2022-07-12T03:11:38.904532",
     "status": "completed"
    },
    "tags": []
   },
   "outputs": [
    {
     "data": {
      "text/plain": [
       "str"
      ]
     },
     "execution_count": 26,
     "metadata": {},
     "output_type": "execute_result"
    }
   ],
   "source": [
    "# start with a string\n",
    "before = \"This is the word 'namaste' written in hindi: नमस्ते\"\n",
    "\n",
    "# check to see what datatype it is\n",
    "type(before)"
   ]
  },
  {
   "cell_type": "markdown",
   "id": "b32d222c",
   "metadata": {
    "papermill": {
     "duration": 0.021306,
     "end_time": "2022-07-12T03:11:38.979004",
     "exception": false,
     "start_time": "2022-07-12T03:11:38.957698",
     "status": "completed"
    },
    "tags": []
   },
   "source": [
    "The other data is the [bytes](https://docs.python.org/3.1/library/functions.html#bytes) data type, which is a sequence of integers. You can convert a string into bytes by specifying which encoding it's in:"
   ]
  },
  {
   "cell_type": "code",
   "execution_count": 27,
   "id": "b1c8734b",
   "metadata": {
    "execution": {
     "iopub.execute_input": "2022-07-12T03:11:39.024036Z",
     "iopub.status.busy": "2022-07-12T03:11:39.023433Z",
     "iopub.status.idle": "2022-07-12T03:11:39.029714Z",
     "shell.execute_reply": "2022-07-12T03:11:39.028680Z"
    },
    "papermill": {
     "duration": 0.031237,
     "end_time": "2022-07-12T03:11:39.031773",
     "exception": false,
     "start_time": "2022-07-12T03:11:39.000536",
     "status": "completed"
    },
    "tags": []
   },
   "outputs": [
    {
     "data": {
      "text/plain": [
       "bytes"
      ]
     },
     "execution_count": 27,
     "metadata": {},
     "output_type": "execute_result"
    }
   ],
   "source": [
    "# encode it to a different encoding, replacing characters that raise errors\n",
    "after = before.encode(\"utf-8\", errors = \"replace\")\n",
    "\n",
    "# check the type\n",
    "type(after)"
   ]
  },
  {
   "cell_type": "markdown",
   "id": "0d922763",
   "metadata": {
    "papermill": {
     "duration": 0.021402,
     "end_time": "2022-07-12T03:11:39.074887",
     "exception": false,
     "start_time": "2022-07-12T03:11:39.053485",
     "status": "completed"
    },
    "tags": []
   },
   "source": [
    "If you look at a bytes object, you'll see that it has a b in front of it, and then maybe some text after. That's because bytes are printed out as if they were characters encoded in ASCII. (ASCII is an older character encoding that doesn't really work for writing any language other than English.) Here you can see that the namaste word has been replaced with some mojibake that looks like \"\\xe0\\xa4\\xa8\\xe0\\xa4\\xae\\xe0\\xa4\\xb8\\xe0\\xa5\\x8d\\xe0\\xa4\\xa4\\xe0\\xa5\\x87\" when it's printed as if it were an ASCII string."
   ]
  },
  {
   "cell_type": "code",
   "execution_count": 28,
   "id": "5beb7e36",
   "metadata": {
    "execution": {
     "iopub.execute_input": "2022-07-12T03:11:39.120340Z",
     "iopub.status.busy": "2022-07-12T03:11:39.119375Z",
     "iopub.status.idle": "2022-07-12T03:11:39.126447Z",
     "shell.execute_reply": "2022-07-12T03:11:39.125350Z"
    },
    "papermill": {
     "duration": 0.032075,
     "end_time": "2022-07-12T03:11:39.128549",
     "exception": false,
     "start_time": "2022-07-12T03:11:39.096474",
     "status": "completed"
    },
    "tags": []
   },
   "outputs": [
    {
     "data": {
      "text/plain": [
       "b\"This is the word 'namaste' written in hindi: \\xe0\\xa4\\xa8\\xe0\\xa4\\xae\\xe0\\xa4\\xb8\\xe0\\xa5\\x8d\\xe0\\xa4\\xa4\\xe0\\xa5\\x87\""
      ]
     },
     "execution_count": 28,
     "metadata": {},
     "output_type": "execute_result"
    }
   ],
   "source": [
    "# take a look at what the bytes look like\n",
    "after"
   ]
  },
  {
   "cell_type": "markdown",
   "id": "4a29f91e",
   "metadata": {
    "papermill": {
     "duration": 0.021442,
     "end_time": "2022-07-12T03:11:39.171713",
     "exception": false,
     "start_time": "2022-07-12T03:11:39.150271",
     "status": "completed"
    },
    "tags": []
   },
   "source": [
    "However, when we try to use a different encoding to map our bytes into a string, we get an error. This is because the encoding we're trying to use doesn't know what to do with the bytes we're trying to pass it. You need to tell Python the encoding that the byte string is actually supposed to be in."
   ]
  },
  {
   "cell_type": "code",
   "execution_count": 29,
   "id": "e868a8c7",
   "metadata": {
    "execution": {
     "iopub.execute_input": "2022-07-12T03:11:39.217025Z",
     "iopub.status.busy": "2022-07-12T03:11:39.216295Z",
     "iopub.status.idle": "2022-07-12T03:11:39.221836Z",
     "shell.execute_reply": "2022-07-12T03:11:39.220952Z"
    },
    "papermill": {
     "duration": 0.03067,
     "end_time": "2022-07-12T03:11:39.223948",
     "exception": false,
     "start_time": "2022-07-12T03:11:39.193278",
     "status": "completed"
    },
    "tags": []
   },
   "outputs": [
    {
     "name": "stdout",
     "output_type": "stream",
     "text": [
      "This is the word 'namaste' written in hindi: नमस्ते\n"
     ]
    }
   ],
   "source": [
    "# convert it back to utf-8\n",
    "print(after.decode(\"utf-8\"))"
   ]
  },
  {
   "cell_type": "markdown",
   "id": "c049556d",
   "metadata": {
    "papermill": {
     "duration": 0.021363,
     "end_time": "2022-07-12T03:11:39.267082",
     "exception": false,
     "start_time": "2022-07-12T03:11:39.245719",
     "status": "completed"
    },
    "tags": []
   },
   "source": [
    "However, when we try to use a different encoding to map our bytes into a string, we get an error. This is because the encoding we're trying to use doesn't know what to do with the bytes we're trying to pass it. You need to tell Python the encoding that the byte string is actually supposed to be in."
   ]
  },
  {
   "cell_type": "code",
   "execution_count": 30,
   "id": "c946d57b",
   "metadata": {
    "execution": {
     "iopub.execute_input": "2022-07-12T03:11:39.311869Z",
     "iopub.status.busy": "2022-07-12T03:11:39.311498Z",
     "iopub.status.idle": "2022-07-12T03:11:39.399926Z",
     "shell.execute_reply": "2022-07-12T03:11:39.398329Z"
    },
    "papermill": {
     "duration": 0.11349,
     "end_time": "2022-07-12T03:11:39.402053",
     "exception": true,
     "start_time": "2022-07-12T03:11:39.288563",
     "status": "failed"
    },
    "tags": []
   },
   "outputs": [
    {
     "ename": "UnicodeDecodeError",
     "evalue": "'ascii' codec can't decode byte 0xe0 in position 45: ordinal not in range(128)",
     "output_type": "error",
     "traceback": [
      "\u001b[0;31m---------------------------------------------------------------------------\u001b[0m",
      "\u001b[0;31mUnicodeDecodeError\u001b[0m                        Traceback (most recent call last)",
      "\u001b[0;32m/tmp/ipykernel_19/27547290.py\u001b[0m in \u001b[0;36m<module>\u001b[0;34m\u001b[0m\n\u001b[1;32m      1\u001b[0m \u001b[0;31m# try to decode our bytes with the ascii encoding\u001b[0m\u001b[0;34m\u001b[0m\u001b[0;34m\u001b[0m\u001b[0;34m\u001b[0m\u001b[0m\n\u001b[0;32m----> 2\u001b[0;31m \u001b[0mprint\u001b[0m\u001b[0;34m(\u001b[0m\u001b[0mafter\u001b[0m\u001b[0;34m.\u001b[0m\u001b[0mdecode\u001b[0m\u001b[0;34m(\u001b[0m\u001b[0;34m\"ascii\"\u001b[0m\u001b[0;34m)\u001b[0m\u001b[0;34m)\u001b[0m\u001b[0;34m\u001b[0m\u001b[0;34m\u001b[0m\u001b[0m\n\u001b[0m",
      "\u001b[0;31mUnicodeDecodeError\u001b[0m: 'ascii' codec can't decode byte 0xe0 in position 45: ordinal not in range(128)"
     ]
    }
   ],
   "source": [
    "# try to decode our bytes with the ascii encoding\n",
    "print(after.decode(\"ascii\"))"
   ]
  },
  {
   "cell_type": "markdown",
   "id": "8f52196b",
   "metadata": {
    "papermill": {
     "duration": null,
     "end_time": null,
     "exception": null,
     "start_time": null,
     "status": "pending"
    },
    "tags": []
   },
   "source": [
    "We can also run into trouble if we try to use the wrong encoding to map from a string to bytes. Like I said earlier, strings are UTF-8 by default in Python 3, so if we try to treat them like they were in another encoding we'll create problems.\n",
    "\n",
    "For example, if we try to convert a string to bytes for ascii using encode(), we can ask for the bytes to be what they would be if the text was in ASCII. Since our text isn't in ASCII, though, there will be some characters it can't handle. We can automatically replace the characters that ASCII can't handle. If we do that, however, any characters not in ASCII will just be replaced with the unknown character. Then, when we convert the bytes back to a string, the character will be replaced with the unknown character. The dangerous part about this is that there's not way to tell which character it should have been. That means we may have just made our data unusable!"
   ]
  },
  {
   "cell_type": "code",
   "execution_count": null,
   "id": "64765ebd",
   "metadata": {
    "execution": {
     "iopub.execute_input": "2022-07-12T03:08:08.948597Z",
     "iopub.status.busy": "2022-07-12T03:08:08.948215Z",
     "iopub.status.idle": "2022-07-12T03:08:08.954740Z",
     "shell.execute_reply": "2022-07-12T03:08:08.953504Z",
     "shell.execute_reply.started": "2022-07-12T03:08:08.948568Z"
    },
    "papermill": {
     "duration": null,
     "end_time": null,
     "exception": null,
     "start_time": null,
     "status": "pending"
    },
    "tags": []
   },
   "outputs": [],
   "source": [
    "# start with a string\n",
    "before = \"This is the word 'namaste' written in hindi: नमस्ते\"\n",
    "\n",
    "# encode it to a different encoding, replacing characters that raise errors\n",
    "after = before.encode(\"ascii\", errors = \"replace\")\n",
    "\n",
    "# convert it back to utf-8\n",
    "print(after.decode(\"ascii\"))\n",
    "\n",
    "# We've lost the original underlying byte string! It's been \n",
    "# replaced with the underlying byte string for the unknown character :("
   ]
  },
  {
   "cell_type": "markdown",
   "id": "e3e5813f",
   "metadata": {
    "papermill": {
     "duration": null,
     "end_time": null,
     "exception": null,
     "start_time": null,
     "status": "pending"
    },
    "tags": []
   },
   "source": [
    "This is bad and we want to avoid doing it! It's far better to convert all our text to UTF-8 as soon as we can and keep it in that encoding. The best time to convert non UTF-8 input into UTF-8 is when you read in files."
   ]
  },
  {
   "cell_type": "markdown",
   "id": "c39d0d2e",
   "metadata": {
    "papermill": {
     "duration": null,
     "end_time": null,
     "exception": null,
     "start_time": null,
     "status": "pending"
    },
    "tags": []
   },
   "source": [
    "### 4.2 Reading in files with encoding problem"
   ]
  },
  {
   "cell_type": "markdown",
   "id": "a2a92014",
   "metadata": {
    "papermill": {
     "duration": null,
     "end_time": null,
     "exception": null,
     "start_time": null,
     "status": "pending"
    },
    "tags": []
   },
   "source": [
    "Most files you'll encounter will probably be encoded with UTF-8. This is what Python expects by default, so most of the time you won't run into problems. However, sometimes files are also encoded in 'ASCII' and 'Widows-1252' format."
   ]
  },
  {
   "cell_type": "code",
   "execution_count": null,
   "id": "1471d403",
   "metadata": {
    "execution": {
     "iopub.execute_input": "2022-07-12T03:08:18.828081Z",
     "iopub.status.busy": "2022-07-12T03:08:18.827722Z",
     "iopub.status.idle": "2022-07-12T03:08:18.861975Z",
     "shell.execute_reply": "2022-07-12T03:08:18.860927Z",
     "shell.execute_reply.started": "2022-07-12T03:08:18.828052Z"
    },
    "papermill": {
     "duration": null,
     "end_time": null,
     "exception": null,
     "start_time": null,
     "status": "pending"
    },
    "tags": []
   },
   "outputs": [],
   "source": [
    "# read in the file with the encoding detected by chardet\n",
    "police_killings = pd.read_csv(\"../input/fatal-police-shootings-in-the-us/PoliceKillingsUS.csv\", encoding='Windows-1252')\n",
    "\n",
    "# look at the first few lines\n",
    "police_killings.head()"
   ]
  },
  {
   "cell_type": "markdown",
   "id": "0e34b6f6",
   "metadata": {
    "papermill": {
     "duration": null,
     "end_time": null,
     "exception": null,
     "start_time": null,
     "status": "pending"
    },
    "tags": []
   },
   "source": [
    "### 4.3 Saving files with UTF-8 encoding"
   ]
  },
  {
   "cell_type": "markdown",
   "id": "7df7c5fa",
   "metadata": {
    "papermill": {
     "duration": null,
     "end_time": null,
     "exception": null,
     "start_time": null,
     "status": "pending"
    },
    "tags": []
   },
   "source": [
    "Save a version of the police killings dataset to CSV. The good news is, since UTF-8 is the standard encoding in Python, when you save a file it will be saved as UTF-8 by default:"
   ]
  },
  {
   "cell_type": "code",
   "execution_count": null,
   "id": "13095750",
   "metadata": {
    "execution": {
     "iopub.execute_input": "2022-07-12T03:08:25.297157Z",
     "iopub.status.busy": "2022-07-12T03:08:25.296709Z",
     "iopub.status.idle": "2022-07-12T03:08:25.316238Z",
     "shell.execute_reply": "2022-07-12T03:08:25.315385Z",
     "shell.execute_reply.started": "2022-07-12T03:08:25.297097Z"
    },
    "papermill": {
     "duration": null,
     "end_time": null,
     "exception": null,
     "start_time": null,
     "status": "pending"
    },
    "tags": []
   },
   "outputs": [],
   "source": [
    "police_killings.to_csv(\"my_file.csv\")"
   ]
  },
  {
   "cell_type": "markdown",
   "id": "605c0e7a",
   "metadata": {
    "papermill": {
     "duration": null,
     "end_time": null,
     "exception": null,
     "start_time": null,
     "status": "pending"
    },
    "tags": []
   },
   "source": [
    "## 5. Inconsistent Data Entry"
   ]
  },
  {
   "cell_type": "markdown",
   "id": "e69f74a7",
   "metadata": {
    "papermill": {
     "duration": null,
     "end_time": null,
     "exception": null,
     "start_time": null,
     "status": "pending"
    },
    "tags": []
   },
   "source": [
    "Tabular data often have misspelt words and duplicate words which need to removed in order to have a clean data."
   ]
  },
  {
   "cell_type": "markdown",
   "id": "cd64d6cb",
   "metadata": {
    "papermill": {
     "duration": null,
     "end_time": null,
     "exception": null,
     "start_time": null,
     "status": "pending"
    },
    "tags": []
   },
   "source": [
    "The first thing we'll need to do is load in the libraries we'll be using."
   ]
  },
  {
   "cell_type": "code",
   "execution_count": null,
   "id": "8ba76727",
   "metadata": {
    "execution": {
     "iopub.execute_input": "2022-07-12T03:08:31.477314Z",
     "iopub.status.busy": "2022-07-12T03:08:31.476807Z",
     "iopub.status.idle": "2022-07-12T03:08:31.497832Z",
     "shell.execute_reply": "2022-07-12T03:08:31.497029Z",
     "shell.execute_reply.started": "2022-07-12T03:08:31.477259Z"
    },
    "papermill": {
     "duration": null,
     "end_time": null,
     "exception": null,
     "start_time": null,
     "status": "pending"
    },
    "tags": []
   },
   "outputs": [],
   "source": [
    "# modules we'll use\n",
    "import pandas as pd\n",
    "import numpy as np\n",
    "\n",
    "# helpful modules\n",
    "import fuzzywuzzy\n",
    "from fuzzywuzzy import process\n",
    "import chardet\n",
    "\n",
    "# set seed for reproducibility\n",
    "np.random.seed(0)"
   ]
  },
  {
   "cell_type": "markdown",
   "id": "33014155",
   "metadata": {
    "papermill": {
     "duration": null,
     "end_time": null,
     "exception": null,
     "start_time": null,
     "status": "pending"
    },
    "tags": []
   },
   "source": [
    "Check out what the encoding of ```PakistanSuicideAttacks Ver 11 (30-November-2017).csvfile``` should be in using the ```chardet``` command."
   ]
  },
  {
   "cell_type": "code",
   "execution_count": null,
   "id": "69ddb5a1",
   "metadata": {
    "execution": {
     "iopub.execute_input": "2022-07-12T03:08:39.101262Z",
     "iopub.status.busy": "2022-07-12T03:08:39.100888Z",
     "iopub.status.idle": "2022-07-12T03:08:39.607296Z",
     "shell.execute_reply": "2022-07-12T03:08:39.605602Z",
     "shell.execute_reply.started": "2022-07-12T03:08:39.101231Z"
    },
    "papermill": {
     "duration": null,
     "end_time": null,
     "exception": null,
     "start_time": null,
     "status": "pending"
    },
    "tags": []
   },
   "outputs": [],
   "source": [
    "# look at the first ten thousand bytes to guess the character encoding\n",
    "with open(\"../input/pakistansuicideattacks/PakistanSuicideAttacks Ver 11 (30-November-2017).csv\", 'rb') as rawdata:\n",
    "    result = chardet.detect(rawdata.read(100000))\n",
    "\n",
    "# check what the character encoding might be\n",
    "print(result)"
   ]
  },
  {
   "cell_type": "markdown",
   "id": "be556691",
   "metadata": {
    "papermill": {
     "duration": null,
     "end_time": null,
     "exception": null,
     "start_time": null,
     "status": "pending"
    },
    "tags": []
   },
   "source": [
    "And then read the file in with the correct encoding."
   ]
  },
  {
   "cell_type": "code",
   "execution_count": null,
   "id": "eab8061f",
   "metadata": {
    "execution": {
     "iopub.execute_input": "2022-07-12T03:08:52.167704Z",
     "iopub.status.busy": "2022-07-12T03:08:52.167043Z",
     "iopub.status.idle": "2022-07-12T03:08:52.179114Z",
     "shell.execute_reply": "2022-07-12T03:08:52.178009Z",
     "shell.execute_reply.started": "2022-07-12T03:08:52.167663Z"
    },
    "papermill": {
     "duration": null,
     "end_time": null,
     "exception": null,
     "start_time": null,
     "status": "pending"
    },
    "tags": []
   },
   "outputs": [],
   "source": [
    "# read in our data\n",
    "suicide_attacks = pd.read_csv(\"../input/pakistansuicideattacks/PakistanSuicideAttacks Ver 11 (30-November-2017).csv\", \n",
    "                              encoding='Windows-1252')"
   ]
  },
  {
   "cell_type": "markdown",
   "id": "190f47f1",
   "metadata": {
    "papermill": {
     "duration": null,
     "end_time": null,
     "exception": null,
     "start_time": null,
     "status": "pending"
    },
    "tags": []
   },
   "source": [
    "Take a moment to look at the data and get familiar with it."
   ]
  },
  {
   "cell_type": "markdown",
   "id": "f5e7a14a",
   "metadata": {
    "papermill": {
     "duration": null,
     "end_time": null,
     "exception": null,
     "start_time": null,
     "status": "pending"
    },
    "tags": []
   },
   "source": [
    "### 5.1 Preliminary text processing"
   ]
  },
  {
   "cell_type": "markdown",
   "id": "0ae32aff",
   "metadata": {
    "papermill": {
     "duration": null,
     "end_time": null,
     "exception": null,
     "start_time": null,
     "status": "pending"
    },
    "tags": []
   },
   "source": [
    "I'm interested in cleaning up the \"Province\" column to make sure there's no data entry inconsistencies in it. We could go through and check each row by hand, of course, and hand-correct inconsistencies when we find them. There's a more efficient way to do this though!"
   ]
  },
  {
   "cell_type": "code",
   "execution_count": null,
   "id": "130671ff",
   "metadata": {
    "execution": {
     "iopub.execute_input": "2022-07-12T03:09:08.699114Z",
     "iopub.status.busy": "2022-07-12T03:09:08.698740Z",
     "iopub.status.idle": "2022-07-12T03:09:08.708277Z",
     "shell.execute_reply": "2022-07-12T03:09:08.707171Z",
     "shell.execute_reply.started": "2022-07-12T03:09:08.699084Z"
    },
    "papermill": {
     "duration": null,
     "end_time": null,
     "exception": null,
     "start_time": null,
     "status": "pending"
    },
    "tags": []
   },
   "outputs": [],
   "source": [
    "# get all the unique values in the 'Province' column\n",
    "provinces = suicide_attacks['Province'].unique()\n",
    "\n",
    "# sort them alphabetically and then take a closer look\n",
    "provinces.sort()\n",
    "provinces"
   ]
  },
  {
   "cell_type": "markdown",
   "id": "76ca9353",
   "metadata": {
    "papermill": {
     "duration": null,
     "end_time": null,
     "exception": null,
     "start_time": null,
     "status": "pending"
    },
    "tags": []
   },
   "source": [
    "Just looking at this, I can see some problems due to inconsistent data entry: 'Balochistan' and 'Baluchistan', for example.\n",
    "\n",
    "The first thing I'm going to do is make everything lower case (I can change it back at the end if I like) and remove any white spaces at the beginning and end of cells. Inconsistencies in capitalizations and trailing white spaces are very common in text data and you can fix a good 80% of your text data entry inconsistencies by doing this."
   ]
  },
  {
   "cell_type": "code",
   "execution_count": null,
   "id": "c6e72ba2",
   "metadata": {
    "execution": {
     "iopub.execute_input": "2022-07-12T03:09:13.978841Z",
     "iopub.status.busy": "2022-07-12T03:09:13.978449Z",
     "iopub.status.idle": "2022-07-12T03:09:13.986712Z",
     "shell.execute_reply": "2022-07-12T03:09:13.985421Z",
     "shell.execute_reply.started": "2022-07-12T03:09:13.978808Z"
    },
    "papermill": {
     "duration": null,
     "end_time": null,
     "exception": null,
     "start_time": null,
     "status": "pending"
    },
    "tags": []
   },
   "outputs": [],
   "source": [
    "# convert to lower case\n",
    "suicide_attacks['Province'] = suicide_attacks['Province'].str.lower()\n",
    "# remove trailing white spaces\n",
    "suicide_attacks['Province'] = suicide_attacks['Province'].str.strip()"
   ]
  },
  {
   "cell_type": "markdown",
   "id": "f1d8ce8e",
   "metadata": {
    "papermill": {
     "duration": null,
     "end_time": null,
     "exception": null,
     "start_time": null,
     "status": "pending"
    },
    "tags": []
   },
   "source": [
    "### 5.2 Using fuzzy match to correct inconsistent data entry"
   ]
  },
  {
   "cell_type": "markdown",
   "id": "31422eb1",
   "metadata": {
    "papermill": {
     "duration": null,
     "end_time": null,
     "exception": null,
     "start_time": null,
     "status": "pending"
    },
    "tags": []
   },
   "source": [
    "Alright, let's take another look at the province column and see if there's any more data cleaning we need to do."
   ]
  },
  {
   "cell_type": "code",
   "execution_count": null,
   "id": "b7189cd4",
   "metadata": {
    "execution": {
     "iopub.execute_input": "2022-07-12T03:09:19.206620Z",
     "iopub.status.busy": "2022-07-12T03:09:19.206268Z",
     "iopub.status.idle": "2022-07-12T03:09:19.215236Z",
     "shell.execute_reply": "2022-07-12T03:09:19.213815Z",
     "shell.execute_reply.started": "2022-07-12T03:09:19.206592Z"
    },
    "papermill": {
     "duration": null,
     "end_time": null,
     "exception": null,
     "start_time": null,
     "status": "pending"
    },
    "tags": []
   },
   "outputs": [],
   "source": [
    "# get all the unique values in the 'City' column\n",
    "provinces = suicide_attacks['Province'].unique()\n",
    "\n",
    "# sort them alphabetically and then take a closer look\n",
    "provinces.sort()\n",
    "provinces"
   ]
  },
  {
   "cell_type": "markdown",
   "id": "5c912d58",
   "metadata": {
    "papermill": {
     "duration": null,
     "end_time": null,
     "exception": null,
     "start_time": null,
     "status": "pending"
    },
    "tags": []
   },
   "source": [
    "It does look like there are some remaining inconsistencies: 'balochistan' and 'baluchistan' should probably be the same.\n",
    "\n",
    "I'm going to use the [fuzzywuzzy](https://github.com/seatgeek/fuzzywuzzy) package to help identify which string are closest to each other. This dataset is small enough that we could probably could correct errors by hand, but that approach doesn't scale well. (Would you want to correct a thousand errors by hand? What about ten thousand? Automating things as early as possible is generally a good idea. Plus, it’s fun! :)\n",
    "\n",
    ">Fuzzy matching: The process of automatically finding text strings that are very similar to the target string. In general, a string is considered \"closer\" to another one the fewer characters you'd need to change if you were transforming one string into another. So \"apple\" and \"snapple\" are two changes away from each other (add \"s\" and \"n\") while \"in\" and \"on\" and one change away (rplace \"i\" with \"o\"). You won't always be able to rely on fuzzy matching 100%, but it will usually end up saving you at least a little time.\n",
    "\n",
    "Fuzzywuzzy returns a ratio given two strings. The closer the ratio is to 100, the smaller the edit distance between the two strings. Here, we're going to get the ten strings from our list of cities that have the closest distance to \"balochistan\"."
   ]
  },
  {
   "cell_type": "code",
   "execution_count": null,
   "id": "7807f668",
   "metadata": {
    "execution": {
     "iopub.execute_input": "2022-07-12T03:09:25.239994Z",
     "iopub.status.busy": "2022-07-12T03:09:25.239011Z",
     "iopub.status.idle": "2022-07-12T03:09:25.246751Z",
     "shell.execute_reply": "2022-07-12T03:09:25.246058Z",
     "shell.execute_reply.started": "2022-07-12T03:09:25.239952Z"
    },
    "papermill": {
     "duration": null,
     "end_time": null,
     "exception": null,
     "start_time": null,
     "status": "pending"
    },
    "tags": []
   },
   "outputs": [],
   "source": [
    "# get the top 10 closest matches to \"d.i khan\"\n",
    "matches = fuzzywuzzy.process.extract(\"balochistan\", provinces, limit=10, scorer=fuzzywuzzy.fuzz.token_sort_ratio)\n",
    "\n",
    "# take a look at them\n",
    "matches"
   ]
  },
  {
   "cell_type": "markdown",
   "id": "52fad0bb",
   "metadata": {
    "papermill": {
     "duration": null,
     "end_time": null,
     "exception": null,
     "start_time": null,
     "status": "pending"
    },
    "tags": []
   },
   "source": [
    "We can see that two of the items in the provinces are very close to \"balcohistan\": \"balochistan\" and \"balcuhistan\". Let's replace all rows in our Province column that have a ratio of > 90 with \"balochistan\".\n",
    "\n",
    "To do this, I'm going to write a function. (It's a good idea to write a general purpose function you can reuse if you think you might have to do a specific task more than once or twice. This keeps you from having to copy and paste code too often, which saves time and can help prevent mistakes.)"
   ]
  },
  {
   "cell_type": "code",
   "execution_count": null,
   "id": "729914bd",
   "metadata": {
    "execution": {
     "iopub.execute_input": "2022-07-12T03:09:36.733508Z",
     "iopub.status.busy": "2022-07-12T03:09:36.733110Z",
     "iopub.status.idle": "2022-07-12T03:09:36.740090Z",
     "shell.execute_reply": "2022-07-12T03:09:36.739349Z",
     "shell.execute_reply.started": "2022-07-12T03:09:36.733478Z"
    },
    "papermill": {
     "duration": null,
     "end_time": null,
     "exception": null,
     "start_time": null,
     "status": "pending"
    },
    "tags": []
   },
   "outputs": [],
   "source": [
    "# function to replace rows in the provided column of the provided dataframe\n",
    "# that match the provided string above the provided ratio with the provided string\n",
    "def replace_matches_in_column(df, column, string_to_match, min_ratio = 90):\n",
    "    # get a list of unique strings\n",
    "    strings = df[column].unique()\n",
    "    \n",
    "    # get the top 10 closest matches to our input string\n",
    "    matches = fuzzywuzzy.process.extract(string_to_match, strings, \n",
    "                                         limit=10, scorer=fuzzywuzzy.fuzz.token_sort_ratio)\n",
    "\n",
    "    # only get matches with a ratio > 90\n",
    "    close_matches = [matches[0] for matches in matches if matches[1] >= min_ratio]\n",
    "\n",
    "    # get the rows of all the close matches in our dataframe\n",
    "    rows_with_matches = df[column].isin(close_matches)\n",
    "\n",
    "    # replace all rows with close matches with the input matches \n",
    "    df.loc[rows_with_matches, column] = string_to_match\n",
    "    \n",
    "    # let us know the function's done\n",
    "    print(\"All done!\")"
   ]
  },
  {
   "cell_type": "markdown",
   "id": "310ecfa2",
   "metadata": {
    "papermill": {
     "duration": null,
     "end_time": null,
     "exception": null,
     "start_time": null,
     "status": "pending"
    },
    "tags": []
   },
   "source": [
    "Now that we have a function, we can put it to the test!"
   ]
  },
  {
   "cell_type": "code",
   "execution_count": null,
   "id": "4e6d5d35",
   "metadata": {
    "execution": {
     "iopub.execute_input": "2022-07-12T03:10:15.665414Z",
     "iopub.status.busy": "2022-07-12T03:10:15.664997Z",
     "iopub.status.idle": "2022-07-12T03:10:15.672436Z",
     "shell.execute_reply": "2022-07-12T03:10:15.671509Z",
     "shell.execute_reply.started": "2022-07-12T03:10:15.665380Z"
    },
    "papermill": {
     "duration": null,
     "end_time": null,
     "exception": null,
     "start_time": null,
     "status": "pending"
    },
    "tags": []
   },
   "outputs": [],
   "source": [
    "# use the function we just wrote to replace close matches to \"d.i khan\" with \"d.i khan\"\n",
    "replace_matches_in_column(df=suicide_attacks, column='Province', string_to_match=\"Balochistan\")"
   ]
  },
  {
   "cell_type": "markdown",
   "id": "64b336dc",
   "metadata": {
    "papermill": {
     "duration": null,
     "end_time": null,
     "exception": null,
     "start_time": null,
     "status": "pending"
    },
    "tags": []
   },
   "source": [
    "And now let's can check the unique values in our Province column again and make sure we've tidied up balochistan correctly."
   ]
  },
  {
   "cell_type": "code",
   "execution_count": null,
   "id": "ae6dbcdc",
   "metadata": {
    "execution": {
     "iopub.execute_input": "2022-07-12T03:10:25.021195Z",
     "iopub.status.busy": "2022-07-12T03:10:25.020818Z",
     "iopub.status.idle": "2022-07-12T03:10:25.027931Z",
     "shell.execute_reply": "2022-07-12T03:10:25.027190Z",
     "shell.execute_reply.started": "2022-07-12T03:10:25.021164Z"
    },
    "papermill": {
     "duration": null,
     "end_time": null,
     "exception": null,
     "start_time": null,
     "status": "pending"
    },
    "tags": []
   },
   "outputs": [],
   "source": [
    "# get all the unique values in the 'City' column\n",
    "provinces = suicide_attacks['Province'].unique()\n",
    "\n",
    "# sort them alphabetically and then take a closer look\n",
    "provinces.sort()\n",
    "provinces"
   ]
  },
  {
   "cell_type": "markdown",
   "id": "a6808521",
   "metadata": {
    "papermill": {
     "duration": null,
     "end_time": null,
     "exception": null,
     "start_time": null,
     "status": "pending"
    },
    "tags": []
   },
   "source": [
    "Excellent! Now we only have \"balochistan\" in our dataframe and we didn't have to change anything by hand."
   ]
  }
 ],
 "metadata": {
  "kernelspec": {
   "display_name": "Python 3",
   "language": "python",
   "name": "python3"
  },
  "language_info": {
   "codemirror_mode": {
    "name": "ipython",
    "version": 3
   },
   "file_extension": ".py",
   "mimetype": "text/x-python",
   "name": "python",
   "nbconvert_exporter": "python",
   "pygments_lexer": "ipython3",
   "version": "3.7.12"
  },
  "papermill": {
   "default_parameters": {},
   "duration": 27.349816,
   "end_time": "2022-07-12T03:11:40.248126",
   "environment_variables": {},
   "exception": true,
   "input_path": "__notebook__.ipynb",
   "output_path": "__notebook__.ipynb",
   "parameters": {},
   "start_time": "2022-07-12T03:11:12.898310",
   "version": "2.3.4"
  }
 },
 "nbformat": 4,
 "nbformat_minor": 5
}
